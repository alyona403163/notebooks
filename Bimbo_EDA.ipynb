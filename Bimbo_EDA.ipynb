{
 "cells": [
  {
   "cell_type": "markdown",
   "metadata": {},
   "source": [
    "https://www.kaggle.com/c/grupo-bimbo-inventory-demand/overview"
   ]
  },
  {
   "cell_type": "code",
   "execution_count": 1,
   "metadata": {
    "pycharm": {
     "name": "#%%"
    }
   },
   "outputs": [],
   "source": [
    "import pandas as pd\n",
    "import numpy as np\n",
    "import os\n",
    "from itertools import combinations\n",
    "from tqdm import tqdm_notebook\n",
    "import pickle\n",
    "from collections import defaultdict\n",
    "import seaborn as sns\n",
    "import matplotlib.pyplot as plt\n",
    "\n",
    "%matplotlib inline"
   ]
  },
  {
   "cell_type": "code",
   "execution_count": 3,
   "metadata": {},
   "outputs": [],
   "source": [
    "clients_table = pd.read_csv('../data/grupo-bimbo-inventory-demand/cliente_tabla.csv', index_col=0)\n",
    "products_table = pd.read_csv('../data/grupo-bimbo-inventory-demand/producto_tabla.csv', index_col=0)\n",
    "town_state_table = pd.read_csv('../data/grupo-bimbo-inventory-demand/town_state.csv', index_col=0)"
   ]
  },
  {
   "cell_type": "code",
   "execution_count": 4,
   "metadata": {},
   "outputs": [],
   "source": [
    "# Переименуем колонки основного датасета для удобства\n",
    "train_cols_map = {'Semana': 'Week', 'Agencia_ID': 'Sales_depot_ID', 'Canal_ID': 'Sales_channel_ID',\n",
    "                  'Ruta_SAK': 'Route_ID', 'Cliente_ID': 'Client_ID', 'NombreCliente': 'Client_name',\n",
    "                  'Producto_ID': 'Product_ID', 'NombreProducto': 'Product_name',\n",
    "                  'Venta_uni_hoy': 'Sales_unit_this_week', 'Venta_hoy': 'Sales_this_week_pesos',\n",
    "                  'Dev_uni_proxima': 'Returns_unit_next_week', 'Dev_proxima': 'Returns_next_week_pesos',\n",
    "                  'Demanda_uni_equil': 'Adjusted_demand'\n",
    "               }"
   ]
  },
  {
   "cell_type": "code",
   "execution_count": 5,
   "metadata": {},
   "outputs": [],
   "source": [
    "types = {'Semana':np.uint8, 'Agencia_ID':np.uint16, 'Canal_ID':np.uint8,\n",
    "         'Ruta_SAK':np.uint16, 'Cliente_ID':np.uint32, 'Producto_ID':np.uint16,\n",
    "         'Venta_uni_hoy': np.uint16, 'Venta_hoy': np.float32,\n",
    "         'Demanda_uni_equil':np.uint32}\n",
    "\n",
    "train_data = pd.read_csv('../data/grupo-bimbo-inventory-demand/train.csv', dtype=types)"
   ]
  },
  {
   "cell_type": "code",
   "execution_count": 6,
   "metadata": {},
   "outputs": [],
   "source": [
    "train_data.rename(columns=train_cols_map, inplace=True)"
   ]
  },
  {
   "cell_type": "code",
   "execution_count": 7,
   "metadata": {},
   "outputs": [
    {
     "data": {
      "text/html": [
       "<div>\n",
       "<style scoped>\n",
       "    .dataframe tbody tr th:only-of-type {\n",
       "        vertical-align: middle;\n",
       "    }\n",
       "\n",
       "    .dataframe tbody tr th {\n",
       "        vertical-align: top;\n",
       "    }\n",
       "\n",
       "    .dataframe thead th {\n",
       "        text-align: right;\n",
       "    }\n",
       "</style>\n",
       "<table border=\"1\" class=\"dataframe\">\n",
       "  <thead>\n",
       "    <tr style=\"text-align: right;\">\n",
       "      <th></th>\n",
       "      <th>Week</th>\n",
       "      <th>Sales_depot_ID</th>\n",
       "      <th>Sales_channel_ID</th>\n",
       "      <th>Route_ID</th>\n",
       "      <th>Client_ID</th>\n",
       "      <th>Product_ID</th>\n",
       "      <th>Sales_unit_this_week</th>\n",
       "      <th>Sales_this_week_pesos</th>\n",
       "      <th>Returns_unit_next_week</th>\n",
       "      <th>Returns_next_week_pesos</th>\n",
       "      <th>Adjusted_demand</th>\n",
       "    </tr>\n",
       "  </thead>\n",
       "  <tbody>\n",
       "    <tr>\n",
       "      <td>0</td>\n",
       "      <td>3</td>\n",
       "      <td>1110</td>\n",
       "      <td>7</td>\n",
       "      <td>3301</td>\n",
       "      <td>15766</td>\n",
       "      <td>1212</td>\n",
       "      <td>3</td>\n",
       "      <td>25.139999</td>\n",
       "      <td>0</td>\n",
       "      <td>0.0</td>\n",
       "      <td>3</td>\n",
       "    </tr>\n",
       "    <tr>\n",
       "      <td>1</td>\n",
       "      <td>3</td>\n",
       "      <td>1110</td>\n",
       "      <td>7</td>\n",
       "      <td>3301</td>\n",
       "      <td>15766</td>\n",
       "      <td>1216</td>\n",
       "      <td>4</td>\n",
       "      <td>33.520000</td>\n",
       "      <td>0</td>\n",
       "      <td>0.0</td>\n",
       "      <td>4</td>\n",
       "    </tr>\n",
       "    <tr>\n",
       "      <td>2</td>\n",
       "      <td>3</td>\n",
       "      <td>1110</td>\n",
       "      <td>7</td>\n",
       "      <td>3301</td>\n",
       "      <td>15766</td>\n",
       "      <td>1238</td>\n",
       "      <td>4</td>\n",
       "      <td>39.320000</td>\n",
       "      <td>0</td>\n",
       "      <td>0.0</td>\n",
       "      <td>4</td>\n",
       "    </tr>\n",
       "    <tr>\n",
       "      <td>3</td>\n",
       "      <td>3</td>\n",
       "      <td>1110</td>\n",
       "      <td>7</td>\n",
       "      <td>3301</td>\n",
       "      <td>15766</td>\n",
       "      <td>1240</td>\n",
       "      <td>4</td>\n",
       "      <td>33.520000</td>\n",
       "      <td>0</td>\n",
       "      <td>0.0</td>\n",
       "      <td>4</td>\n",
       "    </tr>\n",
       "    <tr>\n",
       "      <td>4</td>\n",
       "      <td>3</td>\n",
       "      <td>1110</td>\n",
       "      <td>7</td>\n",
       "      <td>3301</td>\n",
       "      <td>15766</td>\n",
       "      <td>1242</td>\n",
       "      <td>3</td>\n",
       "      <td>22.920000</td>\n",
       "      <td>0</td>\n",
       "      <td>0.0</td>\n",
       "      <td>3</td>\n",
       "    </tr>\n",
       "  </tbody>\n",
       "</table>\n",
       "</div>"
      ],
      "text/plain": [
       "   Week  Sales_depot_ID  Sales_channel_ID  Route_ID  Client_ID  Product_ID  \\\n",
       "0     3            1110                 7      3301      15766        1212   \n",
       "1     3            1110                 7      3301      15766        1216   \n",
       "2     3            1110                 7      3301      15766        1238   \n",
       "3     3            1110                 7      3301      15766        1240   \n",
       "4     3            1110                 7      3301      15766        1242   \n",
       "\n",
       "   Sales_unit_this_week  Sales_this_week_pesos  Returns_unit_next_week  \\\n",
       "0                     3              25.139999                       0   \n",
       "1                     4              33.520000                       0   \n",
       "2                     4              39.320000                       0   \n",
       "3                     4              33.520000                       0   \n",
       "4                     3              22.920000                       0   \n",
       "\n",
       "   Returns_next_week_pesos  Adjusted_demand  \n",
       "0                      0.0                3  \n",
       "1                      0.0                4  \n",
       "2                      0.0                4  \n",
       "3                      0.0                4  \n",
       "4                      0.0                3  "
      ]
     },
     "execution_count": 7,
     "metadata": {},
     "output_type": "execute_result"
    }
   ],
   "source": [
    "train_data.head()"
   ]
  },
  {
   "cell_type": "code",
   "execution_count": 9,
   "metadata": {},
   "outputs": [
    {
     "data": {
      "text/plain": [
       "(74180464, 11)"
      ]
     },
     "execution_count": 9,
     "metadata": {},
     "output_type": "execute_result"
    }
   ],
   "source": [
    "train_data.shape"
   ]
  },
  {
   "cell_type": "markdown",
   "metadata": {},
   "source": [
    "У нас есть более 74 млн. записей за 7 недель в тренировочном датасете. Есть также:\n",
    "* количество продаж в штуках и в пессо,\n",
    "* количество возвратов в штуках и в пессо\n",
    "* целевая переменная (Adjusted_demand)\n",
    "\n",
    "Нам нужно предсказывать спрос на определенный продукт в определенном магазине определенным клиентом за следующую неделю (Product_ID x Sales_depot_ID x Client_ID). Столбцы с суффиксом ID - категориальные, остальные - числовые. В тестовом наборе данных есть только категориальные столбцы."
   ]
  },
  {
   "cell_type": "code",
   "execution_count": 10,
   "metadata": {},
   "outputs": [
    {
     "data": {
      "text/plain": [
       "array([3, 4, 5, 6, 7, 8, 9], dtype=uint64)"
      ]
     },
     "execution_count": 10,
     "metadata": {},
     "output_type": "execute_result"
    }
   ],
   "source": [
    "train_data['Week'].unique()"
   ]
  },
  {
   "cell_type": "code",
   "execution_count": 11,
   "metadata": {},
   "outputs": [
    {
     "name": "stdout",
     "output_type": "stream",
     "text": [
      "Сколько уникальных значений в колонках *_ID?\n",
      "\n",
      "Sales_depot_ID: 552\n",
      "Sales_channel_ID: 9\n",
      "Route_ID: 3603\n",
      "Client_ID: 880604\n",
      "Product_ID: 1799\n"
     ]
    }
   ],
   "source": [
    "print('Сколько уникальных значений в колонках *_ID?\\n')\n",
    "for c in ['Sales_depot_ID', 'Sales_channel_ID', 'Route_ID', 'Client_ID', 'Product_ID']:\n",
    "    print(f'{c}: {train_data[c].nunique()}')"
   ]
  },
  {
   "cell_type": "markdown",
   "metadata": {},
   "source": [
    "## Клиенты"
   ]
  },
  {
   "cell_type": "markdown",
   "metadata": {},
   "source": [
    "Самая многочисленная категория - Client_ID (более 880 тысяч значений). Есть табличка, связывающая ID и имя клиента. В комментариях к заданию написано, что эти данные сильно зашумлены."
   ]
  },
  {
   "cell_type": "code",
   "execution_count": 12,
   "metadata": {},
   "outputs": [
    {
     "data": {
      "text/html": [
       "<div>\n",
       "<style scoped>\n",
       "    .dataframe tbody tr th:only-of-type {\n",
       "        vertical-align: middle;\n",
       "    }\n",
       "\n",
       "    .dataframe tbody tr th {\n",
       "        vertical-align: top;\n",
       "    }\n",
       "\n",
       "    .dataframe thead th {\n",
       "        text-align: right;\n",
       "    }\n",
       "</style>\n",
       "<table border=\"1\" class=\"dataframe\">\n",
       "  <thead>\n",
       "    <tr style=\"text-align: right;\">\n",
       "      <th></th>\n",
       "      <th>NombreCliente</th>\n",
       "    </tr>\n",
       "    <tr>\n",
       "      <th>Cliente_ID</th>\n",
       "      <th></th>\n",
       "    </tr>\n",
       "  </thead>\n",
       "  <tbody>\n",
       "    <tr>\n",
       "      <td>0</td>\n",
       "      <td>SIN NOMBRE</td>\n",
       "    </tr>\n",
       "    <tr>\n",
       "      <td>1</td>\n",
       "      <td>OXXO XINANTECATL</td>\n",
       "    </tr>\n",
       "    <tr>\n",
       "      <td>2</td>\n",
       "      <td>SIN NOMBRE</td>\n",
       "    </tr>\n",
       "    <tr>\n",
       "      <td>3</td>\n",
       "      <td>EL MORENO</td>\n",
       "    </tr>\n",
       "    <tr>\n",
       "      <td>4</td>\n",
       "      <td>SDN SER  DE ALIM  CUERPO SA CIA  DE INT</td>\n",
       "    </tr>\n",
       "  </tbody>\n",
       "</table>\n",
       "</div>"
      ],
      "text/plain": [
       "                                      NombreCliente\n",
       "Cliente_ID                                         \n",
       "0                                        SIN NOMBRE\n",
       "1                                  OXXO XINANTECATL\n",
       "2                                        SIN NOMBRE\n",
       "3                                         EL MORENO\n",
       "4           SDN SER  DE ALIM  CUERPO SA CIA  DE INT"
      ]
     },
     "execution_count": 12,
     "metadata": {},
     "output_type": "execute_result"
    }
   ],
   "source": [
    "clients_table.head()"
   ]
  },
  {
   "cell_type": "code",
   "execution_count": 13,
   "metadata": {},
   "outputs": [
    {
     "data": {
      "text/plain": [
       "(935362, 1)"
      ]
     },
     "execution_count": 13,
     "metadata": {},
     "output_type": "execute_result"
    }
   ],
   "source": [
    "clients_table.shape"
   ]
  },
  {
   "cell_type": "code",
   "execution_count": 14,
   "metadata": {},
   "outputs": [
    {
     "data": {
      "text/plain": [
       "930500"
      ]
     },
     "execution_count": 14,
     "metadata": {},
     "output_type": "execute_result"
    }
   ],
   "source": [
    "clients_table.index.nunique()"
   ]
  },
  {
   "cell_type": "code",
   "execution_count": 15,
   "metadata": {},
   "outputs": [
    {
     "data": {
      "text/plain": [
       "311155"
      ]
     },
     "execution_count": 15,
     "metadata": {},
     "output_type": "execute_result"
    }
   ],
   "source": [
    "clients_table['NombreCliente'].nunique()"
   ]
  },
  {
   "cell_type": "markdown",
   "metadata": {},
   "source": [
    "Видим, что на 930 тыс. индексов приходится всего 311 тыс. уникальных имён. Количество уникальных индексов на 5000 меньше, чем записей в таблице. Можно сократить количество уникальных значений Client_ID в train/test датасете, выбрав только один из нескольких индексов для каждого имени и прописав его в основные таблицы. Также нужно отметить, что в таблице клиентов 935362 ID, а в train_data только 880604. Значит test_data есть Client_ID, которых нет в train_data."
   ]
  },
  {
   "cell_type": "markdown",
   "metadata": {},
   "source": [
    "Сколько единиц товара в неделю покупают клиенты?"
   ]
  },
  {
   "cell_type": "code",
   "execution_count": 16,
   "metadata": {},
   "outputs": [],
   "source": [
    "clients_units_per_week = train_data.groupby(['Client_ID']).agg({'Adjusted_demand':'sum'})/7"
   ]
  },
  {
   "cell_type": "code",
   "execution_count": 17,
   "metadata": {},
   "outputs": [
    {
     "data": {
      "text/html": [
       "<div>\n",
       "<style scoped>\n",
       "    .dataframe tbody tr th:only-of-type {\n",
       "        vertical-align: middle;\n",
       "    }\n",
       "\n",
       "    .dataframe tbody tr th {\n",
       "        vertical-align: top;\n",
       "    }\n",
       "\n",
       "    .dataframe thead th {\n",
       "        text-align: right;\n",
       "    }\n",
       "</style>\n",
       "<table border=\"1\" class=\"dataframe\">\n",
       "  <thead>\n",
       "    <tr style=\"text-align: right;\">\n",
       "      <th></th>\n",
       "      <th>Adjusted_demand</th>\n",
       "    </tr>\n",
       "    <tr>\n",
       "      <th>Client_ID</th>\n",
       "      <th></th>\n",
       "    </tr>\n",
       "  </thead>\n",
       "  <tbody>\n",
       "    <tr>\n",
       "      <td>26</td>\n",
       "      <td>911.142857</td>\n",
       "    </tr>\n",
       "    <tr>\n",
       "      <td>60</td>\n",
       "      <td>6690.000000</td>\n",
       "    </tr>\n",
       "    <tr>\n",
       "      <td>65</td>\n",
       "      <td>9819.285714</td>\n",
       "    </tr>\n",
       "    <tr>\n",
       "      <td>101</td>\n",
       "      <td>174.857143</td>\n",
       "    </tr>\n",
       "    <tr>\n",
       "      <td>105</td>\n",
       "      <td>2481.857143</td>\n",
       "    </tr>\n",
       "    <tr>\n",
       "      <td>...</td>\n",
       "      <td>...</td>\n",
       "    </tr>\n",
       "    <tr>\n",
       "      <td>11011586</td>\n",
       "      <td>584.857143</td>\n",
       "    </tr>\n",
       "    <tr>\n",
       "      <td>11693264</td>\n",
       "      <td>575.428571</td>\n",
       "    </tr>\n",
       "    <tr>\n",
       "      <td>19988629</td>\n",
       "      <td>18.714286</td>\n",
       "    </tr>\n",
       "    <tr>\n",
       "      <td>99999999</td>\n",
       "      <td>7.142857</td>\n",
       "    </tr>\n",
       "    <tr>\n",
       "      <td>2015152015</td>\n",
       "      <td>138.000000</td>\n",
       "    </tr>\n",
       "  </tbody>\n",
       "</table>\n",
       "<p>880604 rows × 1 columns</p>\n",
       "</div>"
      ],
      "text/plain": [
       "            Adjusted_demand\n",
       "Client_ID                  \n",
       "26               911.142857\n",
       "60              6690.000000\n",
       "65              9819.285714\n",
       "101              174.857143\n",
       "105             2481.857143\n",
       "...                     ...\n",
       "11011586         584.857143\n",
       "11693264         575.428571\n",
       "19988629          18.714286\n",
       "99999999           7.142857\n",
       "2015152015       138.000000\n",
       "\n",
       "[880604 rows x 1 columns]"
      ]
     },
     "execution_count": 17,
     "metadata": {},
     "output_type": "execute_result"
    }
   ],
   "source": [
    "clients_units_per_week"
   ]
  },
  {
   "cell_type": "code",
   "execution_count": 18,
   "metadata": {},
   "outputs": [
    {
     "data": {
      "text/html": [
       "<div>\n",
       "<style scoped>\n",
       "    .dataframe tbody tr th:only-of-type {\n",
       "        vertical-align: middle;\n",
       "    }\n",
       "\n",
       "    .dataframe tbody tr th {\n",
       "        vertical-align: top;\n",
       "    }\n",
       "\n",
       "    .dataframe thead th {\n",
       "        text-align: right;\n",
       "    }\n",
       "</style>\n",
       "<table border=\"1\" class=\"dataframe\">\n",
       "  <thead>\n",
       "    <tr style=\"text-align: right;\">\n",
       "      <th></th>\n",
       "      <th>Adjusted_demand</th>\n",
       "    </tr>\n",
       "  </thead>\n",
       "  <tbody>\n",
       "    <tr>\n",
       "      <td>count</td>\n",
       "      <td>8.806040e+05</td>\n",
       "    </tr>\n",
       "    <tr>\n",
       "      <td>mean</td>\n",
       "      <td>8.694057e+01</td>\n",
       "    </tr>\n",
       "    <tr>\n",
       "      <td>std</td>\n",
       "      <td>2.736530e+03</td>\n",
       "    </tr>\n",
       "    <tr>\n",
       "      <td>min</td>\n",
       "      <td>0.000000e+00</td>\n",
       "    </tr>\n",
       "    <tr>\n",
       "      <td>25%</td>\n",
       "      <td>1.128571e+01</td>\n",
       "    </tr>\n",
       "    <tr>\n",
       "      <td>50%</td>\n",
       "      <td>3.271429e+01</td>\n",
       "    </tr>\n",
       "    <tr>\n",
       "      <td>75%</td>\n",
       "      <td>8.528571e+01</td>\n",
       "    </tr>\n",
       "    <tr>\n",
       "      <td>max</td>\n",
       "      <td>2.552318e+06</td>\n",
       "    </tr>\n",
       "  </tbody>\n",
       "</table>\n",
       "</div>"
      ],
      "text/plain": [
       "       Adjusted_demand\n",
       "count     8.806040e+05\n",
       "mean      8.694057e+01\n",
       "std       2.736530e+03\n",
       "min       0.000000e+00\n",
       "25%       1.128571e+01\n",
       "50%       3.271429e+01\n",
       "75%       8.528571e+01\n",
       "max       2.552318e+06"
      ]
     },
     "execution_count": 18,
     "metadata": {},
     "output_type": "execute_result"
    }
   ],
   "source": [
    "clients_units_per_week.describe()"
   ]
  },
  {
   "cell_type": "code",
   "execution_count": 19,
   "metadata": {},
   "outputs": [
    {
     "data": {
      "text/plain": [
       "array([[<matplotlib.axes._subplots.AxesSubplot object at 0x7fd2973f5c90>]],\n",
       "      dtype=object)"
      ]
     },
     "execution_count": 19,
     "metadata": {},
     "output_type": "execute_result"
    },
    {
     "data": {
      "image/png": "[encoded data removed]",
      "text/plain": [
       "<Figure size 864x432 with 1 Axes>"
      ]
     },
     "metadata": {
      "needs_background": "light"
     },
     "output_type": "display_data"
    }
   ],
   "source": [
    "clients_units_per_week.hist(bins=100, figsize=(12,6))"
   ]
  },
  {
   "cell_type": "markdown",
   "metadata": {},
   "source": [
    "75% клиентов берут ~ 85 единиц товара, но есть отдельные клиенты, которые закупают до 2.5 милн. единиц в неделю."
   ]
  },
  {
   "cell_type": "code",
   "execution_count": 20,
   "metadata": {},
   "outputs": [
    {
     "data": {
      "text/plain": [
       "array([[<matplotlib.axes._subplots.AxesSubplot object at 0x7fd2972bfb10>]],\n",
       "      dtype=object)"
      ]
     },
     "execution_count": 20,
     "metadata": {},
     "output_type": "execute_result"
    },
    {
     "data": {
      "image/png": "[encoded data removed]",
      "text/plain": [
       "<Figure size 864x432 with 1 Axes>"
      ]
     },
     "metadata": {
      "needs_background": "light"
     },
     "output_type": "display_data"
    }
   ],
   "source": [
    "# В логарифмической шкале\n",
    "np.log(clients_units_per_week + 1).hist(bins=100, figsize=(12,6))"
   ]
  },
  {
   "cell_type": "code",
   "execution_count": 21,
   "metadata": {},
   "outputs": [
    {
     "name": "stdout",
     "output_type": "stream",
     "text": [
      "Большинство клиентов берут 48.4 единиц товаров в неделю.\n"
     ]
    }
   ],
   "source": [
    "print(f'Большинство клиентов берут {round(np.exp(3.9) - 1, 2)} единиц товаров в неделю.')"
   ]
  },
  {
   "cell_type": "code",
   "execution_count": 22,
   "metadata": {},
   "outputs": [
    {
     "data": {
      "text/html": [
       "<div>\n",
       "<style scoped>\n",
       "    .dataframe tbody tr th:only-of-type {\n",
       "        vertical-align: middle;\n",
       "    }\n",
       "\n",
       "    .dataframe tbody tr th {\n",
       "        vertical-align: top;\n",
       "    }\n",
       "\n",
       "    .dataframe thead th {\n",
       "        text-align: right;\n",
       "    }\n",
       "</style>\n",
       "<table border=\"1\" class=\"dataframe\">\n",
       "  <thead>\n",
       "    <tr style=\"text-align: right;\">\n",
       "      <th></th>\n",
       "      <th>Adjusted_demand</th>\n",
       "    </tr>\n",
       "    <tr>\n",
       "      <th>Client_ID</th>\n",
       "      <th></th>\n",
       "    </tr>\n",
       "  </thead>\n",
       "  <tbody>\n",
       "    <tr>\n",
       "      <td>19260</td>\n",
       "      <td>2.211171e+04</td>\n",
       "    </tr>\n",
       "    <tr>\n",
       "      <td>5903732</td>\n",
       "      <td>2.323329e+04</td>\n",
       "    </tr>\n",
       "    <tr>\n",
       "      <td>1200400</td>\n",
       "      <td>2.337014e+04</td>\n",
       "    </tr>\n",
       "    <tr>\n",
       "      <td>653037</td>\n",
       "      <td>2.342643e+04</td>\n",
       "    </tr>\n",
       "    <tr>\n",
       "      <td>2502084</td>\n",
       "      <td>2.591529e+04</td>\n",
       "    </tr>\n",
       "    <tr>\n",
       "      <td>653124</td>\n",
       "      <td>2.964957e+04</td>\n",
       "    </tr>\n",
       "    <tr>\n",
       "      <td>1216931</td>\n",
       "      <td>3.321029e+04</td>\n",
       "    </tr>\n",
       "    <tr>\n",
       "      <td>652850</td>\n",
       "      <td>6.286271e+04</td>\n",
       "    </tr>\n",
       "    <tr>\n",
       "      <td>653039</td>\n",
       "      <td>1.276794e+05</td>\n",
       "    </tr>\n",
       "    <tr>\n",
       "      <td>653378</td>\n",
       "      <td>2.552318e+06</td>\n",
       "    </tr>\n",
       "  </tbody>\n",
       "</table>\n",
       "</div>"
      ],
      "text/plain": [
       "           Adjusted_demand\n",
       "Client_ID                 \n",
       "19260         2.211171e+04\n",
       "5903732       2.323329e+04\n",
       "1200400       2.337014e+04\n",
       "653037        2.342643e+04\n",
       "2502084       2.591529e+04\n",
       "653124        2.964957e+04\n",
       "1216931       3.321029e+04\n",
       "652850        6.286271e+04\n",
       "653039        1.276794e+05\n",
       "653378        2.552318e+06"
      ]
     },
     "execution_count": 22,
     "metadata": {},
     "output_type": "execute_result"
    }
   ],
   "source": [
    "clients_units_per_week.sort_values('Adjusted_demand').tail(10)"
   ]
  },
  {
   "cell_type": "code",
   "execution_count": 23,
   "metadata": {},
   "outputs": [
    {
     "data": {
      "text/html": [
       "<div>\n",
       "<style scoped>\n",
       "    .dataframe tbody tr th:only-of-type {\n",
       "        vertical-align: middle;\n",
       "    }\n",
       "\n",
       "    .dataframe tbody tr th {\n",
       "        vertical-align: top;\n",
       "    }\n",
       "\n",
       "    .dataframe thead th {\n",
       "        text-align: right;\n",
       "    }\n",
       "</style>\n",
       "<table border=\"1\" class=\"dataframe\">\n",
       "  <thead>\n",
       "    <tr style=\"text-align: right;\">\n",
       "      <th></th>\n",
       "      <th>NombreCliente</th>\n",
       "    </tr>\n",
       "    <tr>\n",
       "      <th>Cliente_ID</th>\n",
       "      <th></th>\n",
       "    </tr>\n",
       "  </thead>\n",
       "  <tbody>\n",
       "    <tr>\n",
       "      <td>19260</td>\n",
       "      <td>WAL MART TEPEYAC</td>\n",
       "    </tr>\n",
       "    <tr>\n",
       "      <td>5903732</td>\n",
       "      <td>WAL MART SUPER CENTER DOMINGO DIEZ CUERNAVACA</td>\n",
       "    </tr>\n",
       "    <tr>\n",
       "      <td>1200400</td>\n",
       "      <td>CHEDRAUI POLANCO</td>\n",
       "    </tr>\n",
       "    <tr>\n",
       "      <td>653037</td>\n",
       "      <td>OAXACA REMISION</td>\n",
       "    </tr>\n",
       "    <tr>\n",
       "      <td>2502084</td>\n",
       "      <td>CEDIS CADENA COMERCIAL OXXO</td>\n",
       "    </tr>\n",
       "    <tr>\n",
       "      <td>653124</td>\n",
       "      <td>TAMAULIPAS REMISION</td>\n",
       "    </tr>\n",
       "    <tr>\n",
       "      <td>1216931</td>\n",
       "      <td>OXXO TECNOLOGICO</td>\n",
       "    </tr>\n",
       "    <tr>\n",
       "      <td>652850</td>\n",
       "      <td>JALISCO REMISION</td>\n",
       "    </tr>\n",
       "    <tr>\n",
       "      <td>653039</td>\n",
       "      <td>QUERETARO DE ARTEAGA REMISION</td>\n",
       "    </tr>\n",
       "    <tr>\n",
       "      <td>653378</td>\n",
       "      <td>PUEBLA REMISION</td>\n",
       "    </tr>\n",
       "  </tbody>\n",
       "</table>\n",
       "</div>"
      ],
      "text/plain": [
       "                                            NombreCliente\n",
       "Cliente_ID                                               \n",
       "19260                                    WAL MART TEPEYAC\n",
       "5903732     WAL MART SUPER CENTER DOMINGO DIEZ CUERNAVACA\n",
       "1200400                                  CHEDRAUI POLANCO\n",
       "653037                                    OAXACA REMISION\n",
       "2502084                       CEDIS CADENA COMERCIAL OXXO\n",
       "653124                                TAMAULIPAS REMISION\n",
       "1216931                                  OXXO TECNOLOGICO\n",
       "652850                                   JALISCO REMISION\n",
       "653039                      QUERETARO DE ARTEAGA REMISION\n",
       "653378                                    PUEBLA REMISION"
      ]
     },
     "execution_count": 23,
     "metadata": {},
     "output_type": "execute_result"
    }
   ],
   "source": [
    "# Топ-10 самых крупных клиентов\n",
    "inds = clients_units_per_week.sort_values('Adjusted_demand').tail(10).index\n",
    "clients_table.loc[inds]"
   ]
  },
  {
   "cell_type": "code",
   "execution_count": 24,
   "metadata": {},
   "outputs": [
    {
     "data": {
      "text/plain": [
       "816"
      ]
     },
     "execution_count": 24,
     "metadata": {},
     "output_type": "execute_result"
    }
   ],
   "source": [
    "# Сколько клиентов не покупают вообще ничего?\n",
    "(clients_units_per_week['Adjusted_demand'] == 0).sum()"
   ]
  },
  {
   "cell_type": "code",
   "execution_count": 25,
   "metadata": {},
   "outputs": [
    {
     "data": {
      "text/plain": [
       "<matplotlib.axes._subplots.AxesSubplot at 0x7fd296656210>"
      ]
     },
     "execution_count": 25,
     "metadata": {},
     "output_type": "execute_result"
    },
    {
     "data": {
      "image/png": "[encoded data removed]",
      "text/plain": [
       "<Figure size 432x288 with 1 Axes>"
      ]
     },
     "metadata": {
      "needs_background": "light"
     },
     "output_type": "display_data"
    }
   ],
   "source": [
    "train_data.groupby(['Week']).agg({'Client_ID':'nunique'}).plot(kind='bar', ylim=(700000, 800000))"
   ]
  },
  {
   "cell_type": "markdown",
   "metadata": {},
   "source": [
    "Количество уникальных клиентов меняется от недели к неделе. Значит далеко не все клиенты закупаются регулярно раз в неделю."
   ]
  },
  {
   "cell_type": "markdown",
   "metadata": {},
   "source": [
    "## Продукты"
   ]
  },
  {
   "cell_type": "code",
   "execution_count": 26,
   "metadata": {},
   "outputs": [
    {
     "data": {
      "text/html": [
       "<div>\n",
       "<style scoped>\n",
       "    .dataframe tbody tr th:only-of-type {\n",
       "        vertical-align: middle;\n",
       "    }\n",
       "\n",
       "    .dataframe tbody tr th {\n",
       "        vertical-align: top;\n",
       "    }\n",
       "\n",
       "    .dataframe thead th {\n",
       "        text-align: right;\n",
       "    }\n",
       "</style>\n",
       "<table border=\"1\" class=\"dataframe\">\n",
       "  <thead>\n",
       "    <tr style=\"text-align: right;\">\n",
       "      <th></th>\n",
       "      <th>NombreProducto</th>\n",
       "    </tr>\n",
       "    <tr>\n",
       "      <th>Producto_ID</th>\n",
       "      <th></th>\n",
       "    </tr>\n",
       "  </thead>\n",
       "  <tbody>\n",
       "    <tr>\n",
       "      <td>0</td>\n",
       "      <td>NO IDENTIFICADO 0</td>\n",
       "    </tr>\n",
       "    <tr>\n",
       "      <td>9</td>\n",
       "      <td>Capuccino Moka 750g NES 9</td>\n",
       "    </tr>\n",
       "    <tr>\n",
       "      <td>41</td>\n",
       "      <td>Bimbollos Ext sAjonjoli 6p 480g BIM 41</td>\n",
       "    </tr>\n",
       "    <tr>\n",
       "      <td>53</td>\n",
       "      <td>Burritos Sincro 170g CU LON 53</td>\n",
       "    </tr>\n",
       "    <tr>\n",
       "      <td>72</td>\n",
       "      <td>Div Tira Mini Doradita 4p 45g TR 72</td>\n",
       "    </tr>\n",
       "    <tr>\n",
       "      <td>73</td>\n",
       "      <td>Pan Multigrano Linaza 540g BIM 73</td>\n",
       "    </tr>\n",
       "    <tr>\n",
       "      <td>98</td>\n",
       "      <td>Tostado Integral 180g WON 98</td>\n",
       "    </tr>\n",
       "    <tr>\n",
       "      <td>99</td>\n",
       "      <td>Pan Blanco 567g WON 99</td>\n",
       "    </tr>\n",
       "    <tr>\n",
       "      <td>100</td>\n",
       "      <td>Super Pan Bco Ajonjoli 680g SP WON 100</td>\n",
       "    </tr>\n",
       "    <tr>\n",
       "      <td>106</td>\n",
       "      <td>Wonder 100pct mediano 475g WON 106</td>\n",
       "    </tr>\n",
       "    <tr>\n",
       "      <td>107</td>\n",
       "      <td>Wonder 100pct gde 680g SP WON 107</td>\n",
       "    </tr>\n",
       "    <tr>\n",
       "      <td>108</td>\n",
       "      <td>Baguette Precocida Cong 280g DH 108</td>\n",
       "    </tr>\n",
       "    <tr>\n",
       "      <td>109</td>\n",
       "      <td>Pan Multicereal 475g WON 109</td>\n",
       "    </tr>\n",
       "    <tr>\n",
       "      <td>112</td>\n",
       "      <td>Tostado Integral 180g WON 112</td>\n",
       "    </tr>\n",
       "    <tr>\n",
       "      <td>122</td>\n",
       "      <td>Biscotel Receta Original 410g CU SUA 122</td>\n",
       "    </tr>\n",
       "    <tr>\n",
       "      <td>123</td>\n",
       "      <td>Super Bollos 5in 8p 540g WON 123</td>\n",
       "    </tr>\n",
       "    <tr>\n",
       "      <td>125</td>\n",
       "      <td>Bollos 8p 450g WON 125</td>\n",
       "    </tr>\n",
       "    <tr>\n",
       "      <td>131</td>\n",
       "      <td>Bollos BK 4in 36p 1635g SL 131</td>\n",
       "    </tr>\n",
       "    <tr>\n",
       "      <td>132</td>\n",
       "      <td>Bollos BK 5in 30p 1730g SL 132</td>\n",
       "    </tr>\n",
       "    <tr>\n",
       "      <td>134</td>\n",
       "      <td>Bollos BK 4in 30p 1635g TIR SL 134</td>\n",
       "    </tr>\n",
       "    <tr>\n",
       "      <td>135</td>\n",
       "      <td>Bollos BK 5in 20p 1730g TIR SL 135</td>\n",
       "    </tr>\n",
       "    <tr>\n",
       "      <td>141</td>\n",
       "      <td>Hot Dogs 8p 290g WON 141</td>\n",
       "    </tr>\n",
       "    <tr>\n",
       "      <td>145</td>\n",
       "      <td>Super Hot Dogs 8p 435g WON 145</td>\n",
       "    </tr>\n",
       "    <tr>\n",
       "      <td>151</td>\n",
       "      <td>Medias Noches 24p 470g BK SL 151</td>\n",
       "    </tr>\n",
       "    <tr>\n",
       "      <td>157</td>\n",
       "      <td>Bollo WB 5in snAjn 20p 1950g SL 157</td>\n",
       "    </tr>\n",
       "    <tr>\n",
       "      <td>160</td>\n",
       "      <td>Molido Bolsa 180g WON 160</td>\n",
       "    </tr>\n",
       "    <tr>\n",
       "      <td>161</td>\n",
       "      <td>Bollos KFC 5in 15p 1237g WON 161</td>\n",
       "    </tr>\n",
       "    <tr>\n",
       "      <td>162</td>\n",
       "      <td>Molido 25Kg WON 162</td>\n",
       "    </tr>\n",
       "    <tr>\n",
       "      <td>163</td>\n",
       "      <td>Molido 5Kg WON 163</td>\n",
       "    </tr>\n",
       "    <tr>\n",
       "      <td>179</td>\n",
       "      <td>Tostado Int 0pct Grasa Azucar 200g WON 179</td>\n",
       "    </tr>\n",
       "  </tbody>\n",
       "</table>\n",
       "</div>"
      ],
      "text/plain": [
       "                                         NombreProducto\n",
       "Producto_ID                                            \n",
       "0                                     NO IDENTIFICADO 0\n",
       "9                             Capuccino Moka 750g NES 9\n",
       "41               Bimbollos Ext sAjonjoli 6p 480g BIM 41\n",
       "53                       Burritos Sincro 170g CU LON 53\n",
       "72                  Div Tira Mini Doradita 4p 45g TR 72\n",
       "73                    Pan Multigrano Linaza 540g BIM 73\n",
       "98                         Tostado Integral 180g WON 98\n",
       "99                               Pan Blanco 567g WON 99\n",
       "100              Super Pan Bco Ajonjoli 680g SP WON 100\n",
       "106                  Wonder 100pct mediano 475g WON 106\n",
       "107                   Wonder 100pct gde 680g SP WON 107\n",
       "108                 Baguette Precocida Cong 280g DH 108\n",
       "109                        Pan Multicereal 475g WON 109\n",
       "112                       Tostado Integral 180g WON 112\n",
       "122            Biscotel Receta Original 410g CU SUA 122\n",
       "123                    Super Bollos 5in 8p 540g WON 123\n",
       "125                              Bollos 8p 450g WON 125\n",
       "131                      Bollos BK 4in 36p 1635g SL 131\n",
       "132                      Bollos BK 5in 30p 1730g SL 132\n",
       "134                  Bollos BK 4in 30p 1635g TIR SL 134\n",
       "135                  Bollos BK 5in 20p 1730g TIR SL 135\n",
       "141                            Hot Dogs 8p 290g WON 141\n",
       "145                      Super Hot Dogs 8p 435g WON 145\n",
       "151                    Medias Noches 24p 470g BK SL 151\n",
       "157                 Bollo WB 5in snAjn 20p 1950g SL 157\n",
       "160                           Molido Bolsa 180g WON 160\n",
       "161                    Bollos KFC 5in 15p 1237g WON 161\n",
       "162                                 Molido 25Kg WON 162\n",
       "163                                  Molido 5Kg WON 163\n",
       "179          Tostado Int 0pct Grasa Azucar 200g WON 179"
      ]
     },
     "execution_count": 26,
     "metadata": {},
     "output_type": "execute_result"
    }
   ],
   "source": [
    "products_table.head(30)"
   ]
  },
  {
   "cell_type": "code",
   "execution_count": 27,
   "metadata": {},
   "outputs": [
    {
     "data": {
      "text/plain": [
       "(2592, 1)"
      ]
     },
     "execution_count": 27,
     "metadata": {},
     "output_type": "execute_result"
    }
   ],
   "source": [
    "products_table.shape"
   ]
  },
  {
   "cell_type": "code",
   "execution_count": 28,
   "metadata": {},
   "outputs": [
    {
     "data": {
      "text/plain": [
       "2592"
      ]
     },
     "execution_count": 28,
     "metadata": {},
     "output_type": "execute_result"
    }
   ],
   "source": [
    "products_table.index.nunique()"
   ]
  },
  {
   "cell_type": "code",
   "execution_count": 29,
   "metadata": {},
   "outputs": [
    {
     "data": {
      "text/plain": [
       "2592"
      ]
     },
     "execution_count": 29,
     "metadata": {},
     "output_type": "execute_result"
    }
   ],
   "source": [
    "products_table['NombreProducto'].nunique()"
   ]
  },
  {
   "cell_type": "markdown",
   "metadata": {},
   "source": [
    "В таблице продуктов нет повторов. В тексте описания продуктов есть количество/вес. Есть продукты с практически одинаковыми названиями: Bollos BK 4in 36p 1635g SL 131, Bollos BK 4in 30p 1635g TIR SL 134. Они отличаются количеством единиц в упаковке. Разделив описание товаров на составные части можно сгруппировать их по названию продукта. Однако, для клиента может быть важен размер упаковки или другие параметры товаров, поэтому нужно аккуратно использовать эти данные."
   ]
  },
  {
   "cell_type": "code",
   "execution_count": 30,
   "metadata": {},
   "outputs": [],
   "source": [
    "# Продажи продуктов в неделю\n",
    "prodcut_sales_per_week = train_data.groupby('Product_ID').agg({'Adjusted_demand': 'sum'})/7"
   ]
  },
  {
   "cell_type": "code",
   "execution_count": 31,
   "metadata": {},
   "outputs": [
    {
     "data": {
      "text/html": [
       "<div>\n",
       "<style scoped>\n",
       "    .dataframe tbody tr th:only-of-type {\n",
       "        vertical-align: middle;\n",
       "    }\n",
       "\n",
       "    .dataframe tbody tr th {\n",
       "        vertical-align: top;\n",
       "    }\n",
       "\n",
       "    .dataframe thead th {\n",
       "        text-align: right;\n",
       "    }\n",
       "</style>\n",
       "<table border=\"1\" class=\"dataframe\">\n",
       "  <thead>\n",
       "    <tr style=\"text-align: right;\">\n",
       "      <th></th>\n",
       "      <th>Adjusted_demand</th>\n",
       "    </tr>\n",
       "  </thead>\n",
       "  <tbody>\n",
       "    <tr>\n",
       "      <td>count</td>\n",
       "      <td>1.799000e+03</td>\n",
       "    </tr>\n",
       "    <tr>\n",
       "      <td>mean</td>\n",
       "      <td>4.255710e+04</td>\n",
       "    </tr>\n",
       "    <tr>\n",
       "      <td>std</td>\n",
       "      <td>1.927219e+05</td>\n",
       "    </tr>\n",
       "    <tr>\n",
       "      <td>min</td>\n",
       "      <td>0.000000e+00</td>\n",
       "    </tr>\n",
       "    <tr>\n",
       "      <td>25%</td>\n",
       "      <td>8.864286e+01</td>\n",
       "    </tr>\n",
       "    <tr>\n",
       "      <td>50%</td>\n",
       "      <td>1.263143e+03</td>\n",
       "    </tr>\n",
       "    <tr>\n",
       "      <td>75%</td>\n",
       "      <td>1.356207e+04</td>\n",
       "    </tr>\n",
       "    <tr>\n",
       "      <td>max</td>\n",
       "      <td>3.389811e+06</td>\n",
       "    </tr>\n",
       "  </tbody>\n",
       "</table>\n",
       "</div>"
      ],
      "text/plain": [
       "       Adjusted_demand\n",
       "count     1.799000e+03\n",
       "mean      4.255710e+04\n",
       "std       1.927219e+05\n",
       "min       0.000000e+00\n",
       "25%       8.864286e+01\n",
       "50%       1.263143e+03\n",
       "75%       1.356207e+04\n",
       "max       3.389811e+06"
      ]
     },
     "execution_count": 31,
     "metadata": {},
     "output_type": "execute_result"
    }
   ],
   "source": [
    "prodcut_sales_per_week.describe()"
   ]
  },
  {
   "cell_type": "code",
   "execution_count": 32,
   "metadata": {},
   "outputs": [
    {
     "data": {
      "text/plain": [
       "array([[<matplotlib.axes._subplots.AxesSubplot object at 0x7fd2973e06d0>]],\n",
       "      dtype=object)"
      ]
     },
     "execution_count": 32,
     "metadata": {},
     "output_type": "execute_result"
    },
    {
     "data": {
      "image/png": "[encoded data removed]",
      "text/plain": [
       "<Figure size 864x432 with 1 Axes>"
      ]
     },
     "metadata": {
      "needs_background": "light"
     },
     "output_type": "display_data"
    }
   ],
   "source": [
    "prodcut_sales_per_week.hist(bins=100, figsize=(12,6))"
   ]
  },
  {
   "cell_type": "markdown",
   "metadata": {},
   "source": [
    "Опять видим длинный хвост распределения. Какие продукты продаются лучше всего?"
   ]
  },
  {
   "cell_type": "code",
   "execution_count": 33,
   "metadata": {},
   "outputs": [],
   "source": [
    "bestsalers = prodcut_sales_per_week.sort_values('Adjusted_demand', ascending=False).iloc[:100]"
   ]
  },
  {
   "cell_type": "code",
   "execution_count": 34,
   "metadata": {},
   "outputs": [],
   "source": [
    "bestsalers = bestsalers.join(products_table, on='Product_ID')"
   ]
  },
  {
   "cell_type": "code",
   "execution_count": 35,
   "metadata": {},
   "outputs": [
    {
     "data": {
      "text/plain": [
       "<matplotlib.axes._subplots.AxesSubplot at 0x7fd2965fcd50>"
      ]
     },
     "execution_count": 35,
     "metadata": {},
     "output_type": "execute_result"
    },
    {
     "data": {
      "image/png": "[encoded data removed]",
      "text/plain": [
       "<Figure size 864x1440 with 1 Axes>"
      ]
     },
     "metadata": {
      "needs_background": "light"
     },
     "output_type": "display_data"
    }
   ],
   "source": [
    "fig, ax = plt.subplots(figsize=(12,20))\n",
    "sns.barplot(x='Adjusted_demand', y='NombreProducto', data=bestsalers, ax=ax)"
   ]
  },
  {
   "cell_type": "code",
   "execution_count": 36,
   "metadata": {},
   "outputs": [
    {
     "data": {
      "text/plain": [
       "<matplotlib.axes._subplots.AxesSubplot at 0x7fd296018850>"
      ]
     },
     "execution_count": 36,
     "metadata": {},
     "output_type": "execute_result"
    },
    {
     "data": {
      "image/png": "[encoded data removed]",
      "text/plain": [
       "<Figure size 432x288 with 1 Axes>"
      ]
     },
     "metadata": {
      "needs_background": "light"
     },
     "output_type": "display_data"
    }
   ],
   "source": [
    "train_data.groupby(['Week']).agg({'Product_ID':'nunique'}).plot(kind='bar', ylim=(1500, 1600))"
   ]
  },
  {
   "cell_type": "markdown",
   "metadata": {},
   "source": [
    "Количество уникальных наименований товаров незначительно меняется от недели к неделе."
   ]
  },
  {
   "cell_type": "markdown",
   "metadata": {},
   "source": [
    "## Точки продаж"
   ]
  },
  {
   "cell_type": "code",
   "execution_count": 37,
   "metadata": {},
   "outputs": [
    {
     "data": {
      "text/plain": [
       "552"
      ]
     },
     "execution_count": 37,
     "metadata": {},
     "output_type": "execute_result"
    }
   ],
   "source": [
    "train_data['Sales_depot_ID'].nunique()"
   ]
  },
  {
   "cell_type": "code",
   "execution_count": 38,
   "metadata": {},
   "outputs": [
    {
     "data": {
      "text/html": [
       "<div>\n",
       "<style scoped>\n",
       "    .dataframe tbody tr th:only-of-type {\n",
       "        vertical-align: middle;\n",
       "    }\n",
       "\n",
       "    .dataframe tbody tr th {\n",
       "        vertical-align: top;\n",
       "    }\n",
       "\n",
       "    .dataframe thead th {\n",
       "        text-align: right;\n",
       "    }\n",
       "</style>\n",
       "<table border=\"1\" class=\"dataframe\">\n",
       "  <thead>\n",
       "    <tr style=\"text-align: right;\">\n",
       "      <th></th>\n",
       "      <th>Product_ID</th>\n",
       "    </tr>\n",
       "  </thead>\n",
       "  <tbody>\n",
       "    <tr>\n",
       "      <td>count</td>\n",
       "      <td>552.000000</td>\n",
       "    </tr>\n",
       "    <tr>\n",
       "      <td>mean</td>\n",
       "      <td>150.269928</td>\n",
       "    </tr>\n",
       "    <tr>\n",
       "      <td>std</td>\n",
       "      <td>56.915175</td>\n",
       "    </tr>\n",
       "    <tr>\n",
       "      <td>min</td>\n",
       "      <td>6.000000</td>\n",
       "    </tr>\n",
       "    <tr>\n",
       "      <td>25%</td>\n",
       "      <td>106.000000</td>\n",
       "    </tr>\n",
       "    <tr>\n",
       "      <td>50%</td>\n",
       "      <td>159.000000</td>\n",
       "    </tr>\n",
       "    <tr>\n",
       "      <td>75%</td>\n",
       "      <td>189.000000</td>\n",
       "    </tr>\n",
       "    <tr>\n",
       "      <td>max</td>\n",
       "      <td>328.000000</td>\n",
       "    </tr>\n",
       "  </tbody>\n",
       "</table>\n",
       "</div>"
      ],
      "text/plain": [
       "       Product_ID\n",
       "count  552.000000\n",
       "mean   150.269928\n",
       "std     56.915175\n",
       "min      6.000000\n",
       "25%    106.000000\n",
       "50%    159.000000\n",
       "75%    189.000000\n",
       "max    328.000000"
      ]
     },
     "execution_count": 38,
     "metadata": {},
     "output_type": "execute_result"
    }
   ],
   "source": [
    "train_data.groupby('Sales_depot_ID').agg({'Product_ID':'nunique'}).describe()"
   ]
  },
  {
   "cell_type": "markdown",
   "metadata": {},
   "source": [
    "В выборке 552 магазина. В них представлены в среднем 150 наименований товаров. Посмотрим на топ-100 магазинов по продажам в неделю."
   ]
  },
  {
   "cell_type": "code",
   "execution_count": 39,
   "metadata": {},
   "outputs": [
    {
     "data": {
      "text/html": [
       "<div>\n",
       "<style scoped>\n",
       "    .dataframe tbody tr th:only-of-type {\n",
       "        vertical-align: middle;\n",
       "    }\n",
       "\n",
       "    .dataframe tbody tr th {\n",
       "        vertical-align: top;\n",
       "    }\n",
       "\n",
       "    .dataframe thead th {\n",
       "        text-align: right;\n",
       "    }\n",
       "</style>\n",
       "<table border=\"1\" class=\"dataframe\">\n",
       "  <thead>\n",
       "    <tr style=\"text-align: right;\">\n",
       "      <th></th>\n",
       "      <th>Adjusted_demand</th>\n",
       "    </tr>\n",
       "  </thead>\n",
       "  <tbody>\n",
       "    <tr>\n",
       "      <td>count</td>\n",
       "      <td>552.000000</td>\n",
       "    </tr>\n",
       "    <tr>\n",
       "      <td>mean</td>\n",
       "      <td>138696.042961</td>\n",
       "    </tr>\n",
       "    <tr>\n",
       "      <td>std</td>\n",
       "      <td>128578.405315</td>\n",
       "    </tr>\n",
       "    <tr>\n",
       "      <td>min</td>\n",
       "      <td>4567.571429</td>\n",
       "    </tr>\n",
       "    <tr>\n",
       "      <td>25%</td>\n",
       "      <td>40255.214286</td>\n",
       "    </tr>\n",
       "    <tr>\n",
       "      <td>50%</td>\n",
       "      <td>90010.571429</td>\n",
       "    </tr>\n",
       "    <tr>\n",
       "      <td>75%</td>\n",
       "      <td>202580.750000</td>\n",
       "    </tr>\n",
       "    <tr>\n",
       "      <td>max</td>\n",
       "      <td>756910.285714</td>\n",
       "    </tr>\n",
       "  </tbody>\n",
       "</table>\n",
       "</div>"
      ],
      "text/plain": [
       "       Adjusted_demand\n",
       "count       552.000000\n",
       "mean     138696.042961\n",
       "std      128578.405315\n",
       "min        4567.571429\n",
       "25%       40255.214286\n",
       "50%       90010.571429\n",
       "75%      202580.750000\n",
       "max      756910.285714"
      ]
     },
     "execution_count": 39,
     "metadata": {},
     "output_type": "execute_result"
    }
   ],
   "source": [
    "sales_per_shop_per_week = train_data.groupby('Sales_depot_ID').agg({'Adjusted_demand':'sum'})/7\n",
    "sales_per_shop_per_week.describe()"
   ]
  },
  {
   "cell_type": "code",
   "execution_count": 40,
   "metadata": {},
   "outputs": [],
   "source": [
    "best_shops = sales_per_shop_per_week.sort_values('Adjusted_demand', ascending=False).iloc[:100]"
   ]
  },
  {
   "cell_type": "code",
   "execution_count": 41,
   "metadata": {},
   "outputs": [
    {
     "data": {
      "text/html": [
       "<div>\n",
       "<style scoped>\n",
       "    .dataframe tbody tr th:only-of-type {\n",
       "        vertical-align: middle;\n",
       "    }\n",
       "\n",
       "    .dataframe tbody tr th {\n",
       "        vertical-align: top;\n",
       "    }\n",
       "\n",
       "    .dataframe thead th {\n",
       "        text-align: right;\n",
       "    }\n",
       "</style>\n",
       "<table border=\"1\" class=\"dataframe\">\n",
       "  <thead>\n",
       "    <tr style=\"text-align: right;\">\n",
       "      <th></th>\n",
       "      <th>Adjusted_demand</th>\n",
       "    </tr>\n",
       "    <tr>\n",
       "      <th>Sales_depot_ID</th>\n",
       "      <th></th>\n",
       "    </tr>\n",
       "  </thead>\n",
       "  <tbody>\n",
       "    <tr>\n",
       "      <td>1911</td>\n",
       "      <td>756910.285714</td>\n",
       "    </tr>\n",
       "    <tr>\n",
       "      <td>1351</td>\n",
       "      <td>582161.571429</td>\n",
       "    </tr>\n",
       "    <tr>\n",
       "      <td>1912</td>\n",
       "      <td>570942.571429</td>\n",
       "    </tr>\n",
       "    <tr>\n",
       "      <td>1312</td>\n",
       "      <td>552438.428571</td>\n",
       "    </tr>\n",
       "    <tr>\n",
       "      <td>1347</td>\n",
       "      <td>541109.000000</td>\n",
       "    </tr>\n",
       "    <tr>\n",
       "      <td>...</td>\n",
       "      <td>...</td>\n",
       "    </tr>\n",
       "    <tr>\n",
       "      <td>2036</td>\n",
       "      <td>256687.857143</td>\n",
       "    </tr>\n",
       "    <tr>\n",
       "      <td>3214</td>\n",
       "      <td>255990.285714</td>\n",
       "    </tr>\n",
       "    <tr>\n",
       "      <td>1387</td>\n",
       "      <td>254415.428571</td>\n",
       "    </tr>\n",
       "    <tr>\n",
       "      <td>2054</td>\n",
       "      <td>251940.285714</td>\n",
       "    </tr>\n",
       "    <tr>\n",
       "      <td>2214</td>\n",
       "      <td>251065.857143</td>\n",
       "    </tr>\n",
       "  </tbody>\n",
       "</table>\n",
       "<p>100 rows × 1 columns</p>\n",
       "</div>"
      ],
      "text/plain": [
       "                Adjusted_demand\n",
       "Sales_depot_ID                 \n",
       "1911              756910.285714\n",
       "1351              582161.571429\n",
       "1912              570942.571429\n",
       "1312              552438.428571\n",
       "1347              541109.000000\n",
       "...                         ...\n",
       "2036              256687.857143\n",
       "3214              255990.285714\n",
       "1387              254415.428571\n",
       "2054              251940.285714\n",
       "2214              251065.857143\n",
       "\n",
       "[100 rows x 1 columns]"
      ]
     },
     "execution_count": 41,
     "metadata": {},
     "output_type": "execute_result"
    }
   ],
   "source": [
    "best_shops"
   ]
  },
  {
   "cell_type": "code",
   "execution_count": null,
   "metadata": {},
   "outputs": [],
   "source": []
  },
  {
   "cell_type": "code",
   "execution_count": null,
   "metadata": {},
   "outputs": [],
   "source": []
  },
  {
   "cell_type": "markdown",
   "metadata": {},
   "source": [
    "## Признаки"
   ]
  },
  {
   "cell_type": "markdown",
   "metadata": {},
   "source": [
    "У нас есть пять категориальных признаков. Посчитаем статистики по целевой переменной в различных срезах. Например:\n",
    "\n",
    "* средние продажи определенного товара в определенном магазине\n",
    "* медианные продажи определенному клиенту в магазине\n",
    "* суммарное количество продаж клиенту по определенному каналу продаж\n",
    "* ...\n",
    "\n",
    "Рассчитывать статистики будем по срезам из двух признаков для первых пяти недель. Поскольку для расчета признаков будем использовать целевую переменную, мы не сможем обучить модель на первых пяти неделях. Обучим её на шестой неделе (неделя №8 в датасете) и провалидируем на седьмой."
   ]
  },
  {
   "cell_type": "code",
   "execution_count": 8,
   "metadata": {},
   "outputs": [],
   "source": [
    "cat_columns = ['Sales_depot_ID', 'Sales_channel_ID', 'Route_ID', 'Client_ID', 'Product_ID']\n",
    "slices = list(combinations(cat_columns, 2))"
   ]
  },
  {
   "cell_type": "code",
   "execution_count": 43,
   "metadata": {},
   "outputs": [],
   "source": [
    "train_0 = train_data.loc[train_data['Week'] < 8, cat_columns + ['Adjusted_demand']]"
   ]
  },
  {
   "cell_type": "code",
   "execution_count": 44,
   "metadata": {},
   "outputs": [
    {
     "name": "stdout",
     "output_type": "stream",
     "text": [
      "C_Sales_depot_ID_x_Sales_channel_ID:  780\n",
      "C_Sales_depot_ID_x_Route_ID:  27221\n",
      "C_Sales_depot_ID_x_Client_ID:  905797\n",
      "C_Sales_depot_ID_x_Product_ID:  79177\n",
      "C_Sales_channel_ID_x_Route_ID:  3948\n",
      "C_Sales_channel_ID_x_Client_ID:  866668\n",
      "C_Sales_channel_ID_x_Product_ID:  4940\n",
      "C_Route_ID_x_Client_ID:  2145948\n",
      "C_Route_ID_x_Product_ID:  235375\n",
      "C_Client_ID_x_Product_ID:  22146628\n"
     ]
    }
   ],
   "source": [
    "# Посчитаем количество уникальных комбинаций значений признаков в каждом из срезов\n",
    "# и создадим в датасете колонки для этих признаков\n",
    "for sl in slices:\n",
    "    name = f'C_{sl[0]}_x_{sl[1]}'\n",
    "    train_0[name] = int(0)\n",
    "    print(f'{name}: ', train_0.loc[:, [sl[0], sl[1]]].drop_duplicates().shape[0])"
   ]
  },
  {
   "cell_type": "code",
   "execution_count": 45,
   "metadata": {},
   "outputs": [],
   "source": [
    "# Данные признаки рассчитываются со скоростью ~10 итераций в секунду, \n",
    "# поэтому оставим только срезы, в которых меньше 300000 комбинаций\n",
    "slices_reduced = [slices[0]] + [slices[1]] + [slices[3]] + [slices[4]] + [slices[6]] + [slices[8]]"
   ]
  },
  {
   "cell_type": "code",
   "execution_count": 32,
   "metadata": {},
   "outputs": [
    {
     "data": {
      "text/plain": [
       "[('Sales_depot_ID', 'Sales_channel_ID'),\n",
       " ('Sales_depot_ID', 'Route_ID'),\n",
       " ('Sales_depot_ID', 'Product_ID'),\n",
       " ('Sales_channel_ID', 'Route_ID'),\n",
       " ('Sales_channel_ID', 'Product_ID'),\n",
       " ('Route_ID', 'Product_ID')]"
      ]
     },
     "execution_count": 32,
     "metadata": {},
     "output_type": "execute_result"
    }
   ],
   "source": [
    "slices_reduced"
   ]
  },
  {
   "cell_type": "code",
   "execution_count": 48,
   "metadata": {},
   "outputs": [],
   "source": []
  },
  {
   "cell_type": "code",
   "execution_count": 108,
   "metadata": {},
   "outputs": [
    {
     "data": {
      "application/vnd.jupyter.widget-view+json": {
       "model_id": "419368c9ca5645e79dc8b2a3db2fcdaa",
       "version_major": 2,
       "version_minor": 0
      },
      "text/plain": [
       "HBox(children=(IntProgress(value=0, max=780), HTML(value='')))"
      ]
     },
     "metadata": {},
     "output_type": "display_data"
    },
    {
     "name": "stdout",
     "output_type": "stream",
     "text": [
      "\n"
     ]
    },
    {
     "data": {
      "application/vnd.jupyter.widget-view+json": {
       "model_id": "c14dc0b136dc4953ac6e31989aeb3faf",
       "version_major": 2,
       "version_minor": 0
      },
      "text/plain": [
       "HBox(children=(IntProgress(value=0, max=27221), HTML(value='')))"
      ]
     },
     "metadata": {},
     "output_type": "display_data"
    },
    {
     "name": "stdout",
     "output_type": "stream",
     "text": [
      "\n"
     ]
    },
    {
     "data": {
      "application/vnd.jupyter.widget-view+json": {
       "model_id": "a0dfebc9066c42f89a3ce12e125f85db",
       "version_major": 2,
       "version_minor": 0
      },
      "text/plain": [
       "HBox(children=(IntProgress(value=0, max=79177), HTML(value='')))"
      ]
     },
     "metadata": {},
     "output_type": "display_data"
    },
    {
     "name": "stdout",
     "output_type": "stream",
     "text": [
      "\n"
     ]
    },
    {
     "data": {
      "application/vnd.jupyter.widget-view+json": {
       "model_id": "dbf19f31bd3648ea8dc167d1348a0a9f",
       "version_major": 2,
       "version_minor": 0
      },
      "text/plain": [
       "HBox(children=(IntProgress(value=0, max=3948), HTML(value='')))"
      ]
     },
     "metadata": {},
     "output_type": "display_data"
    },
    {
     "name": "stdout",
     "output_type": "stream",
     "text": [
      "\n"
     ]
    },
    {
     "data": {
      "application/vnd.jupyter.widget-view+json": {
       "model_id": "48f10c2bbfc14d92b2aba7ab416d205c",
       "version_major": 2,
       "version_minor": 0
      },
      "text/plain": [
       "HBox(children=(IntProgress(value=0, max=4940), HTML(value='')))"
      ]
     },
     "metadata": {},
     "output_type": "display_data"
    },
    {
     "name": "stdout",
     "output_type": "stream",
     "text": [
      "\n"
     ]
    },
    {
     "data": {
      "application/vnd.jupyter.widget-view+json": {
       "model_id": "8035318815544e61920447d45060577d",
       "version_major": 2,
       "version_minor": 0
      },
      "text/plain": [
       "HBox(children=(IntProgress(value=0, max=235375), HTML(value='')))"
      ]
     },
     "metadata": {},
     "output_type": "display_data"
    },
    {
     "name": "stdout",
     "output_type": "stream",
     "text": [
      "\n",
      "CPU times: user 2d 9h 9min 14s, sys: 2h 32min, total: 2d 11h 41min 15s\n",
      "Wall time: 9h 56min 34s\n"
     ]
    }
   ],
   "source": [
    "%%time\n",
    "for sl in slices_reduced:\n",
    "    # будем сохранять расчеты в файлы, чтобы не потерять всю работу при сбое\n",
    "    filename = f'C_{sl[0]}_x_{sl[1]}'\n",
    "    \n",
    "    # создадим двухуровневый индекс из комбинаций всех значений в двух категориальных столбцах\n",
    "    index = pd.MultiIndex.from_frame(train_0.loc[:, [sl[0], sl[1]]].drop_duplicates())\n",
    "    # series для хранения результатов расчетов\n",
    "    counters = pd.Series(index=index)\n",
    "    means = pd.Series(index=index)\n",
    "    medians = pd.Series(index=index)\n",
    "    \n",
    "    for i1, i2 in tqdm_notebook(index.to_flat_index().values):\n",
    "        # выбираем все значения для конкретного сочетания двух категориальных признаков \n",
    "        subset = train_0.loc[(train_0[sl[0]] == i1) & (train_0[sl[1]] == i2)]\n",
    "        # считаем статистики по подмножеству\n",
    "        counters[i1, i2] = subset['Adjusted_demand'].sum()\n",
    "        means[i1, i2] = subset['Adjusted_demand'].mean()        \n",
    "        medians[i1, i2] = subset['Adjusted_demand'].median()        \n",
    "    \n",
    "    # сохраняем расчеты по каждому срезу\n",
    "    pickle.dump((counters, means, medians), open(f'../data/counters/{filename}.pkl', 'wb'))"
   ]
  },
  {
   "cell_type": "markdown",
   "metadata": {},
   "source": [
    "Расчёт признаков занял почти 10 часов."
   ]
  },
  {
   "cell_type": "markdown",
   "metadata": {},
   "source": [
    "## Модель"
   ]
  },
  {
   "cell_type": "code",
   "execution_count": 9,
   "metadata": {},
   "outputs": [],
   "source": [
    "# создадим train и validation из данных за оставшиеся 8 и 9 недели \n",
    "train_1 = train_data.loc[train_data['Week'] == 8, cat_columns + ['Adjusted_demand']]\n",
    "val_1 = train_data.loc[train_data['Week'] == 9, cat_columns + ['Adjusted_demand']]"
   ]
  },
  {
   "cell_type": "code",
   "execution_count": 2,
   "metadata": {},
   "outputs": [],
   "source": [
    "# Базовая модель: CatBoostRegressor с параметрами по умолчанию на пяти категориальных признаках\n",
    "from catboost import CatBoostRegressor"
   ]
  },
  {
   "cell_type": "code",
   "execution_count": 11,
   "metadata": {
    "scrolled": true
   },
   "outputs": [
    {
     "name": "stdout",
     "output_type": "stream",
     "text": [
      "0:\tlearn: 0.8302349\ttest: 0.8276795\tbest: 0.8276795 (0)\ttotal: 2.04s\tremaining: 34m 1s\n",
      "1:\tlearn: 0.8193303\ttest: 0.8165380\tbest: 0.8165380 (1)\ttotal: 3.5s\tremaining: 29m 5s\n",
      "2:\tlearn: 0.8087798\ttest: 0.8060363\tbest: 0.8060363 (2)\ttotal: 5.27s\tremaining: 29m 11s\n",
      "3:\tlearn: 0.7986725\ttest: 0.7960275\tbest: 0.7960275 (3)\ttotal: 7.04s\tremaining: 29m 13s\n",
      "4:\tlearn: 0.7887960\ttest: 0.7862950\tbest: 0.7862950 (4)\ttotal: 9.03s\tremaining: 29m 55s\n",
      "5:\tlearn: 0.7795546\ttest: 0.7770805\tbest: 0.7770805 (5)\ttotal: 10.8s\tremaining: 29m 55s\n",
      "6:\tlearn: 0.7705256\ttest: 0.7680381\tbest: 0.7680381 (6)\ttotal: 12.8s\tremaining: 30m 18s\n",
      "7:\tlearn: 0.7620766\ttest: 0.7593826\tbest: 0.7593826 (7)\ttotal: 14.2s\tremaining: 29m 22s\n",
      "8:\tlearn: 0.7539942\ttest: 0.7511988\tbest: 0.7511988 (8)\ttotal: 16.2s\tremaining: 29m 42s\n",
      "9:\tlearn: 0.7460864\ttest: 0.7433932\tbest: 0.7433932 (9)\ttotal: 18s\tremaining: 29m 37s\n",
      "10:\tlearn: 0.7386880\ttest: 0.7360429\tbest: 0.7360429 (10)\ttotal: 19.7s\tremaining: 29m 33s\n",
      "11:\tlearn: 0.7315089\ttest: 0.7286744\tbest: 0.7286744 (11)\ttotal: 21.6s\tremaining: 29m 35s\n",
      "12:\tlearn: 0.7246231\ttest: 0.7218379\tbest: 0.7218379 (12)\ttotal: 23.6s\tremaining: 29m 51s\n",
      "13:\tlearn: 0.7180165\ttest: 0.7151507\tbest: 0.7151507 (13)\ttotal: 25.2s\tremaining: 29m 34s\n",
      "14:\tlearn: 0.7117290\ttest: 0.7084674\tbest: 0.7084674 (14)\ttotal: 27.1s\tremaining: 29m 41s\n",
      "15:\tlearn: 0.7056940\ttest: 0.7024748\tbest: 0.7024748 (15)\ttotal: 28.8s\tremaining: 29m 32s\n",
      "16:\tlearn: 0.6998500\ttest: 0.6962539\tbest: 0.6962539 (16)\ttotal: 30.7s\tremaining: 29m 35s\n",
      "17:\tlearn: 0.6943237\ttest: 0.6904040\tbest: 0.6904040 (17)\ttotal: 32s\tremaining: 29m 6s\n",
      "18:\tlearn: 0.6890275\ttest: 0.6848842\tbest: 0.6848842 (18)\ttotal: 33.7s\tremaining: 28m 59s\n",
      "19:\tlearn: 0.6838637\ttest: 0.6795133\tbest: 0.6795133 (19)\ttotal: 35.1s\tremaining: 28m 40s\n",
      "20:\tlearn: 0.6789629\ttest: 0.6744244\tbest: 0.6744244 (20)\ttotal: 36.5s\tremaining: 28m 23s\n",
      "21:\tlearn: 0.6742360\ttest: 0.6695189\tbest: 0.6695189 (21)\ttotal: 38s\tremaining: 28m 9s\n",
      "22:\tlearn: 0.6698226\ttest: 0.6648007\tbest: 0.6648007 (22)\ttotal: 39.3s\tremaining: 27m 49s\n",
      "23:\tlearn: 0.6655499\ttest: 0.6603843\tbest: 0.6603843 (23)\ttotal: 41s\tremaining: 27m 46s\n",
      "24:\tlearn: 0.6615249\ttest: 0.6562830\tbest: 0.6562830 (24)\ttotal: 43.1s\tremaining: 27m 59s\n",
      "25:\tlearn: 0.6575665\ttest: 0.6521926\tbest: 0.6521926 (25)\ttotal: 44.7s\tremaining: 27m 56s\n",
      "26:\tlearn: 0.6537954\ttest: 0.6483733\tbest: 0.6483733 (26)\ttotal: 46.5s\tremaining: 27m 55s\n",
      "27:\tlearn: 0.6501628\ttest: 0.6445886\tbest: 0.6445886 (27)\ttotal: 48s\tremaining: 27m 45s\n",
      "28:\tlearn: 0.6466814\ttest: 0.6409756\tbest: 0.6409756 (28)\ttotal: 49.4s\tremaining: 27m 34s\n",
      "29:\tlearn: 0.6434496\ttest: 0.6375827\tbest: 0.6375827 (29)\ttotal: 50.8s\tremaining: 27m 23s\n",
      "30:\tlearn: 0.6401957\ttest: 0.6342166\tbest: 0.6342166 (30)\ttotal: 51.9s\tremaining: 27m 3s\n",
      "31:\tlearn: 0.6372026\ttest: 0.6311891\tbest: 0.6311891 (31)\ttotal: 53.5s\tremaining: 26m 56s\n",
      "32:\tlearn: 0.6342745\ttest: 0.6279448\tbest: 0.6279448 (32)\ttotal: 55s\tremaining: 26m 51s\n",
      "33:\tlearn: 0.6313271\ttest: 0.6249144\tbest: 0.6249144 (33)\ttotal: 56.5s\tremaining: 26m 44s\n",
      "34:\tlearn: 0.6285805\ttest: 0.6219869\tbest: 0.6219869 (34)\ttotal: 58s\tremaining: 26m 38s\n",
      "35:\tlearn: 0.6259078\ttest: 0.6191378\tbest: 0.6191378 (35)\ttotal: 59.6s\tremaining: 26m 35s\n",
      "36:\tlearn: 0.6235100\ttest: 0.6165083\tbest: 0.6165083 (36)\ttotal: 1m 1s\tremaining: 26m 30s\n",
      "37:\tlearn: 0.6209431\ttest: 0.6138453\tbest: 0.6138453 (37)\ttotal: 1m 2s\tremaining: 26m 18s\n",
      "38:\tlearn: 0.6186049\ttest: 0.6114358\tbest: 0.6114358 (38)\ttotal: 1m 3s\tremaining: 26m 7s\n",
      "39:\tlearn: 0.6163814\ttest: 0.6091455\tbest: 0.6091455 (39)\ttotal: 1m 4s\tremaining: 25m 55s\n",
      "40:\tlearn: 0.6143155\ttest: 0.6068841\tbest: 0.6068841 (40)\ttotal: 1m 6s\tremaining: 25m 54s\n",
      "41:\tlearn: 0.6121786\ttest: 0.6047667\tbest: 0.6047667 (41)\ttotal: 1m 7s\tremaining: 25m 44s\n",
      "42:\tlearn: 0.6101625\ttest: 0.6026609\tbest: 0.6026609 (42)\ttotal: 1m 9s\tremaining: 25m 37s\n",
      "43:\tlearn: 0.6082656\ttest: 0.6006467\tbest: 0.6006467 (43)\ttotal: 1m 10s\tremaining: 25m 36s\n",
      "44:\tlearn: 0.6064180\ttest: 0.5987393\tbest: 0.5987393 (44)\ttotal: 1m 12s\tremaining: 25m 35s\n",
      "45:\tlearn: 0.6046764\ttest: 0.5968259\tbest: 0.5968259 (45)\ttotal: 1m 13s\tremaining: 25m 26s\n",
      "46:\tlearn: 0.6030488\ttest: 0.5950311\tbest: 0.5950311 (46)\ttotal: 1m 15s\tremaining: 25m 21s\n",
      "47:\tlearn: 0.6014503\ttest: 0.5933538\tbest: 0.5933538 (47)\ttotal: 1m 16s\tremaining: 25m 17s\n",
      "48:\tlearn: 0.5999156\ttest: 0.5917111\tbest: 0.5917111 (48)\ttotal: 1m 18s\tremaining: 25m 16s\n",
      "49:\tlearn: 0.5984292\ttest: 0.5901709\tbest: 0.5901709 (49)\ttotal: 1m 19s\tremaining: 25m 15s\n",
      "50:\tlearn: 0.5970113\ttest: 0.5887054\tbest: 0.5887054 (50)\ttotal: 1m 21s\tremaining: 25m 12s\n",
      "51:\tlearn: 0.5956476\ttest: 0.5872709\tbest: 0.5872709 (51)\ttotal: 1m 22s\tremaining: 25m 5s\n",
      "52:\tlearn: 0.5943509\ttest: 0.5859756\tbest: 0.5859756 (52)\ttotal: 1m 24s\tremaining: 25m 1s\n",
      "53:\tlearn: 0.5930970\ttest: 0.5846687\tbest: 0.5846687 (53)\ttotal: 1m 25s\tremaining: 24m 55s\n",
      "54:\tlearn: 0.5919118\ttest: 0.5832645\tbest: 0.5832645 (54)\ttotal: 1m 27s\tremaining: 24m 58s\n",
      "55:\tlearn: 0.5906855\ttest: 0.5819841\tbest: 0.5819841 (55)\ttotal: 1m 28s\tremaining: 24m 51s\n",
      "56:\tlearn: 0.5895693\ttest: 0.5807956\tbest: 0.5807956 (56)\ttotal: 1m 30s\tremaining: 24m 51s\n",
      "57:\tlearn: 0.5884867\ttest: 0.5796320\tbest: 0.5796320 (57)\ttotal: 1m 31s\tremaining: 24m 48s\n",
      "58:\tlearn: 0.5874915\ttest: 0.5786130\tbest: 0.5786130 (58)\ttotal: 1m 33s\tremaining: 24m 51s\n",
      "59:\tlearn: 0.5865037\ttest: 0.5775456\tbest: 0.5775456 (59)\ttotal: 1m 34s\tremaining: 24m 47s\n",
      "60:\tlearn: 0.5854848\ttest: 0.5765070\tbest: 0.5765070 (60)\ttotal: 1m 36s\tremaining: 24m 41s\n",
      "61:\tlearn: 0.5845230\ttest: 0.5755384\tbest: 0.5755384 (61)\ttotal: 1m 37s\tremaining: 24m 35s\n",
      "62:\tlearn: 0.5836513\ttest: 0.5746365\tbest: 0.5746365 (62)\ttotal: 1m 38s\tremaining: 24m 31s\n",
      "63:\tlearn: 0.5828185\ttest: 0.5737092\tbest: 0.5737092 (63)\ttotal: 1m 40s\tremaining: 24m 31s\n",
      "64:\tlearn: 0.5819747\ttest: 0.5728142\tbest: 0.5728142 (64)\ttotal: 1m 42s\tremaining: 24m 30s\n",
      "65:\tlearn: 0.5812091\ttest: 0.5720629\tbest: 0.5720629 (65)\ttotal: 1m 43s\tremaining: 24m 27s\n",
      "66:\tlearn: 0.5804779\ttest: 0.5712694\tbest: 0.5712694 (66)\ttotal: 1m 45s\tremaining: 24m 26s\n",
      "67:\tlearn: 0.5796682\ttest: 0.5703890\tbest: 0.5703890 (67)\ttotal: 1m 46s\tremaining: 24m 21s\n",
      "68:\tlearn: 0.5789420\ttest: 0.5696210\tbest: 0.5696210 (68)\ttotal: 1m 48s\tremaining: 24m 18s\n",
      "69:\tlearn: 0.5782884\ttest: 0.5688058\tbest: 0.5688058 (69)\ttotal: 1m 49s\tremaining: 24m 17s\n",
      "70:\tlearn: 0.5776535\ttest: 0.5681018\tbest: 0.5681018 (70)\ttotal: 1m 51s\tremaining: 24m 15s\n",
      "71:\tlearn: 0.5770315\ttest: 0.5674135\tbest: 0.5674135 (71)\ttotal: 1m 52s\tremaining: 24m 12s\n",
      "72:\tlearn: 0.5762999\ttest: 0.5666768\tbest: 0.5666768 (72)\ttotal: 1m 53s\tremaining: 24m 7s\n",
      "73:\tlearn: 0.5756608\ttest: 0.5660684\tbest: 0.5660684 (73)\ttotal: 1m 55s\tremaining: 24m 1s\n",
      "74:\tlearn: 0.5750703\ttest: 0.5654445\tbest: 0.5654445 (74)\ttotal: 1m 56s\tremaining: 23m 58s\n",
      "75:\tlearn: 0.5744499\ttest: 0.5647485\tbest: 0.5647485 (75)\ttotal: 1m 58s\tremaining: 23m 57s\n",
      "76:\tlearn: 0.5739211\ttest: 0.5641757\tbest: 0.5641757 (76)\ttotal: 1m 59s\tremaining: 23m 54s\n",
      "77:\tlearn: 0.5733600\ttest: 0.5636173\tbest: 0.5636173 (77)\ttotal: 2m\tremaining: 23m 49s\n",
      "78:\tlearn: 0.5728061\ttest: 0.5630290\tbest: 0.5630290 (78)\ttotal: 2m 2s\tremaining: 23m 48s\n",
      "79:\tlearn: 0.5721660\ttest: 0.5622942\tbest: 0.5622942 (79)\ttotal: 2m 3s\tremaining: 23m 44s\n",
      "80:\tlearn: 0.5715369\ttest: 0.5616302\tbest: 0.5616302 (80)\ttotal: 2m 5s\tremaining: 23m 38s\n",
      "81:\tlearn: 0.5709341\ttest: 0.5609546\tbest: 0.5609546 (81)\ttotal: 2m 6s\tremaining: 23m 35s\n",
      "82:\tlearn: 0.5704423\ttest: 0.5604373\tbest: 0.5604373 (82)\ttotal: 2m 7s\tremaining: 23m 31s\n",
      "83:\tlearn: 0.5699125\ttest: 0.5598457\tbest: 0.5598457 (83)\ttotal: 2m 9s\tremaining: 23m 26s\n",
      "84:\tlearn: 0.5694329\ttest: 0.5593582\tbest: 0.5593582 (84)\ttotal: 2m 10s\tremaining: 23m 25s\n",
      "85:\tlearn: 0.5689325\ttest: 0.5588519\tbest: 0.5588519 (85)\ttotal: 2m 12s\tremaining: 23m 23s\n",
      "86:\tlearn: 0.5684359\ttest: 0.5582719\tbest: 0.5582719 (86)\ttotal: 2m 13s\tremaining: 23m 19s\n",
      "87:\tlearn: 0.5680172\ttest: 0.5578361\tbest: 0.5578361 (87)\ttotal: 2m 15s\tremaining: 23m 23s\n",
      "88:\tlearn: 0.5675688\ttest: 0.5573444\tbest: 0.5573444 (88)\ttotal: 2m 16s\tremaining: 23m 20s\n",
      "89:\tlearn: 0.5671751\ttest: 0.5569398\tbest: 0.5569398 (89)\ttotal: 2m 18s\tremaining: 23m 16s\n",
      "90:\tlearn: 0.5667461\ttest: 0.5564801\tbest: 0.5564801 (90)\ttotal: 2m 19s\tremaining: 23m 12s\n",
      "91:\tlearn: 0.5663727\ttest: 0.5561120\tbest: 0.5561120 (91)\ttotal: 2m 20s\tremaining: 23m 10s\n"
     ]
    },
    {
     "name": "stdout",
     "output_type": "stream",
     "text": [
      "92:\tlearn: 0.5659721\ttest: 0.5556713\tbest: 0.5556713 (92)\ttotal: 2m 22s\tremaining: 23m 8s\n",
      "93:\tlearn: 0.5655931\ttest: 0.5552708\tbest: 0.5552708 (93)\ttotal: 2m 24s\tremaining: 23m 11s\n",
      "94:\tlearn: 0.5652288\ttest: 0.5548812\tbest: 0.5548812 (94)\ttotal: 2m 25s\tremaining: 23m 8s\n",
      "95:\tlearn: 0.5649057\ttest: 0.5545338\tbest: 0.5545338 (95)\ttotal: 2m 27s\tremaining: 23m 7s\n",
      "96:\tlearn: 0.5645976\ttest: 0.5542239\tbest: 0.5542239 (96)\ttotal: 2m 28s\tremaining: 23m 3s\n",
      "97:\tlearn: 0.5642516\ttest: 0.5538527\tbest: 0.5538527 (97)\ttotal: 2m 30s\tremaining: 23m\n",
      "98:\tlearn: 0.5639717\ttest: 0.5535446\tbest: 0.5535446 (98)\ttotal: 2m 32s\tremaining: 23m 3s\n",
      "99:\tlearn: 0.5636170\ttest: 0.5531698\tbest: 0.5531698 (99)\ttotal: 2m 33s\tremaining: 23m 1s\n",
      "100:\tlearn: 0.5633033\ttest: 0.5528142\tbest: 0.5528142 (100)\ttotal: 2m 35s\tremaining: 23m 1s\n",
      "101:\tlearn: 0.5630493\ttest: 0.5525289\tbest: 0.5525289 (101)\ttotal: 2m 36s\tremaining: 22m 59s\n",
      "102:\tlearn: 0.5627982\ttest: 0.5522589\tbest: 0.5522589 (102)\ttotal: 2m 38s\tremaining: 23m 2s\n",
      "103:\tlearn: 0.5624711\ttest: 0.5519418\tbest: 0.5519418 (103)\ttotal: 2m 40s\tremaining: 23m\n",
      "104:\tlearn: 0.5621757\ttest: 0.5516281\tbest: 0.5516281 (104)\ttotal: 2m 41s\tremaining: 22m 56s\n",
      "105:\tlearn: 0.5619511\ttest: 0.5513802\tbest: 0.5513802 (105)\ttotal: 2m 43s\tremaining: 23m 1s\n",
      "106:\tlearn: 0.5616617\ttest: 0.5510990\tbest: 0.5510990 (106)\ttotal: 2m 45s\tremaining: 23m\n",
      "107:\tlearn: 0.5613971\ttest: 0.5508317\tbest: 0.5508317 (107)\ttotal: 2m 47s\tremaining: 23m 4s\n",
      "108:\tlearn: 0.5611175\ttest: 0.5505682\tbest: 0.5505682 (108)\ttotal: 2m 49s\tremaining: 23m 3s\n",
      "109:\tlearn: 0.5608594\ttest: 0.5503362\tbest: 0.5503362 (109)\ttotal: 2m 50s\tremaining: 23m 2s\n",
      "110:\tlearn: 0.5606138\ttest: 0.5500577\tbest: 0.5500577 (110)\ttotal: 2m 52s\tremaining: 22m 59s\n",
      "111:\tlearn: 0.5603645\ttest: 0.5497855\tbest: 0.5497855 (111)\ttotal: 2m 53s\tremaining: 22m 58s\n",
      "112:\tlearn: 0.5601266\ttest: 0.5495335\tbest: 0.5495335 (112)\ttotal: 2m 55s\tremaining: 22m 59s\n",
      "113:\tlearn: 0.5598936\ttest: 0.5493000\tbest: 0.5493000 (113)\ttotal: 2m 57s\tremaining: 23m 1s\n",
      "114:\tlearn: 0.5596471\ttest: 0.5490526\tbest: 0.5490526 (114)\ttotal: 2m 59s\tremaining: 23m 1s\n",
      "115:\tlearn: 0.5594640\ttest: 0.5488610\tbest: 0.5488610 (115)\ttotal: 3m 1s\tremaining: 23m 3s\n",
      "116:\tlearn: 0.5592932\ttest: 0.5486834\tbest: 0.5486834 (116)\ttotal: 3m 3s\tremaining: 23m 3s\n",
      "117:\tlearn: 0.5590700\ttest: 0.5484432\tbest: 0.5484432 (117)\ttotal: 3m 5s\tremaining: 23m 3s\n",
      "118:\tlearn: 0.5588440\ttest: 0.5481975\tbest: 0.5481975 (118)\ttotal: 3m 6s\tremaining: 23m\n",
      "119:\tlearn: 0.5586896\ttest: 0.5480238\tbest: 0.5480238 (119)\ttotal: 3m 8s\tremaining: 23m 1s\n",
      "120:\tlearn: 0.5585390\ttest: 0.5466513\tbest: 0.5466513 (120)\ttotal: 3m 10s\tremaining: 23m 4s\n",
      "121:\tlearn: 0.5582961\ttest: 0.5464175\tbest: 0.5464175 (121)\ttotal: 3m 11s\tremaining: 22m 59s\n",
      "122:\tlearn: 0.5580806\ttest: 0.5461765\tbest: 0.5461765 (122)\ttotal: 3m 13s\tremaining: 22m 58s\n",
      "123:\tlearn: 0.5579172\ttest: 0.5459946\tbest: 0.5459946 (123)\ttotal: 3m 14s\tremaining: 22m 56s\n",
      "124:\tlearn: 0.5577155\ttest: 0.5457943\tbest: 0.5457943 (124)\ttotal: 3m 16s\tremaining: 22m 54s\n",
      "125:\tlearn: 0.5575035\ttest: 0.5455864\tbest: 0.5455864 (125)\ttotal: 3m 17s\tremaining: 22m 51s\n",
      "126:\tlearn: 0.5571303\ttest: 0.5452615\tbest: 0.5452615 (126)\ttotal: 3m 19s\tremaining: 22m 48s\n",
      "127:\tlearn: 0.5569891\ttest: 0.5451110\tbest: 0.5451110 (127)\ttotal: 3m 20s\tremaining: 22m 48s\n",
      "128:\tlearn: 0.5566454\ttest: 0.5448043\tbest: 0.5448043 (128)\ttotal: 3m 22s\tremaining: 22m 46s\n",
      "129:\tlearn: 0.5565219\ttest: 0.5446591\tbest: 0.5446591 (129)\ttotal: 3m 24s\tremaining: 22m 50s\n",
      "130:\tlearn: 0.5563848\ttest: 0.5443481\tbest: 0.5443481 (130)\ttotal: 3m 26s\tremaining: 22m 50s\n",
      "131:\tlearn: 0.5560692\ttest: 0.5440679\tbest: 0.5440679 (131)\ttotal: 3m 28s\tremaining: 22m 48s\n",
      "132:\tlearn: 0.5558894\ttest: 0.5439045\tbest: 0.5439045 (132)\ttotal: 3m 29s\tremaining: 22m 47s\n",
      "133:\tlearn: 0.5555931\ttest: 0.5436435\tbest: 0.5436435 (133)\ttotal: 3m 31s\tremaining: 22m 44s\n",
      "134:\tlearn: 0.5553166\ttest: 0.5433985\tbest: 0.5433985 (134)\ttotal: 3m 32s\tremaining: 22m 42s\n",
      "135:\tlearn: 0.5551323\ttest: 0.5432107\tbest: 0.5432107 (135)\ttotal: 3m 34s\tremaining: 22m 41s\n",
      "136:\tlearn: 0.5549625\ttest: 0.5430419\tbest: 0.5430419 (136)\ttotal: 3m 35s\tremaining: 22m 37s\n",
      "137:\tlearn: 0.5548471\ttest: 0.5429145\tbest: 0.5429145 (137)\ttotal: 3m 37s\tremaining: 22m 37s\n",
      "138:\tlearn: 0.5545826\ttest: 0.5426674\tbest: 0.5426674 (138)\ttotal: 3m 39s\tremaining: 22m 37s\n",
      "139:\tlearn: 0.5544126\ttest: 0.5424884\tbest: 0.5424884 (139)\ttotal: 3m 40s\tremaining: 22m 35s\n",
      "140:\tlearn: 0.5542457\ttest: 0.5423207\tbest: 0.5423207 (140)\ttotal: 3m 42s\tremaining: 22m 33s\n",
      "141:\tlearn: 0.5539632\ttest: 0.5420735\tbest: 0.5420735 (141)\ttotal: 3m 43s\tremaining: 22m 32s\n",
      "142:\tlearn: 0.5536932\ttest: 0.5418471\tbest: 0.5418471 (142)\ttotal: 3m 45s\tremaining: 22m 30s\n",
      "143:\tlearn: 0.5535137\ttest: 0.5416887\tbest: 0.5416887 (143)\ttotal: 3m 46s\tremaining: 22m 25s\n",
      "144:\tlearn: 0.5533643\ttest: 0.5415550\tbest: 0.5415550 (144)\ttotal: 3m 48s\tremaining: 22m 24s\n",
      "145:\tlearn: 0.5531128\ttest: 0.5413447\tbest: 0.5413447 (145)\ttotal: 3m 49s\tremaining: 22m 21s\n",
      "146:\tlearn: 0.5529672\ttest: 0.5411880\tbest: 0.5411880 (146)\ttotal: 3m 50s\tremaining: 22m 18s\n",
      "147:\tlearn: 0.5527996\ttest: 0.5410401\tbest: 0.5410401 (147)\ttotal: 3m 51s\tremaining: 22m 13s\n",
      "148:\tlearn: 0.5526914\ttest: 0.5409333\tbest: 0.5409333 (148)\ttotal: 3m 53s\tremaining: 22m 11s\n",
      "149:\tlearn: 0.5525027\ttest: 0.5407485\tbest: 0.5407485 (149)\ttotal: 3m 54s\tremaining: 22m 11s\n",
      "150:\tlearn: 0.5523640\ttest: 0.5406044\tbest: 0.5406044 (150)\ttotal: 3m 56s\tremaining: 22m 9s\n",
      "151:\tlearn: 0.5522683\ttest: 0.5404302\tbest: 0.5404302 (151)\ttotal: 3m 58s\tremaining: 22m 9s\n",
      "152:\tlearn: 0.5521438\ttest: 0.5403226\tbest: 0.5403226 (152)\ttotal: 3m 59s\tremaining: 22m 7s\n",
      "153:\tlearn: 0.5520124\ttest: 0.5401837\tbest: 0.5401837 (153)\ttotal: 4m 1s\tremaining: 22m 6s\n",
      "154:\tlearn: 0.5517907\ttest: 0.5399879\tbest: 0.5399879 (154)\ttotal: 4m 3s\tremaining: 22m 6s\n",
      "155:\tlearn: 0.5517138\ttest: 0.5398870\tbest: 0.5398870 (155)\ttotal: 4m 4s\tremaining: 22m 5s\n",
      "156:\tlearn: 0.5515118\ttest: 0.5397169\tbest: 0.5397169 (156)\ttotal: 4m 6s\tremaining: 22m 2s\n",
      "157:\tlearn: 0.5513832\ttest: 0.5395937\tbest: 0.5395937 (157)\ttotal: 4m 7s\tremaining: 21m 59s\n",
      "158:\tlearn: 0.5512437\ttest: 0.5394710\tbest: 0.5394710 (158)\ttotal: 4m 9s\tremaining: 21m 57s\n",
      "159:\tlearn: 0.5510373\ttest: 0.5392988\tbest: 0.5392988 (159)\ttotal: 4m 10s\tremaining: 21m 54s\n",
      "160:\tlearn: 0.5509237\ttest: 0.5391987\tbest: 0.5391987 (160)\ttotal: 4m 11s\tremaining: 21m 52s\n",
      "161:\tlearn: 0.5508019\ttest: 0.5390852\tbest: 0.5390852 (161)\ttotal: 4m 13s\tremaining: 21m 51s\n",
      "162:\tlearn: 0.5506891\ttest: 0.5389806\tbest: 0.5389806 (162)\ttotal: 4m 15s\tremaining: 21m 49s\n",
      "163:\tlearn: 0.5505890\ttest: 0.5388766\tbest: 0.5388766 (163)\ttotal: 4m 16s\tremaining: 21m 48s\n",
      "164:\tlearn: 0.5503966\ttest: 0.5387073\tbest: 0.5387073 (164)\ttotal: 4m 18s\tremaining: 21m 47s\n",
      "165:\tlearn: 0.5503214\ttest: 0.5386088\tbest: 0.5386088 (165)\ttotal: 4m 19s\tremaining: 21m 45s\n",
      "166:\tlearn: 0.5502417\ttest: 0.5385257\tbest: 0.5385257 (166)\ttotal: 4m 21s\tremaining: 21m 43s\n",
      "167:\tlearn: 0.5500988\ttest: 0.5384042\tbest: 0.5384042 (167)\ttotal: 4m 23s\tremaining: 21m 43s\n",
      "168:\tlearn: 0.5498920\ttest: 0.5382312\tbest: 0.5382312 (168)\ttotal: 4m 24s\tremaining: 21m 42s\n",
      "169:\tlearn: 0.5497872\ttest: 0.5381266\tbest: 0.5381266 (169)\ttotal: 4m 26s\tremaining: 21m 39s\n",
      "170:\tlearn: 0.5496843\ttest: 0.5380370\tbest: 0.5380370 (170)\ttotal: 4m 27s\tremaining: 21m 38s\n",
      "171:\tlearn: 0.5496131\ttest: 0.5379497\tbest: 0.5379497 (171)\ttotal: 4m 29s\tremaining: 21m 36s\n",
      "172:\tlearn: 0.5495182\ttest: 0.5378393\tbest: 0.5378393 (172)\ttotal: 4m 30s\tremaining: 21m 34s\n",
      "173:\tlearn: 0.5493365\ttest: 0.5376918\tbest: 0.5376918 (173)\ttotal: 4m 32s\tremaining: 21m 32s\n",
      "174:\tlearn: 0.5491603\ttest: 0.5375490\tbest: 0.5375490 (174)\ttotal: 4m 33s\tremaining: 21m 30s\n",
      "175:\tlearn: 0.5490040\ttest: 0.5374171\tbest: 0.5374171 (175)\ttotal: 4m 35s\tremaining: 21m 28s\n",
      "176:\tlearn: 0.5489317\ttest: 0.5373426\tbest: 0.5373426 (176)\ttotal: 4m 36s\tremaining: 21m 26s\n",
      "177:\tlearn: 0.5488333\ttest: 0.5372321\tbest: 0.5372321 (177)\ttotal: 4m 38s\tremaining: 21m 25s\n",
      "178:\tlearn: 0.5486876\ttest: 0.5371229\tbest: 0.5371229 (178)\ttotal: 4m 39s\tremaining: 21m 23s\n",
      "179:\tlearn: 0.5486047\ttest: 0.5370061\tbest: 0.5370061 (179)\ttotal: 4m 42s\tremaining: 21m 25s\n",
      "180:\tlearn: 0.5484719\ttest: 0.5368837\tbest: 0.5368837 (180)\ttotal: 4m 43s\tremaining: 21m 23s\n"
     ]
    },
    {
     "name": "stdout",
     "output_type": "stream",
     "text": [
      "181:\tlearn: 0.5483832\ttest: 0.5367927\tbest: 0.5367927 (181)\ttotal: 4m 45s\tremaining: 21m 22s\n",
      "182:\tlearn: 0.5483189\ttest: 0.5367115\tbest: 0.5367115 (182)\ttotal: 4m 46s\tremaining: 21m 20s\n",
      "183:\tlearn: 0.5482310\ttest: 0.5366218\tbest: 0.5366218 (183)\ttotal: 4m 48s\tremaining: 21m 18s\n",
      "184:\tlearn: 0.5481758\ttest: 0.5365600\tbest: 0.5365600 (184)\ttotal: 4m 50s\tremaining: 21m 18s\n",
      "185:\tlearn: 0.5480181\ttest: 0.5364268\tbest: 0.5364268 (185)\ttotal: 4m 51s\tremaining: 21m 16s\n",
      "186:\tlearn: 0.5478810\ttest: 0.5363157\tbest: 0.5363157 (186)\ttotal: 4m 53s\tremaining: 21m 15s\n",
      "187:\tlearn: 0.5477351\ttest: 0.5362018\tbest: 0.5362018 (187)\ttotal: 4m 54s\tremaining: 21m 13s\n",
      "188:\tlearn: 0.5475638\ttest: 0.5360636\tbest: 0.5360636 (188)\ttotal: 4m 56s\tremaining: 21m 12s\n",
      "189:\tlearn: 0.5474710\ttest: 0.5359767\tbest: 0.5359767 (189)\ttotal: 4m 57s\tremaining: 21m 9s\n",
      "190:\tlearn: 0.5473883\ttest: 0.5358905\tbest: 0.5358905 (190)\ttotal: 4m 59s\tremaining: 21m 7s\n",
      "191:\tlearn: 0.5473006\ttest: 0.5358229\tbest: 0.5358229 (191)\ttotal: 5m 1s\tremaining: 21m 7s\n",
      "192:\tlearn: 0.5471890\ttest: 0.5357290\tbest: 0.5357290 (192)\ttotal: 5m 2s\tremaining: 21m 4s\n",
      "193:\tlearn: 0.5470305\ttest: 0.5355956\tbest: 0.5355956 (193)\ttotal: 5m 4s\tremaining: 21m 3s\n",
      "194:\tlearn: 0.5468765\ttest: 0.5354654\tbest: 0.5354654 (194)\ttotal: 5m 6s\tremaining: 21m 3s\n",
      "195:\tlearn: 0.5467915\ttest: 0.5353878\tbest: 0.5353878 (195)\ttotal: 5m 7s\tremaining: 21m\n",
      "196:\tlearn: 0.5466608\ttest: 0.5352836\tbest: 0.5352836 (196)\ttotal: 5m 8s\tremaining: 20m 58s\n",
      "197:\tlearn: 0.5465241\ttest: 0.5351632\tbest: 0.5351632 (197)\ttotal: 5m 10s\tremaining: 20m 57s\n",
      "198:\tlearn: 0.5464148\ttest: 0.5350584\tbest: 0.5350584 (198)\ttotal: 5m 12s\tremaining: 20m 58s\n",
      "199:\tlearn: 0.5463390\ttest: 0.5349666\tbest: 0.5349666 (199)\ttotal: 5m 14s\tremaining: 20m 56s\n",
      "200:\tlearn: 0.5462647\ttest: 0.5348858\tbest: 0.5348858 (200)\ttotal: 5m 15s\tremaining: 20m 54s\n",
      "201:\tlearn: 0.5462122\ttest: 0.5348244\tbest: 0.5348244 (201)\ttotal: 5m 17s\tremaining: 20m 53s\n",
      "202:\tlearn: 0.5460938\ttest: 0.5347343\tbest: 0.5347343 (202)\ttotal: 5m 18s\tremaining: 20m 51s\n",
      "203:\tlearn: 0.5459736\ttest: 0.5346429\tbest: 0.5346429 (203)\ttotal: 5m 20s\tremaining: 20m 49s\n",
      "204:\tlearn: 0.5458964\ttest: 0.5345858\tbest: 0.5345858 (204)\ttotal: 5m 22s\tremaining: 20m 49s\n",
      "205:\tlearn: 0.5457971\ttest: 0.5344882\tbest: 0.5344882 (205)\ttotal: 5m 24s\tremaining: 20m 49s\n",
      "206:\tlearn: 0.5457266\ttest: 0.5344358\tbest: 0.5344358 (206)\ttotal: 5m 25s\tremaining: 20m 48s\n",
      "207:\tlearn: 0.5456289\ttest: 0.5343583\tbest: 0.5343583 (207)\ttotal: 5m 27s\tremaining: 20m 45s\n",
      "208:\tlearn: 0.5455129\ttest: 0.5342690\tbest: 0.5342690 (208)\ttotal: 5m 28s\tremaining: 20m 44s\n",
      "209:\tlearn: 0.5454543\ttest: 0.5342076\tbest: 0.5342076 (209)\ttotal: 5m 30s\tremaining: 20m 42s\n",
      "210:\tlearn: 0.5453589\ttest: 0.5341058\tbest: 0.5341058 (210)\ttotal: 5m 33s\tremaining: 20m 45s\n",
      "211:\tlearn: 0.5452499\ttest: 0.5340192\tbest: 0.5340192 (211)\ttotal: 5m 34s\tremaining: 20m 43s\n",
      "212:\tlearn: 0.5451295\ttest: 0.5339176\tbest: 0.5339176 (212)\ttotal: 5m 36s\tremaining: 20m 42s\n",
      "213:\tlearn: 0.5450362\ttest: 0.5338331\tbest: 0.5338331 (213)\ttotal: 5m 37s\tremaining: 20m 40s\n",
      "214:\tlearn: 0.5449223\ttest: 0.5337449\tbest: 0.5337449 (214)\ttotal: 5m 39s\tremaining: 20m 39s\n",
      "215:\tlearn: 0.5448233\ttest: 0.5336637\tbest: 0.5336637 (215)\ttotal: 5m 41s\tremaining: 20m 38s\n",
      "216:\tlearn: 0.5447534\ttest: 0.5336041\tbest: 0.5336041 (216)\ttotal: 5m 42s\tremaining: 20m 37s\n",
      "217:\tlearn: 0.5446883\ttest: 0.5335527\tbest: 0.5335527 (217)\ttotal: 5m 44s\tremaining: 20m 35s\n",
      "218:\tlearn: 0.5446355\ttest: 0.5335058\tbest: 0.5335058 (218)\ttotal: 5m 46s\tremaining: 20m 34s\n",
      "219:\tlearn: 0.5445767\ttest: 0.5334610\tbest: 0.5334610 (219)\ttotal: 5m 47s\tremaining: 20m 33s\n",
      "220:\tlearn: 0.5444936\ttest: 0.5333944\tbest: 0.5333944 (220)\ttotal: 5m 49s\tremaining: 20m 30s\n",
      "221:\tlearn: 0.5444276\ttest: 0.5333400\tbest: 0.5333400 (221)\ttotal: 5m 51s\tremaining: 20m 30s\n",
      "222:\tlearn: 0.5443654\ttest: 0.5332712\tbest: 0.5332712 (222)\ttotal: 5m 52s\tremaining: 20m 29s\n",
      "223:\tlearn: 0.5443219\ttest: 0.5332326\tbest: 0.5332326 (223)\ttotal: 5m 54s\tremaining: 20m 28s\n",
      "224:\tlearn: 0.5442545\ttest: 0.5331731\tbest: 0.5331731 (224)\ttotal: 5m 55s\tremaining: 20m 26s\n",
      "225:\tlearn: 0.5441787\ttest: 0.5331089\tbest: 0.5331089 (225)\ttotal: 5m 57s\tremaining: 20m 23s\n",
      "226:\tlearn: 0.5441094\ttest: 0.5330403\tbest: 0.5330403 (226)\ttotal: 5m 58s\tremaining: 20m 21s\n",
      "227:\tlearn: 0.5440342\ttest: 0.5329786\tbest: 0.5329786 (227)\ttotal: 6m\tremaining: 20m 18s\n",
      "228:\tlearn: 0.5439500\ttest: 0.5329130\tbest: 0.5329130 (228)\ttotal: 6m 1s\tremaining: 20m 16s\n",
      "229:\tlearn: 0.5438847\ttest: 0.5328349\tbest: 0.5328349 (229)\ttotal: 6m 2s\tremaining: 20m 14s\n",
      "230:\tlearn: 0.5438082\ttest: 0.5327826\tbest: 0.5327826 (230)\ttotal: 6m 4s\tremaining: 20m 13s\n",
      "231:\tlearn: 0.5437055\ttest: 0.5326956\tbest: 0.5326956 (231)\ttotal: 6m 6s\tremaining: 20m 11s\n",
      "232:\tlearn: 0.5436497\ttest: 0.5326379\tbest: 0.5326379 (232)\ttotal: 6m 7s\tremaining: 20m 10s\n",
      "233:\tlearn: 0.5435614\ttest: 0.5325708\tbest: 0.5325708 (233)\ttotal: 6m 9s\tremaining: 20m 9s\n",
      "234:\tlearn: 0.5435045\ttest: 0.5325169\tbest: 0.5325169 (234)\ttotal: 6m 11s\tremaining: 20m 8s\n",
      "235:\tlearn: 0.5434537\ttest: 0.5324491\tbest: 0.5324491 (235)\ttotal: 6m 12s\tremaining: 20m 6s\n",
      "236:\tlearn: 0.5433967\ttest: 0.5323885\tbest: 0.5323885 (236)\ttotal: 6m 14s\tremaining: 20m 5s\n",
      "237:\tlearn: 0.5433566\ttest: 0.5323456\tbest: 0.5323456 (237)\ttotal: 6m 16s\tremaining: 20m 4s\n",
      "238:\tlearn: 0.5432726\ttest: 0.5322822\tbest: 0.5322822 (238)\ttotal: 6m 17s\tremaining: 20m 2s\n",
      "239:\tlearn: 0.5432218\ttest: 0.5322327\tbest: 0.5322327 (239)\ttotal: 6m 19s\tremaining: 20m 1s\n",
      "240:\tlearn: 0.5431742\ttest: 0.5321801\tbest: 0.5321801 (240)\ttotal: 6m 20s\tremaining: 19m 59s\n",
      "241:\tlearn: 0.5431386\ttest: 0.5321428\tbest: 0.5321428 (241)\ttotal: 6m 22s\tremaining: 19m 58s\n",
      "242:\tlearn: 0.5430683\ttest: 0.5320863\tbest: 0.5320863 (242)\ttotal: 6m 23s\tremaining: 19m 55s\n",
      "243:\tlearn: 0.5430323\ttest: 0.5320560\tbest: 0.5320560 (243)\ttotal: 6m 25s\tremaining: 19m 54s\n",
      "244:\tlearn: 0.5429703\ttest: 0.5320125\tbest: 0.5320125 (244)\ttotal: 6m 27s\tremaining: 19m 52s\n",
      "245:\tlearn: 0.5428858\ttest: 0.5319483\tbest: 0.5319483 (245)\ttotal: 6m 28s\tremaining: 19m 51s\n",
      "246:\tlearn: 0.5428076\ttest: 0.5318885\tbest: 0.5318885 (246)\ttotal: 6m 30s\tremaining: 19m 50s\n",
      "247:\tlearn: 0.5427293\ttest: 0.5318295\tbest: 0.5318295 (247)\ttotal: 6m 32s\tremaining: 19m 49s\n",
      "248:\tlearn: 0.5426786\ttest: 0.5317711\tbest: 0.5317711 (248)\ttotal: 6m 34s\tremaining: 19m 49s\n",
      "249:\tlearn: 0.5426309\ttest: 0.5317322\tbest: 0.5317322 (249)\ttotal: 6m 35s\tremaining: 19m 47s\n",
      "250:\tlearn: 0.5425711\ttest: 0.5316875\tbest: 0.5316875 (250)\ttotal: 6m 37s\tremaining: 19m 45s\n",
      "251:\tlearn: 0.5425275\ttest: 0.5316443\tbest: 0.5316443 (251)\ttotal: 6m 38s\tremaining: 19m 44s\n",
      "252:\tlearn: 0.5424681\ttest: 0.5315969\tbest: 0.5315969 (252)\ttotal: 6m 40s\tremaining: 19m 41s\n",
      "253:\tlearn: 0.5424169\ttest: 0.5315374\tbest: 0.5315374 (253)\ttotal: 6m 42s\tremaining: 19m 41s\n",
      "254:\tlearn: 0.5423549\ttest: 0.5313898\tbest: 0.5313898 (254)\ttotal: 6m 44s\tremaining: 19m 40s\n",
      "255:\tlearn: 0.5422969\ttest: 0.5313323\tbest: 0.5313323 (255)\ttotal: 6m 45s\tremaining: 19m 38s\n",
      "256:\tlearn: 0.5422650\ttest: 0.5312913\tbest: 0.5312913 (256)\ttotal: 6m 47s\tremaining: 19m 38s\n",
      "257:\tlearn: 0.5421971\ttest: 0.5312446\tbest: 0.5312446 (257)\ttotal: 6m 49s\tremaining: 19m 36s\n",
      "258:\tlearn: 0.5421455\ttest: 0.5311869\tbest: 0.5311869 (258)\ttotal: 6m 50s\tremaining: 19m 34s\n",
      "259:\tlearn: 0.5420767\ttest: 0.5311426\tbest: 0.5311426 (259)\ttotal: 6m 52s\tremaining: 19m 33s\n",
      "260:\tlearn: 0.5420231\ttest: 0.5311050\tbest: 0.5311050 (260)\ttotal: 6m 53s\tremaining: 19m 31s\n",
      "261:\tlearn: 0.5419804\ttest: 0.5310655\tbest: 0.5310655 (261)\ttotal: 6m 55s\tremaining: 19m 29s\n",
      "262:\tlearn: 0.5419477\ttest: 0.5310321\tbest: 0.5310321 (262)\ttotal: 6m 57s\tremaining: 19m 28s\n",
      "263:\tlearn: 0.5419020\ttest: 0.5309901\tbest: 0.5309901 (263)\ttotal: 6m 58s\tremaining: 19m 27s\n",
      "264:\tlearn: 0.5418540\ttest: 0.5309505\tbest: 0.5309505 (264)\ttotal: 7m\tremaining: 19m 26s\n",
      "265:\tlearn: 0.5417964\ttest: 0.5308806\tbest: 0.5308806 (265)\ttotal: 7m 2s\tremaining: 19m 25s\n",
      "266:\tlearn: 0.5417342\ttest: 0.5308378\tbest: 0.5308378 (266)\ttotal: 7m 3s\tremaining: 19m 22s\n",
      "267:\tlearn: 0.5416674\ttest: 0.5307915\tbest: 0.5307915 (267)\ttotal: 7m 5s\tremaining: 19m 20s\n",
      "268:\tlearn: 0.5416330\ttest: 0.5307497\tbest: 0.5307497 (268)\ttotal: 7m 6s\tremaining: 19m 19s\n",
      "269:\tlearn: 0.5415922\ttest: 0.5307225\tbest: 0.5307225 (269)\ttotal: 7m 7s\tremaining: 19m 16s\n"
     ]
    },
    {
     "name": "stdout",
     "output_type": "stream",
     "text": [
      "270:\tlearn: 0.5415371\ttest: 0.5306868\tbest: 0.5306868 (270)\ttotal: 7m 9s\tremaining: 19m 16s\n",
      "271:\tlearn: 0.5414971\ttest: 0.5306536\tbest: 0.5306536 (271)\ttotal: 7m 11s\tremaining: 19m 13s\n",
      "272:\tlearn: 0.5414394\ttest: 0.5305922\tbest: 0.5305922 (272)\ttotal: 7m 12s\tremaining: 19m 12s\n",
      "273:\tlearn: 0.5413922\ttest: 0.5305497\tbest: 0.5305497 (273)\ttotal: 7m 13s\tremaining: 19m 9s\n",
      "274:\tlearn: 0.5413359\ttest: 0.5305120\tbest: 0.5305120 (274)\ttotal: 7m 15s\tremaining: 19m 8s\n",
      "275:\tlearn: 0.5412828\ttest: 0.5304706\tbest: 0.5304706 (275)\ttotal: 7m 16s\tremaining: 19m 5s\n",
      "276:\tlearn: 0.5412112\ttest: 0.5304111\tbest: 0.5304111 (276)\ttotal: 7m 18s\tremaining: 19m 4s\n",
      "277:\tlearn: 0.5411580\ttest: 0.5303408\tbest: 0.5303408 (277)\ttotal: 7m 20s\tremaining: 19m 3s\n",
      "278:\tlearn: 0.5410956\ttest: 0.5302963\tbest: 0.5302963 (278)\ttotal: 7m 21s\tremaining: 19m 1s\n",
      "279:\tlearn: 0.5410521\ttest: 0.5302518\tbest: 0.5302518 (279)\ttotal: 7m 23s\tremaining: 18m 59s\n",
      "280:\tlearn: 0.5410186\ttest: 0.5302163\tbest: 0.5302163 (280)\ttotal: 7m 24s\tremaining: 18m 57s\n",
      "281:\tlearn: 0.5409625\ttest: 0.5301645\tbest: 0.5301645 (281)\ttotal: 7m 26s\tremaining: 18m 56s\n",
      "282:\tlearn: 0.5409024\ttest: 0.5301206\tbest: 0.5301206 (282)\ttotal: 7m 27s\tremaining: 18m 54s\n",
      "283:\tlearn: 0.5408642\ttest: 0.5300938\tbest: 0.5300938 (283)\ttotal: 7m 29s\tremaining: 18m 52s\n",
      "284:\tlearn: 0.5408165\ttest: 0.5300634\tbest: 0.5300634 (284)\ttotal: 7m 30s\tremaining: 18m 50s\n",
      "285:\tlearn: 0.5407708\ttest: 0.5300305\tbest: 0.5300305 (285)\ttotal: 7m 32s\tremaining: 18m 48s\n",
      "286:\tlearn: 0.5407091\ttest: 0.5299878\tbest: 0.5299878 (286)\ttotal: 7m 33s\tremaining: 18m 47s\n",
      "287:\tlearn: 0.5406603\ttest: 0.5299321\tbest: 0.5299321 (287)\ttotal: 7m 35s\tremaining: 18m 45s\n",
      "288:\tlearn: 0.5406156\ttest: 0.5298793\tbest: 0.5298793 (288)\ttotal: 7m 36s\tremaining: 18m 44s\n",
      "289:\tlearn: 0.5405634\ttest: 0.5298255\tbest: 0.5298255 (289)\ttotal: 7m 38s\tremaining: 18m 41s\n",
      "290:\tlearn: 0.5405211\ttest: 0.5297886\tbest: 0.5297886 (290)\ttotal: 7m 39s\tremaining: 18m 39s\n",
      "291:\tlearn: 0.5404712\ttest: 0.5297470\tbest: 0.5297470 (291)\ttotal: 7m 40s\tremaining: 18m 37s\n",
      "292:\tlearn: 0.5404290\ttest: 0.5297125\tbest: 0.5297125 (292)\ttotal: 7m 42s\tremaining: 18m 35s\n",
      "293:\tlearn: 0.5403799\ttest: 0.5296786\tbest: 0.5296786 (293)\ttotal: 7m 43s\tremaining: 18m 33s\n",
      "294:\tlearn: 0.5403209\ttest: 0.5296162\tbest: 0.5296162 (294)\ttotal: 7m 45s\tremaining: 18m 32s\n",
      "295:\tlearn: 0.5402826\ttest: 0.5295843\tbest: 0.5295843 (295)\ttotal: 7m 47s\tremaining: 18m 31s\n",
      "296:\tlearn: 0.5402352\ttest: 0.5295514\tbest: 0.5295514 (296)\ttotal: 7m 48s\tremaining: 18m 28s\n",
      "297:\tlearn: 0.5401783\ttest: 0.5295108\tbest: 0.5295108 (297)\ttotal: 7m 49s\tremaining: 18m 27s\n",
      "298:\tlearn: 0.5401215\ttest: 0.5294704\tbest: 0.5294704 (298)\ttotal: 7m 51s\tremaining: 18m 25s\n",
      "299:\tlearn: 0.5400743\ttest: 0.5294261\tbest: 0.5294261 (299)\ttotal: 7m 52s\tremaining: 18m 23s\n",
      "300:\tlearn: 0.5400304\ttest: 0.5293817\tbest: 0.5293817 (300)\ttotal: 7m 54s\tremaining: 18m 21s\n",
      "301:\tlearn: 0.5399957\ttest: 0.5293620\tbest: 0.5293620 (301)\ttotal: 7m 55s\tremaining: 18m 19s\n",
      "302:\tlearn: 0.5399594\ttest: 0.5293269\tbest: 0.5293269 (302)\ttotal: 7m 57s\tremaining: 18m 17s\n",
      "303:\tlearn: 0.5399226\ttest: 0.5292918\tbest: 0.5292918 (303)\ttotal: 7m 58s\tremaining: 18m 15s\n",
      "304:\tlearn: 0.5398791\ttest: 0.5292520\tbest: 0.5292520 (304)\ttotal: 8m\tremaining: 18m 14s\n",
      "305:\tlearn: 0.5398354\ttest: 0.5292233\tbest: 0.5292233 (305)\ttotal: 8m 1s\tremaining: 18m 13s\n",
      "306:\tlearn: 0.5398096\ttest: 0.5291937\tbest: 0.5291937 (306)\ttotal: 8m 3s\tremaining: 18m 12s\n",
      "307:\tlearn: 0.5397738\ttest: 0.5291678\tbest: 0.5291678 (307)\ttotal: 8m 5s\tremaining: 18m 10s\n",
      "308:\tlearn: 0.5397425\ttest: 0.5291447\tbest: 0.5291447 (308)\ttotal: 8m 7s\tremaining: 18m 9s\n",
      "309:\tlearn: 0.5397059\ttest: 0.5291241\tbest: 0.5291241 (309)\ttotal: 8m 8s\tremaining: 18m 7s\n",
      "310:\tlearn: 0.5396585\ttest: 0.5290885\tbest: 0.5290885 (310)\ttotal: 8m 10s\tremaining: 18m 5s\n",
      "311:\tlearn: 0.5396197\ttest: 0.5290470\tbest: 0.5290470 (311)\ttotal: 8m 11s\tremaining: 18m 4s\n",
      "312:\tlearn: 0.5395876\ttest: 0.5290212\tbest: 0.5290212 (312)\ttotal: 8m 13s\tremaining: 18m 2s\n",
      "313:\tlearn: 0.5395465\ttest: 0.5289932\tbest: 0.5289932 (313)\ttotal: 8m 14s\tremaining: 17m 59s\n",
      "314:\tlearn: 0.5395045\ttest: 0.5288633\tbest: 0.5288633 (314)\ttotal: 8m 15s\tremaining: 17m 57s\n",
      "315:\tlearn: 0.5394736\ttest: 0.5288396\tbest: 0.5288396 (315)\ttotal: 8m 16s\tremaining: 17m 55s\n",
      "316:\tlearn: 0.5394223\ttest: 0.5287848\tbest: 0.5287848 (316)\ttotal: 8m 17s\tremaining: 17m 52s\n",
      "317:\tlearn: 0.5393699\ttest: 0.5287485\tbest: 0.5287485 (317)\ttotal: 8m 19s\tremaining: 17m 51s\n",
      "318:\tlearn: 0.5393308\ttest: 0.5287069\tbest: 0.5287069 (318)\ttotal: 8m 20s\tremaining: 17m 49s\n",
      "319:\tlearn: 0.5392999\ttest: 0.5286767\tbest: 0.5286767 (319)\ttotal: 8m 22s\tremaining: 17m 47s\n",
      "320:\tlearn: 0.5392768\ttest: 0.5286423\tbest: 0.5286423 (320)\ttotal: 8m 24s\tremaining: 17m 46s\n",
      "321:\tlearn: 0.5392423\ttest: 0.5286051\tbest: 0.5286051 (321)\ttotal: 8m 25s\tremaining: 17m 44s\n",
      "322:\tlearn: 0.5392029\ttest: 0.5285813\tbest: 0.5285813 (322)\ttotal: 8m 26s\tremaining: 17m 42s\n",
      "323:\tlearn: 0.5391760\ttest: 0.5285588\tbest: 0.5285588 (323)\ttotal: 8m 28s\tremaining: 17m 41s\n",
      "324:\tlearn: 0.5391416\ttest: 0.5285300\tbest: 0.5285300 (324)\ttotal: 8m 30s\tremaining: 17m 39s\n",
      "325:\tlearn: 0.5391109\ttest: 0.5285055\tbest: 0.5285055 (325)\ttotal: 8m 31s\tremaining: 17m 38s\n",
      "326:\tlearn: 0.5390810\ttest: 0.5284907\tbest: 0.5284907 (326)\ttotal: 8m 33s\tremaining: 17m 36s\n",
      "327:\tlearn: 0.5390432\ttest: 0.5283722\tbest: 0.5283722 (327)\ttotal: 8m 34s\tremaining: 17m 34s\n",
      "328:\tlearn: 0.5390131\ttest: 0.5283490\tbest: 0.5283490 (328)\ttotal: 8m 36s\tremaining: 17m 32s\n",
      "329:\tlearn: 0.5389686\ttest: 0.5283107\tbest: 0.5283107 (329)\ttotal: 8m 37s\tremaining: 17m 30s\n",
      "330:\tlearn: 0.5389212\ttest: 0.5282807\tbest: 0.5282807 (330)\ttotal: 8m 39s\tremaining: 17m 29s\n",
      "331:\tlearn: 0.5388908\ttest: 0.5282490\tbest: 0.5282490 (331)\ttotal: 8m 40s\tremaining: 17m 27s\n",
      "332:\tlearn: 0.5388529\ttest: 0.5282199\tbest: 0.5282199 (332)\ttotal: 8m 41s\tremaining: 17m 25s\n",
      "333:\tlearn: 0.5388196\ttest: 0.5281838\tbest: 0.5281838 (333)\ttotal: 8m 43s\tremaining: 17m 24s\n",
      "334:\tlearn: 0.5387887\ttest: 0.5281686\tbest: 0.5281686 (334)\ttotal: 8m 45s\tremaining: 17m 23s\n",
      "335:\tlearn: 0.5387576\ttest: 0.5281391\tbest: 0.5281391 (335)\ttotal: 8m 46s\tremaining: 17m 21s\n",
      "336:\tlearn: 0.5387338\ttest: 0.5281122\tbest: 0.5281122 (336)\ttotal: 8m 48s\tremaining: 17m 19s\n",
      "337:\tlearn: 0.5386989\ttest: 0.5280865\tbest: 0.5280865 (337)\ttotal: 8m 49s\tremaining: 17m 17s\n",
      "338:\tlearn: 0.5386649\ttest: 0.5280583\tbest: 0.5280583 (338)\ttotal: 8m 52s\tremaining: 17m 18s\n",
      "339:\tlearn: 0.5386353\ttest: 0.5280283\tbest: 0.5280283 (339)\ttotal: 8m 54s\tremaining: 17m 16s\n",
      "340:\tlearn: 0.5386067\ttest: 0.5279958\tbest: 0.5279958 (340)\ttotal: 8m 55s\tremaining: 17m 15s\n",
      "341:\tlearn: 0.5385650\ttest: 0.5279530\tbest: 0.5279530 (341)\ttotal: 8m 56s\tremaining: 17m 12s\n",
      "342:\tlearn: 0.5385190\ttest: 0.5279166\tbest: 0.5279166 (342)\ttotal: 8m 58s\tremaining: 17m 10s\n",
      "343:\tlearn: 0.5384736\ttest: 0.5278786\tbest: 0.5278786 (343)\ttotal: 8m 59s\tremaining: 17m 9s\n",
      "344:\tlearn: 0.5384502\ttest: 0.5278534\tbest: 0.5278534 (344)\ttotal: 9m 1s\tremaining: 17m 8s\n",
      "345:\tlearn: 0.5384243\ttest: 0.5278381\tbest: 0.5278381 (345)\ttotal: 9m 3s\tremaining: 17m 6s\n",
      "346:\tlearn: 0.5383833\ttest: 0.5278109\tbest: 0.5278109 (346)\ttotal: 9m 4s\tremaining: 17m 5s\n",
      "347:\tlearn: 0.5383596\ttest: 0.5277978\tbest: 0.5277978 (347)\ttotal: 9m 6s\tremaining: 17m 3s\n",
      "348:\tlearn: 0.5383165\ttest: 0.5277707\tbest: 0.5277707 (348)\ttotal: 9m 8s\tremaining: 17m 2s\n",
      "349:\tlearn: 0.5382674\ttest: 0.5277359\tbest: 0.5277359 (349)\ttotal: 9m 9s\tremaining: 17m\n",
      "350:\tlearn: 0.5382451\ttest: 0.5277108\tbest: 0.5277108 (350)\ttotal: 9m 11s\tremaining: 16m 59s\n",
      "351:\tlearn: 0.5382040\ttest: 0.5276786\tbest: 0.5276786 (351)\ttotal: 9m 12s\tremaining: 16m 57s\n",
      "352:\tlearn: 0.5381788\ttest: 0.5276613\tbest: 0.5276613 (352)\ttotal: 9m 14s\tremaining: 16m 56s\n",
      "353:\tlearn: 0.5381347\ttest: 0.5276146\tbest: 0.5276146 (353)\ttotal: 9m 15s\tremaining: 16m 54s\n",
      "354:\tlearn: 0.5381008\ttest: 0.5275798\tbest: 0.5275798 (354)\ttotal: 9m 17s\tremaining: 16m 52s\n",
      "355:\tlearn: 0.5380750\ttest: 0.5275590\tbest: 0.5275590 (355)\ttotal: 9m 18s\tremaining: 16m 50s\n",
      "356:\tlearn: 0.5380551\ttest: 0.5274670\tbest: 0.5274670 (356)\ttotal: 9m 20s\tremaining: 16m 48s\n",
      "357:\tlearn: 0.5380287\ttest: 0.5274514\tbest: 0.5274514 (357)\ttotal: 9m 21s\tremaining: 16m 47s\n",
      "358:\tlearn: 0.5379754\ttest: 0.5274041\tbest: 0.5274041 (358)\ttotal: 9m 23s\tremaining: 16m 45s\n"
     ]
    },
    {
     "name": "stdout",
     "output_type": "stream",
     "text": [
      "359:\tlearn: 0.5379279\ttest: 0.5273651\tbest: 0.5273651 (359)\ttotal: 9m 24s\tremaining: 16m 44s\n",
      "360:\tlearn: 0.5379051\ttest: 0.5273460\tbest: 0.5273460 (360)\ttotal: 9m 26s\tremaining: 16m 42s\n",
      "361:\tlearn: 0.5378652\ttest: 0.5272982\tbest: 0.5272982 (361)\ttotal: 9m 28s\tremaining: 16m 41s\n",
      "362:\tlearn: 0.5378386\ttest: 0.5272860\tbest: 0.5272860 (362)\ttotal: 9m 29s\tremaining: 16m 39s\n",
      "363:\tlearn: 0.5378073\ttest: 0.5272557\tbest: 0.5272557 (363)\ttotal: 9m 31s\tremaining: 16m 38s\n",
      "364:\tlearn: 0.5377650\ttest: 0.5272214\tbest: 0.5272214 (364)\ttotal: 9m 32s\tremaining: 16m 36s\n",
      "365:\tlearn: 0.5377252\ttest: 0.5271786\tbest: 0.5271786 (365)\ttotal: 9m 34s\tremaining: 16m 34s\n",
      "366:\tlearn: 0.5376980\ttest: 0.5271458\tbest: 0.5271458 (366)\ttotal: 9m 35s\tremaining: 16m 32s\n",
      "367:\tlearn: 0.5376738\ttest: 0.5271310\tbest: 0.5271310 (367)\ttotal: 9m 37s\tremaining: 16m 31s\n",
      "368:\tlearn: 0.5376410\ttest: 0.5270971\tbest: 0.5270971 (368)\ttotal: 9m 38s\tremaining: 16m 29s\n",
      "369:\tlearn: 0.5375924\ttest: 0.5270551\tbest: 0.5270551 (369)\ttotal: 9m 39s\tremaining: 16m 27s\n",
      "370:\tlearn: 0.5375557\ttest: 0.5270101\tbest: 0.5270101 (370)\ttotal: 9m 42s\tremaining: 16m 26s\n",
      "371:\tlearn: 0.5375177\ttest: 0.5269775\tbest: 0.5269775 (371)\ttotal: 9m 43s\tremaining: 16m 24s\n",
      "372:\tlearn: 0.5374933\ttest: 0.5269609\tbest: 0.5269609 (372)\ttotal: 9m 44s\tremaining: 16m 23s\n",
      "373:\tlearn: 0.5374621\ttest: 0.5269459\tbest: 0.5269459 (373)\ttotal: 9m 46s\tremaining: 16m 21s\n",
      "374:\tlearn: 0.5374288\ttest: 0.5269250\tbest: 0.5269250 (374)\ttotal: 9m 48s\tremaining: 16m 20s\n",
      "375:\tlearn: 0.5373969\ttest: 0.5269011\tbest: 0.5269011 (375)\ttotal: 9m 50s\tremaining: 16m 19s\n",
      "376:\tlearn: 0.5373734\ttest: 0.5268807\tbest: 0.5268807 (376)\ttotal: 9m 51s\tremaining: 16m 17s\n",
      "377:\tlearn: 0.5373473\ttest: 0.5268513\tbest: 0.5268513 (377)\ttotal: 9m 52s\tremaining: 16m 15s\n",
      "378:\tlearn: 0.5373135\ttest: 0.5268324\tbest: 0.5268324 (378)\ttotal: 9m 54s\tremaining: 16m 14s\n",
      "379:\tlearn: 0.5372819\ttest: 0.5268005\tbest: 0.5268005 (379)\ttotal: 9m 56s\tremaining: 16m 12s\n",
      "380:\tlearn: 0.5372540\ttest: 0.5267815\tbest: 0.5267815 (380)\ttotal: 9m 57s\tremaining: 16m 10s\n",
      "381:\tlearn: 0.5372186\ttest: 0.5267431\tbest: 0.5267431 (381)\ttotal: 9m 59s\tremaining: 16m 9s\n",
      "382:\tlearn: 0.5371960\ttest: 0.5267256\tbest: 0.5267256 (382)\ttotal: 10m\tremaining: 16m 7s\n",
      "383:\tlearn: 0.5371615\ttest: 0.5266999\tbest: 0.5266999 (383)\ttotal: 10m 1s\tremaining: 16m 5s\n",
      "384:\tlearn: 0.5371327\ttest: 0.5266873\tbest: 0.5266873 (384)\ttotal: 10m 3s\tremaining: 16m 3s\n",
      "385:\tlearn: 0.5370969\ttest: 0.5266482\tbest: 0.5266482 (385)\ttotal: 10m 4s\tremaining: 16m 2s\n",
      "386:\tlearn: 0.5370735\ttest: 0.5266268\tbest: 0.5266268 (386)\ttotal: 10m 6s\tremaining: 16m\n",
      "387:\tlearn: 0.5370487\ttest: 0.5266064\tbest: 0.5266064 (387)\ttotal: 10m 7s\tremaining: 15m 58s\n",
      "388:\tlearn: 0.5370153\ttest: 0.5265769\tbest: 0.5265769 (388)\ttotal: 10m 9s\tremaining: 15m 57s\n",
      "389:\tlearn: 0.5369914\ttest: 0.5265485\tbest: 0.5265485 (389)\ttotal: 10m 11s\tremaining: 15m 57s\n",
      "390:\tlearn: 0.5369728\ttest: 0.5265318\tbest: 0.5265318 (390)\ttotal: 10m 13s\tremaining: 15m 55s\n",
      "391:\tlearn: 0.5369390\ttest: 0.5265016\tbest: 0.5265016 (391)\ttotal: 10m 15s\tremaining: 15m 54s\n",
      "392:\tlearn: 0.5369073\ttest: 0.5264679\tbest: 0.5264679 (392)\ttotal: 10m 16s\tremaining: 15m 51s\n",
      "393:\tlearn: 0.5368779\ttest: 0.5264499\tbest: 0.5264499 (393)\ttotal: 10m 17s\tremaining: 15m 50s\n",
      "394:\tlearn: 0.5368361\ttest: 0.5264111\tbest: 0.5264111 (394)\ttotal: 10m 19s\tremaining: 15m 48s\n",
      "395:\tlearn: 0.5368152\ttest: 0.5263966\tbest: 0.5263966 (395)\ttotal: 10m 20s\tremaining: 15m 47s\n",
      "396:\tlearn: 0.5367879\ttest: 0.5263775\tbest: 0.5263775 (396)\ttotal: 10m 22s\tremaining: 15m 45s\n",
      "397:\tlearn: 0.5367626\ttest: 0.5263514\tbest: 0.5263514 (397)\ttotal: 10m 23s\tremaining: 15m 43s\n",
      "398:\tlearn: 0.5367324\ttest: 0.5263250\tbest: 0.5263250 (398)\ttotal: 10m 25s\tremaining: 15m 42s\n",
      "399:\tlearn: 0.5367034\ttest: 0.5262944\tbest: 0.5262944 (399)\ttotal: 10m 26s\tremaining: 15m 40s\n",
      "400:\tlearn: 0.5366662\ttest: 0.5262634\tbest: 0.5262634 (400)\ttotal: 10m 28s\tremaining: 15m 38s\n",
      "401:\tlearn: 0.5366434\ttest: 0.5262436\tbest: 0.5262436 (401)\ttotal: 10m 30s\tremaining: 15m 38s\n",
      "402:\tlearn: 0.5366177\ttest: 0.5262282\tbest: 0.5262282 (402)\ttotal: 10m 32s\tremaining: 15m 36s\n",
      "403:\tlearn: 0.5365968\ttest: 0.5262161\tbest: 0.5262161 (403)\ttotal: 10m 33s\tremaining: 15m 34s\n",
      "404:\tlearn: 0.5365763\ttest: 0.5262031\tbest: 0.5262031 (404)\ttotal: 10m 34s\tremaining: 15m 32s\n",
      "405:\tlearn: 0.5365455\ttest: 0.5261800\tbest: 0.5261800 (405)\ttotal: 10m 36s\tremaining: 15m 30s\n",
      "406:\tlearn: 0.5365143\ttest: 0.5261622\tbest: 0.5261622 (406)\ttotal: 10m 37s\tremaining: 15m 28s\n",
      "407:\tlearn: 0.5364922\ttest: 0.5261455\tbest: 0.5261455 (407)\ttotal: 10m 38s\tremaining: 15m 27s\n",
      "408:\tlearn: 0.5364578\ttest: 0.5261108\tbest: 0.5261108 (408)\ttotal: 10m 40s\tremaining: 15m 25s\n",
      "409:\tlearn: 0.5364250\ttest: 0.5260824\tbest: 0.5260824 (409)\ttotal: 10m 41s\tremaining: 15m 23s\n",
      "410:\tlearn: 0.5363925\ttest: 0.5260487\tbest: 0.5260487 (410)\ttotal: 10m 42s\tremaining: 15m 21s\n",
      "411:\tlearn: 0.5363637\ttest: 0.5260296\tbest: 0.5260296 (411)\ttotal: 10m 44s\tremaining: 15m 19s\n",
      "412:\tlearn: 0.5363396\ttest: 0.5260065\tbest: 0.5260065 (412)\ttotal: 10m 45s\tremaining: 15m 18s\n",
      "413:\tlearn: 0.5363097\ttest: 0.5259835\tbest: 0.5259835 (413)\ttotal: 10m 47s\tremaining: 15m 16s\n",
      "414:\tlearn: 0.5362806\ttest: 0.5259615\tbest: 0.5259615 (414)\ttotal: 10m 48s\tremaining: 15m 14s\n",
      "415:\tlearn: 0.5362527\ttest: 0.5258849\tbest: 0.5258849 (415)\ttotal: 10m 50s\tremaining: 15m 12s\n",
      "416:\tlearn: 0.5362212\ttest: 0.5258529\tbest: 0.5258529 (416)\ttotal: 10m 52s\tremaining: 15m 11s\n",
      "417:\tlearn: 0.5361931\ttest: 0.5258354\tbest: 0.5258354 (417)\ttotal: 10m 53s\tremaining: 15m 9s\n",
      "418:\tlearn: 0.5361785\ttest: 0.5257581\tbest: 0.5257581 (418)\ttotal: 10m 54s\tremaining: 15m 8s\n",
      "419:\tlearn: 0.5361513\ttest: 0.5257432\tbest: 0.5257432 (419)\ttotal: 10m 56s\tremaining: 15m 6s\n",
      "420:\tlearn: 0.5361242\ttest: 0.5257142\tbest: 0.5257142 (420)\ttotal: 10m 58s\tremaining: 15m 5s\n",
      "421:\tlearn: 0.5361014\ttest: 0.5256944\tbest: 0.5256944 (421)\ttotal: 10m 59s\tremaining: 15m 3s\n",
      "422:\tlearn: 0.5360715\ttest: 0.5256707\tbest: 0.5256707 (422)\ttotal: 11m 1s\tremaining: 15m 1s\n",
      "423:\tlearn: 0.5360489\ttest: 0.5256509\tbest: 0.5256509 (423)\ttotal: 11m 2s\tremaining: 14m 59s\n",
      "424:\tlearn: 0.5360217\ttest: 0.5256335\tbest: 0.5256335 (424)\ttotal: 11m 3s\tremaining: 14m 57s\n",
      "425:\tlearn: 0.5359926\ttest: 0.5256007\tbest: 0.5256007 (425)\ttotal: 11m 5s\tremaining: 14m 57s\n",
      "426:\tlearn: 0.5359710\ttest: 0.5255790\tbest: 0.5255790 (426)\ttotal: 11m 7s\tremaining: 14m 55s\n",
      "427:\tlearn: 0.5359452\ttest: 0.5255588\tbest: 0.5255588 (427)\ttotal: 11m 9s\tremaining: 14m 54s\n",
      "428:\tlearn: 0.5359289\ttest: 0.5255508\tbest: 0.5255508 (428)\ttotal: 11m 10s\tremaining: 14m 52s\n",
      "429:\tlearn: 0.5359097\ttest: 0.5255347\tbest: 0.5255347 (429)\ttotal: 11m 12s\tremaining: 14m 50s\n",
      "430:\tlearn: 0.5358832\ttest: 0.5255091\tbest: 0.5255091 (430)\ttotal: 11m 13s\tremaining: 14m 49s\n",
      "431:\tlearn: 0.5358651\ttest: 0.5255028\tbest: 0.5255028 (431)\ttotal: 11m 15s\tremaining: 14m 47s\n",
      "432:\tlearn: 0.5358453\ttest: 0.5254788\tbest: 0.5254788 (432)\ttotal: 11m 17s\tremaining: 14m 46s\n",
      "433:\tlearn: 0.5358148\ttest: 0.5254480\tbest: 0.5254480 (433)\ttotal: 11m 18s\tremaining: 14m 45s\n",
      "434:\tlearn: 0.5357927\ttest: 0.5254268\tbest: 0.5254268 (434)\ttotal: 11m 20s\tremaining: 14m 43s\n",
      "435:\tlearn: 0.5357718\ttest: 0.5254069\tbest: 0.5254069 (435)\ttotal: 11m 21s\tremaining: 14m 42s\n",
      "436:\tlearn: 0.5357376\ttest: 0.5253752\tbest: 0.5253752 (436)\ttotal: 11m 24s\tremaining: 14m 41s\n",
      "437:\tlearn: 0.5357129\ttest: 0.5253453\tbest: 0.5253453 (437)\ttotal: 11m 26s\tremaining: 14m 40s\n",
      "438:\tlearn: 0.5356927\ttest: 0.5253317\tbest: 0.5253317 (438)\ttotal: 11m 27s\tremaining: 14m 38s\n",
      "439:\tlearn: 0.5356642\ttest: 0.5253041\tbest: 0.5253041 (439)\ttotal: 11m 28s\tremaining: 14m 36s\n",
      "440:\tlearn: 0.5356431\ttest: 0.5252919\tbest: 0.5252919 (440)\ttotal: 11m 30s\tremaining: 14m 34s\n",
      "441:\tlearn: 0.5356177\ttest: 0.5252667\tbest: 0.5252667 (441)\ttotal: 11m 32s\tremaining: 14m 34s\n",
      "442:\tlearn: 0.5356025\ttest: 0.5252498\tbest: 0.5252498 (442)\ttotal: 11m 34s\tremaining: 14m 32s\n",
      "443:\tlearn: 0.5355778\ttest: 0.5252381\tbest: 0.5252381 (443)\ttotal: 11m 35s\tremaining: 14m 31s\n",
      "444:\tlearn: 0.5355453\ttest: 0.5252046\tbest: 0.5252046 (444)\ttotal: 11m 37s\tremaining: 14m 29s\n",
      "445:\tlearn: 0.5355210\ttest: 0.5251778\tbest: 0.5251778 (445)\ttotal: 11m 39s\tremaining: 14m 29s\n",
      "446:\tlearn: 0.5354860\ttest: 0.5251486\tbest: 0.5251486 (446)\ttotal: 11m 40s\tremaining: 14m 26s\n"
     ]
    },
    {
     "name": "stdout",
     "output_type": "stream",
     "text": [
      "447:\tlearn: 0.5354686\ttest: 0.5251281\tbest: 0.5251281 (447)\ttotal: 11m 41s\tremaining: 14m 24s\n",
      "448:\tlearn: 0.5354496\ttest: 0.5251109\tbest: 0.5251109 (448)\ttotal: 11m 44s\tremaining: 14m 24s\n",
      "449:\tlearn: 0.5354281\ttest: 0.5250907\tbest: 0.5250907 (449)\ttotal: 11m 46s\tremaining: 14m 23s\n",
      "450:\tlearn: 0.5353961\ttest: 0.5250638\tbest: 0.5250638 (450)\ttotal: 11m 47s\tremaining: 14m 20s\n",
      "451:\tlearn: 0.5353749\ttest: 0.5250554\tbest: 0.5250554 (451)\ttotal: 11m 48s\tremaining: 14m 19s\n",
      "452:\tlearn: 0.5353496\ttest: 0.5250337\tbest: 0.5250337 (452)\ttotal: 11m 50s\tremaining: 14m 17s\n",
      "453:\tlearn: 0.5353199\ttest: 0.5250097\tbest: 0.5250097 (453)\ttotal: 11m 51s\tremaining: 14m 16s\n",
      "454:\tlearn: 0.5352967\ttest: 0.5249795\tbest: 0.5249795 (454)\ttotal: 11m 53s\tremaining: 14m 14s\n",
      "455:\tlearn: 0.5352753\ttest: 0.5249563\tbest: 0.5249563 (455)\ttotal: 11m 54s\tremaining: 14m 12s\n",
      "456:\tlearn: 0.5352575\ttest: 0.5249359\tbest: 0.5249359 (456)\ttotal: 11m 56s\tremaining: 14m 11s\n",
      "457:\tlearn: 0.5352320\ttest: 0.5249061\tbest: 0.5249061 (457)\ttotal: 11m 57s\tremaining: 14m 9s\n",
      "458:\tlearn: 0.5352052\ttest: 0.5248914\tbest: 0.5248914 (458)\ttotal: 11m 59s\tremaining: 14m 7s\n",
      "459:\tlearn: 0.5351877\ttest: 0.5248818\tbest: 0.5248818 (459)\ttotal: 12m\tremaining: 14m 6s\n",
      "460:\tlearn: 0.5351533\ttest: 0.5248551\tbest: 0.5248551 (460)\ttotal: 12m 2s\tremaining: 14m 4s\n",
      "461:\tlearn: 0.5351337\ttest: 0.5248427\tbest: 0.5248427 (461)\ttotal: 12m 3s\tremaining: 14m 2s\n",
      "462:\tlearn: 0.5351157\ttest: 0.5248339\tbest: 0.5248339 (462)\ttotal: 12m 4s\tremaining: 14m\n",
      "463:\tlearn: 0.5350892\ttest: 0.5248050\tbest: 0.5248050 (463)\ttotal: 12m 6s\tremaining: 13m 59s\n",
      "464:\tlearn: 0.5350556\ttest: 0.5247820\tbest: 0.5247820 (464)\ttotal: 12m 7s\tremaining: 13m 57s\n",
      "465:\tlearn: 0.5350284\ttest: 0.5247598\tbest: 0.5247598 (465)\ttotal: 12m 9s\tremaining: 13m 55s\n",
      "466:\tlearn: 0.5349985\ttest: 0.5247392\tbest: 0.5247392 (466)\ttotal: 12m 11s\tremaining: 13m 54s\n",
      "467:\tlearn: 0.5349794\ttest: 0.5247251\tbest: 0.5247251 (467)\ttotal: 12m 12s\tremaining: 13m 53s\n",
      "468:\tlearn: 0.5349582\ttest: 0.5247093\tbest: 0.5247093 (468)\ttotal: 12m 14s\tremaining: 13m 51s\n",
      "469:\tlearn: 0.5349417\ttest: 0.5246955\tbest: 0.5246955 (469)\ttotal: 12m 15s\tremaining: 13m 49s\n",
      "470:\tlearn: 0.5349180\ttest: 0.5246850\tbest: 0.5246850 (470)\ttotal: 12m 17s\tremaining: 13m 47s\n",
      "471:\tlearn: 0.5348994\ttest: 0.5246680\tbest: 0.5246680 (471)\ttotal: 12m 18s\tremaining: 13m 46s\n",
      "472:\tlearn: 0.5348808\ttest: 0.5246500\tbest: 0.5246500 (472)\ttotal: 12m 20s\tremaining: 13m 44s\n",
      "473:\tlearn: 0.5348624\ttest: 0.5246341\tbest: 0.5246341 (473)\ttotal: 12m 21s\tremaining: 13m 42s\n",
      "474:\tlearn: 0.5348371\ttest: 0.5246092\tbest: 0.5246092 (474)\ttotal: 12m 23s\tremaining: 13m 41s\n",
      "475:\tlearn: 0.5348220\ttest: 0.5246018\tbest: 0.5246018 (475)\ttotal: 12m 25s\tremaining: 13m 40s\n",
      "476:\tlearn: 0.5347967\ttest: 0.5245883\tbest: 0.5245883 (476)\ttotal: 12m 26s\tremaining: 13m 38s\n",
      "477:\tlearn: 0.5347745\ttest: 0.5245696\tbest: 0.5245696 (477)\ttotal: 12m 28s\tremaining: 13m 37s\n",
      "478:\tlearn: 0.5347549\ttest: 0.5245519\tbest: 0.5245519 (478)\ttotal: 12m 30s\tremaining: 13m 36s\n",
      "479:\tlearn: 0.5347384\ttest: 0.5245339\tbest: 0.5245339 (479)\ttotal: 12m 32s\tremaining: 13m 34s\n",
      "480:\tlearn: 0.5347256\ttest: 0.5245203\tbest: 0.5245203 (480)\ttotal: 12m 33s\tremaining: 13m 32s\n",
      "481:\tlearn: 0.5347007\ttest: 0.5244959\tbest: 0.5244959 (481)\ttotal: 12m 35s\tremaining: 13m 31s\n",
      "482:\tlearn: 0.5346879\ttest: 0.5244834\tbest: 0.5244834 (482)\ttotal: 12m 36s\tremaining: 13m 30s\n",
      "483:\tlearn: 0.5346618\ttest: 0.5244656\tbest: 0.5244656 (483)\ttotal: 12m 38s\tremaining: 13m 28s\n",
      "484:\tlearn: 0.5346417\ttest: 0.5244336\tbest: 0.5244336 (484)\ttotal: 12m 39s\tremaining: 13m 26s\n",
      "485:\tlearn: 0.5346277\ttest: 0.5244251\tbest: 0.5244251 (485)\ttotal: 12m 40s\tremaining: 13m 24s\n",
      "486:\tlearn: 0.5346111\ttest: 0.5244096\tbest: 0.5244096 (486)\ttotal: 12m 42s\tremaining: 13m 23s\n",
      "487:\tlearn: 0.5345818\ttest: 0.5243788\tbest: 0.5243788 (487)\ttotal: 12m 44s\tremaining: 13m 21s\n",
      "488:\tlearn: 0.5345680\ttest: 0.5243703\tbest: 0.5243703 (488)\ttotal: 12m 45s\tremaining: 13m 20s\n",
      "489:\tlearn: 0.5345434\ttest: 0.5243465\tbest: 0.5243465 (489)\ttotal: 12m 47s\tremaining: 13m 18s\n",
      "490:\tlearn: 0.5345265\ttest: 0.5243327\tbest: 0.5243327 (490)\ttotal: 12m 48s\tremaining: 13m 16s\n",
      "491:\tlearn: 0.5345026\ttest: 0.5243197\tbest: 0.5243197 (491)\ttotal: 12m 50s\tremaining: 13m 15s\n",
      "492:\tlearn: 0.5344812\ttest: 0.5242976\tbest: 0.5242976 (492)\ttotal: 12m 51s\tremaining: 13m 13s\n",
      "493:\tlearn: 0.5344507\ttest: 0.5242717\tbest: 0.5242717 (493)\ttotal: 12m 53s\tremaining: 13m 11s\n",
      "494:\tlearn: 0.5344336\ttest: 0.5242651\tbest: 0.5242651 (494)\ttotal: 12m 54s\tremaining: 13m 10s\n",
      "495:\tlearn: 0.5344102\ttest: 0.5242465\tbest: 0.5242465 (495)\ttotal: 12m 56s\tremaining: 13m 9s\n",
      "496:\tlearn: 0.5343982\ttest: 0.5242381\tbest: 0.5242381 (496)\ttotal: 12m 58s\tremaining: 13m 7s\n",
      "497:\tlearn: 0.5343748\ttest: 0.5242173\tbest: 0.5242173 (497)\ttotal: 12m 59s\tremaining: 13m 5s\n",
      "498:\tlearn: 0.5343608\ttest: 0.5242019\tbest: 0.5242019 (498)\ttotal: 13m 1s\tremaining: 13m 4s\n",
      "499:\tlearn: 0.5343389\ttest: 0.5241690\tbest: 0.5241690 (499)\ttotal: 13m 2s\tremaining: 13m 2s\n",
      "500:\tlearn: 0.5343124\ttest: 0.5241394\tbest: 0.5241394 (500)\ttotal: 13m 4s\tremaining: 13m 1s\n",
      "501:\tlearn: 0.5342926\ttest: 0.5241287\tbest: 0.5241287 (501)\ttotal: 13m 5s\tremaining: 12m 59s\n",
      "502:\tlearn: 0.5342712\ttest: 0.5241094\tbest: 0.5241094 (502)\ttotal: 13m 6s\tremaining: 12m 57s\n",
      "503:\tlearn: 0.5342544\ttest: 0.5240879\tbest: 0.5240879 (503)\ttotal: 13m 8s\tremaining: 12m 55s\n",
      "504:\tlearn: 0.5342316\ttest: 0.5240760\tbest: 0.5240760 (504)\ttotal: 13m 9s\tremaining: 12m 54s\n",
      "505:\tlearn: 0.5342106\ttest: 0.5240645\tbest: 0.5240645 (505)\ttotal: 13m 11s\tremaining: 12m 52s\n",
      "506:\tlearn: 0.5341844\ttest: 0.5240355\tbest: 0.5240355 (506)\ttotal: 13m 12s\tremaining: 12m 50s\n",
      "507:\tlearn: 0.5341709\ttest: 0.5240256\tbest: 0.5240256 (507)\ttotal: 13m 13s\tremaining: 12m 48s\n",
      "508:\tlearn: 0.5341552\ttest: 0.5240097\tbest: 0.5240097 (508)\ttotal: 13m 15s\tremaining: 12m 47s\n",
      "509:\tlearn: 0.5341397\ttest: 0.5239995\tbest: 0.5239995 (509)\ttotal: 13m 16s\tremaining: 12m 45s\n",
      "510:\tlearn: 0.5341205\ttest: 0.5239872\tbest: 0.5239872 (510)\ttotal: 13m 17s\tremaining: 12m 43s\n",
      "511:\tlearn: 0.5340980\ttest: 0.5239730\tbest: 0.5239730 (511)\ttotal: 13m 19s\tremaining: 12m 41s\n",
      "512:\tlearn: 0.5340782\ttest: 0.5239068\tbest: 0.5239068 (512)\ttotal: 13m 20s\tremaining: 12m 40s\n",
      "513:\tlearn: 0.5340555\ttest: 0.5238811\tbest: 0.5238811 (513)\ttotal: 13m 22s\tremaining: 12m 38s\n",
      "514:\tlearn: 0.5340411\ttest: 0.5238757\tbest: 0.5238757 (514)\ttotal: 13m 23s\tremaining: 12m 36s\n",
      "515:\tlearn: 0.5340138\ttest: 0.5238522\tbest: 0.5238522 (515)\ttotal: 13m 25s\tremaining: 12m 35s\n",
      "516:\tlearn: 0.5339983\ttest: 0.5238427\tbest: 0.5238427 (516)\ttotal: 13m 26s\tremaining: 12m 33s\n",
      "517:\tlearn: 0.5339795\ttest: 0.5238297\tbest: 0.5238297 (517)\ttotal: 13m 27s\tremaining: 12m 31s\n",
      "518:\tlearn: 0.5339676\ttest: 0.5238231\tbest: 0.5238231 (518)\ttotal: 13m 29s\tremaining: 12m 30s\n",
      "519:\tlearn: 0.5339441\ttest: 0.5238026\tbest: 0.5238026 (519)\ttotal: 13m 31s\tremaining: 12m 29s\n",
      "520:\tlearn: 0.5339264\ttest: 0.5237861\tbest: 0.5237861 (520)\ttotal: 13m 33s\tremaining: 12m 27s\n",
      "521:\tlearn: 0.5339110\ttest: 0.5237706\tbest: 0.5237706 (521)\ttotal: 13m 34s\tremaining: 12m 26s\n",
      "522:\tlearn: 0.5338922\ttest: 0.5237624\tbest: 0.5237624 (522)\ttotal: 13m 36s\tremaining: 12m 24s\n",
      "523:\tlearn: 0.5338777\ttest: 0.5237505\tbest: 0.5237505 (523)\ttotal: 13m 37s\tremaining: 12m 22s\n",
      "524:\tlearn: 0.5338605\ttest: 0.5237369\tbest: 0.5237369 (524)\ttotal: 13m 39s\tremaining: 12m 21s\n",
      "525:\tlearn: 0.5338369\ttest: 0.5237284\tbest: 0.5237284 (525)\ttotal: 13m 41s\tremaining: 12m 19s\n",
      "526:\tlearn: 0.5338185\ttest: 0.5237108\tbest: 0.5237108 (526)\ttotal: 13m 42s\tremaining: 12m 18s\n",
      "527:\tlearn: 0.5338028\ttest: 0.5237043\tbest: 0.5237043 (527)\ttotal: 13m 44s\tremaining: 12m 16s\n",
      "528:\tlearn: 0.5337817\ttest: 0.5236751\tbest: 0.5236751 (528)\ttotal: 13m 45s\tremaining: 12m 15s\n",
      "529:\tlearn: 0.5337598\ttest: 0.5236508\tbest: 0.5236508 (529)\ttotal: 13m 46s\tremaining: 12m 13s\n",
      "530:\tlearn: 0.5337509\ttest: 0.5235597\tbest: 0.5235597 (530)\ttotal: 13m 48s\tremaining: 12m 11s\n",
      "531:\tlearn: 0.5337363\ttest: 0.5235497\tbest: 0.5235497 (531)\ttotal: 13m 50s\tremaining: 12m 10s\n",
      "532:\tlearn: 0.5337106\ttest: 0.5235338\tbest: 0.5235338 (532)\ttotal: 13m 51s\tremaining: 12m 8s\n",
      "533:\tlearn: 0.5336945\ttest: 0.5235207\tbest: 0.5235207 (533)\ttotal: 13m 52s\tremaining: 12m 6s\n",
      "534:\tlearn: 0.5336759\ttest: 0.5235086\tbest: 0.5235086 (534)\ttotal: 13m 54s\tremaining: 12m 4s\n"
     ]
    },
    {
     "name": "stdout",
     "output_type": "stream",
     "text": [
      "535:\tlearn: 0.5336624\ttest: 0.5234944\tbest: 0.5234944 (535)\ttotal: 13m 55s\tremaining: 12m 3s\n",
      "536:\tlearn: 0.5336499\ttest: 0.5234850\tbest: 0.5234850 (536)\ttotal: 13m 56s\tremaining: 12m 1s\n",
      "537:\tlearn: 0.5336290\ttest: 0.5234674\tbest: 0.5234674 (537)\ttotal: 13m 58s\tremaining: 11m 59s\n",
      "538:\tlearn: 0.5336163\ttest: 0.5234568\tbest: 0.5234568 (538)\ttotal: 13m 59s\tremaining: 11m 58s\n",
      "539:\tlearn: 0.5336058\ttest: 0.5234514\tbest: 0.5234514 (539)\ttotal: 14m 1s\tremaining: 11m 56s\n",
      "540:\tlearn: 0.5335888\ttest: 0.5234433\tbest: 0.5234433 (540)\ttotal: 14m 2s\tremaining: 11m 54s\n",
      "541:\tlearn: 0.5335704\ttest: 0.5234272\tbest: 0.5234272 (541)\ttotal: 14m 3s\tremaining: 11m 53s\n",
      "542:\tlearn: 0.5335494\ttest: 0.5234172\tbest: 0.5234172 (542)\ttotal: 14m 5s\tremaining: 11m 51s\n",
      "543:\tlearn: 0.5335351\ttest: 0.5234086\tbest: 0.5234086 (543)\ttotal: 14m 7s\tremaining: 11m 50s\n",
      "544:\tlearn: 0.5335182\ttest: 0.5233877\tbest: 0.5233877 (544)\ttotal: 14m 8s\tremaining: 11m 48s\n",
      "545:\tlearn: 0.5335049\ttest: 0.5233755\tbest: 0.5233755 (545)\ttotal: 14m 10s\tremaining: 11m 47s\n",
      "546:\tlearn: 0.5334747\ttest: 0.5233436\tbest: 0.5233436 (546)\ttotal: 14m 11s\tremaining: 11m 45s\n",
      "547:\tlearn: 0.5334582\ttest: 0.5233309\tbest: 0.5233309 (547)\ttotal: 14m 12s\tremaining: 11m 43s\n",
      "548:\tlearn: 0.5334307\ttest: 0.5233087\tbest: 0.5233087 (548)\ttotal: 14m 14s\tremaining: 11m 41s\n",
      "549:\tlearn: 0.5334196\ttest: 0.5233016\tbest: 0.5233016 (549)\ttotal: 14m 15s\tremaining: 11m 40s\n",
      "550:\tlearn: 0.5333963\ttest: 0.5232864\tbest: 0.5232864 (550)\ttotal: 14m 17s\tremaining: 11m 39s\n",
      "551:\tlearn: 0.5333838\ttest: 0.5232729\tbest: 0.5232729 (551)\ttotal: 14m 20s\tremaining: 11m 38s\n",
      "552:\tlearn: 0.5333605\ttest: 0.5232537\tbest: 0.5232537 (552)\ttotal: 14m 21s\tremaining: 11m 36s\n",
      "553:\tlearn: 0.5333423\ttest: 0.5232469\tbest: 0.5232469 (553)\ttotal: 14m 23s\tremaining: 11m 34s\n",
      "554:\tlearn: 0.5333216\ttest: 0.5232257\tbest: 0.5232257 (554)\ttotal: 14m 24s\tremaining: 11m 32s\n",
      "555:\tlearn: 0.5333034\ttest: 0.5232090\tbest: 0.5232090 (555)\ttotal: 14m 25s\tremaining: 11m 30s\n",
      "556:\tlearn: 0.5332855\ttest: 0.5231812\tbest: 0.5231812 (556)\ttotal: 14m 26s\tremaining: 11m 29s\n",
      "557:\tlearn: 0.5332682\ttest: 0.5231728\tbest: 0.5231728 (557)\ttotal: 14m 28s\tremaining: 11m 27s\n",
      "558:\tlearn: 0.5332523\ttest: 0.5231537\tbest: 0.5231537 (558)\ttotal: 14m 29s\tremaining: 11m 25s\n",
      "559:\tlearn: 0.5332356\ttest: 0.5231486\tbest: 0.5231486 (559)\ttotal: 14m 30s\tremaining: 11m 24s\n",
      "560:\tlearn: 0.5332169\ttest: 0.5231311\tbest: 0.5231311 (560)\ttotal: 14m 32s\tremaining: 11m 22s\n",
      "561:\tlearn: 0.5331996\ttest: 0.5231176\tbest: 0.5231176 (561)\ttotal: 14m 34s\tremaining: 11m 21s\n",
      "562:\tlearn: 0.5331830\ttest: 0.5231117\tbest: 0.5231117 (562)\ttotal: 14m 36s\tremaining: 11m 20s\n",
      "563:\tlearn: 0.5331672\ttest: 0.5230983\tbest: 0.5230983 (563)\ttotal: 14m 37s\tremaining: 11m 18s\n",
      "564:\tlearn: 0.5331471\ttest: 0.5230854\tbest: 0.5230854 (564)\ttotal: 14m 39s\tremaining: 11m 17s\n",
      "565:\tlearn: 0.5331279\ttest: 0.5230649\tbest: 0.5230649 (565)\ttotal: 14m 41s\tremaining: 11m 15s\n",
      "566:\tlearn: 0.5331139\ttest: 0.5230595\tbest: 0.5230595 (566)\ttotal: 14m 42s\tremaining: 11m 13s\n",
      "567:\tlearn: 0.5331027\ttest: 0.5230474\tbest: 0.5230474 (567)\ttotal: 14m 43s\tremaining: 11m 12s\n",
      "568:\tlearn: 0.5330871\ttest: 0.5230394\tbest: 0.5230394 (568)\ttotal: 14m 45s\tremaining: 11m 10s\n",
      "569:\tlearn: 0.5330735\ttest: 0.5230310\tbest: 0.5230310 (569)\ttotal: 14m 46s\tremaining: 11m 8s\n",
      "570:\tlearn: 0.5330600\ttest: 0.5230207\tbest: 0.5230207 (570)\ttotal: 14m 48s\tremaining: 11m 7s\n",
      "571:\tlearn: 0.5330489\ttest: 0.5230113\tbest: 0.5230113 (571)\ttotal: 14m 49s\tremaining: 11m 5s\n",
      "572:\tlearn: 0.5330357\ttest: 0.5229945\tbest: 0.5229945 (572)\ttotal: 14m 50s\tremaining: 11m 3s\n",
      "573:\tlearn: 0.5330216\ttest: 0.5229897\tbest: 0.5229897 (573)\ttotal: 14m 52s\tremaining: 11m 2s\n",
      "574:\tlearn: 0.5330032\ttest: 0.5229728\tbest: 0.5229728 (574)\ttotal: 14m 54s\tremaining: 11m 1s\n",
      "575:\tlearn: 0.5329902\ttest: 0.5229584\tbest: 0.5229584 (575)\ttotal: 14m 55s\tremaining: 10m 59s\n",
      "576:\tlearn: 0.5329754\ttest: 0.5229452\tbest: 0.5229452 (576)\ttotal: 14m 57s\tremaining: 10m 57s\n",
      "577:\tlearn: 0.5329579\ttest: 0.5229262\tbest: 0.5229262 (577)\ttotal: 14m 58s\tremaining: 10m 56s\n",
      "578:\tlearn: 0.5329417\ttest: 0.5229113\tbest: 0.5229113 (578)\ttotal: 15m\tremaining: 10m 54s\n",
      "579:\tlearn: 0.5329275\ttest: 0.5229061\tbest: 0.5229061 (579)\ttotal: 15m 2s\tremaining: 10m 53s\n",
      "580:\tlearn: 0.5329136\ttest: 0.5228938\tbest: 0.5228938 (580)\ttotal: 15m 3s\tremaining: 10m 51s\n",
      "581:\tlearn: 0.5328948\ttest: 0.5228859\tbest: 0.5228859 (581)\ttotal: 15m 4s\tremaining: 10m 49s\n",
      "582:\tlearn: 0.5328815\ttest: 0.5228734\tbest: 0.5228734 (582)\ttotal: 15m 6s\tremaining: 10m 48s\n",
      "583:\tlearn: 0.5328647\ttest: 0.5228655\tbest: 0.5228655 (583)\ttotal: 15m 8s\tremaining: 10m 46s\n",
      "584:\tlearn: 0.5328496\ttest: 0.5228486\tbest: 0.5228486 (584)\ttotal: 15m 9s\tremaining: 10m 45s\n",
      "585:\tlearn: 0.5328313\ttest: 0.5228289\tbest: 0.5228289 (585)\ttotal: 15m 11s\tremaining: 10m 43s\n",
      "586:\tlearn: 0.5328156\ttest: 0.5228218\tbest: 0.5228218 (586)\ttotal: 15m 12s\tremaining: 10m 42s\n",
      "587:\tlearn: 0.5327990\ttest: 0.5228161\tbest: 0.5228161 (587)\ttotal: 15m 13s\tremaining: 10m 40s\n",
      "588:\tlearn: 0.5327854\ttest: 0.5228060\tbest: 0.5228060 (588)\ttotal: 15m 15s\tremaining: 10m 38s\n",
      "589:\tlearn: 0.5327698\ttest: 0.5227934\tbest: 0.5227934 (589)\ttotal: 15m 16s\tremaining: 10m 37s\n",
      "590:\tlearn: 0.5327583\ttest: 0.5227908\tbest: 0.5227908 (590)\ttotal: 15m 18s\tremaining: 10m 35s\n",
      "591:\tlearn: 0.5327377\ttest: 0.5227726\tbest: 0.5227726 (591)\ttotal: 15m 19s\tremaining: 10m 33s\n",
      "592:\tlearn: 0.5327241\ttest: 0.5227567\tbest: 0.5227567 (592)\ttotal: 15m 20s\tremaining: 10m 31s\n",
      "593:\tlearn: 0.5327126\ttest: 0.5227511\tbest: 0.5227511 (593)\ttotal: 15m 21s\tremaining: 10m 29s\n",
      "594:\tlearn: 0.5326928\ttest: 0.5227366\tbest: 0.5227366 (594)\ttotal: 15m 23s\tremaining: 10m 28s\n",
      "595:\tlearn: 0.5326788\ttest: 0.5227158\tbest: 0.5227158 (595)\ttotal: 15m 26s\tremaining: 10m 27s\n",
      "596:\tlearn: 0.5326627\ttest: 0.5227056\tbest: 0.5227056 (596)\ttotal: 15m 27s\tremaining: 10m 26s\n",
      "597:\tlearn: 0.5326435\ttest: 0.5226862\tbest: 0.5226862 (597)\ttotal: 15m 29s\tremaining: 10m 24s\n",
      "598:\tlearn: 0.5326251\ttest: 0.5226720\tbest: 0.5226720 (598)\ttotal: 15m 30s\tremaining: 10m 23s\n",
      "599:\tlearn: 0.5326075\ttest: 0.5226636\tbest: 0.5226636 (599)\ttotal: 15m 32s\tremaining: 10m 21s\n",
      "600:\tlearn: 0.5325953\ttest: 0.5226534\tbest: 0.5226534 (600)\ttotal: 15m 33s\tremaining: 10m 20s\n",
      "601:\tlearn: 0.5325773\ttest: 0.5226348\tbest: 0.5226348 (601)\ttotal: 15m 34s\tremaining: 10m 18s\n",
      "602:\tlearn: 0.5325640\ttest: 0.5226241\tbest: 0.5226241 (602)\ttotal: 15m 36s\tremaining: 10m 16s\n",
      "603:\tlearn: 0.5325520\ttest: 0.5226186\tbest: 0.5226186 (603)\ttotal: 15m 37s\tremaining: 10m 14s\n",
      "604:\tlearn: 0.5325372\ttest: 0.5226048\tbest: 0.5226048 (604)\ttotal: 15m 38s\tremaining: 10m 12s\n",
      "605:\tlearn: 0.5325251\ttest: 0.5225896\tbest: 0.5225896 (605)\ttotal: 15m 39s\tremaining: 10m 11s\n",
      "606:\tlearn: 0.5325129\ttest: 0.5225799\tbest: 0.5225799 (606)\ttotal: 15m 41s\tremaining: 10m 9s\n",
      "607:\tlearn: 0.5325037\ttest: 0.5225743\tbest: 0.5225743 (607)\ttotal: 15m 42s\tremaining: 10m 7s\n",
      "608:\tlearn: 0.5324922\ttest: 0.5225694\tbest: 0.5225694 (608)\ttotal: 15m 44s\tremaining: 10m 6s\n",
      "609:\tlearn: 0.5324724\ttest: 0.5225506\tbest: 0.5225506 (609)\ttotal: 15m 45s\tremaining: 10m 4s\n",
      "610:\tlearn: 0.5324630\ttest: 0.5225437\tbest: 0.5225437 (610)\ttotal: 15m 46s\tremaining: 10m 2s\n",
      "611:\tlearn: 0.5324469\ttest: 0.5225280\tbest: 0.5225280 (611)\ttotal: 15m 48s\tremaining: 10m 1s\n",
      "612:\tlearn: 0.5324365\ttest: 0.5225203\tbest: 0.5225203 (612)\ttotal: 15m 50s\tremaining: 9m 59s\n",
      "613:\tlearn: 0.5324219\ttest: 0.5225127\tbest: 0.5225127 (613)\ttotal: 15m 51s\tremaining: 9m 58s\n",
      "614:\tlearn: 0.5324146\ttest: 0.5224770\tbest: 0.5224770 (614)\ttotal: 15m 53s\tremaining: 9m 56s\n",
      "615:\tlearn: 0.5323960\ttest: 0.5224629\tbest: 0.5224629 (615)\ttotal: 15m 55s\tremaining: 9m 55s\n",
      "616:\tlearn: 0.5323830\ttest: 0.5224581\tbest: 0.5224581 (616)\ttotal: 15m 57s\tremaining: 9m 54s\n",
      "617:\tlearn: 0.5323642\ttest: 0.5224406\tbest: 0.5224406 (617)\ttotal: 15m 59s\tremaining: 9m 52s\n",
      "618:\tlearn: 0.5323470\ttest: 0.5224190\tbest: 0.5224190 (618)\ttotal: 16m\tremaining: 9m 51s\n",
      "619:\tlearn: 0.5323329\ttest: 0.5224030\tbest: 0.5224030 (619)\ttotal: 16m 2s\tremaining: 9m 49s\n",
      "620:\tlearn: 0.5323242\ttest: 0.5223956\tbest: 0.5223956 (620)\ttotal: 16m 3s\tremaining: 9m 47s\n",
      "621:\tlearn: 0.5323141\ttest: 0.5223803\tbest: 0.5223803 (621)\ttotal: 16m 5s\tremaining: 9m 46s\n",
      "622:\tlearn: 0.5322998\ttest: 0.5223686\tbest: 0.5223686 (622)\ttotal: 16m 6s\tremaining: 9m 44s\n"
     ]
    },
    {
     "name": "stdout",
     "output_type": "stream",
     "text": [
      "623:\tlearn: 0.5322905\ttest: 0.5223623\tbest: 0.5223623 (623)\ttotal: 16m 8s\tremaining: 9m 43s\n",
      "624:\tlearn: 0.5322799\ttest: 0.5223586\tbest: 0.5223586 (624)\ttotal: 16m 10s\tremaining: 9m 42s\n",
      "625:\tlearn: 0.5322581\ttest: 0.5223359\tbest: 0.5223359 (625)\ttotal: 16m 11s\tremaining: 9m 40s\n",
      "626:\tlearn: 0.5322508\ttest: 0.5223288\tbest: 0.5223288 (626)\ttotal: 16m 13s\tremaining: 9m 38s\n",
      "627:\tlearn: 0.5322367\ttest: 0.5223097\tbest: 0.5223097 (627)\ttotal: 16m 14s\tremaining: 9m 37s\n",
      "628:\tlearn: 0.5322270\ttest: 0.5222993\tbest: 0.5222993 (628)\ttotal: 16m 15s\tremaining: 9m 35s\n",
      "629:\tlearn: 0.5322174\ttest: 0.5222921\tbest: 0.5222921 (629)\ttotal: 16m 16s\tremaining: 9m 33s\n",
      "630:\tlearn: 0.5321922\ttest: 0.5222756\tbest: 0.5222756 (630)\ttotal: 16m 18s\tremaining: 9m 32s\n",
      "631:\tlearn: 0.5321752\ttest: 0.5222621\tbest: 0.5222621 (631)\ttotal: 16m 20s\tremaining: 9m 30s\n",
      "632:\tlearn: 0.5321564\ttest: 0.5222476\tbest: 0.5222476 (632)\ttotal: 16m 21s\tremaining: 9m 28s\n",
      "633:\tlearn: 0.5321453\ttest: 0.5222341\tbest: 0.5222341 (633)\ttotal: 16m 22s\tremaining: 9m 27s\n",
      "634:\tlearn: 0.5321293\ttest: 0.5222214\tbest: 0.5222214 (634)\ttotal: 16m 24s\tremaining: 9m 25s\n",
      "635:\tlearn: 0.5321085\ttest: 0.5221976\tbest: 0.5221976 (635)\ttotal: 16m 26s\tremaining: 9m 24s\n",
      "636:\tlearn: 0.5320896\ttest: 0.5221822\tbest: 0.5221822 (636)\ttotal: 16m 27s\tremaining: 9m 22s\n",
      "637:\tlearn: 0.5320680\ttest: 0.5221688\tbest: 0.5221688 (637)\ttotal: 16m 29s\tremaining: 9m 21s\n",
      "638:\tlearn: 0.5320587\ttest: 0.5221597\tbest: 0.5221597 (638)\ttotal: 16m 30s\tremaining: 9m 19s\n",
      "639:\tlearn: 0.5320438\ttest: 0.5221493\tbest: 0.5221493 (639)\ttotal: 16m 33s\tremaining: 9m 18s\n",
      "640:\tlearn: 0.5320288\ttest: 0.5221382\tbest: 0.5221382 (640)\ttotal: 16m 34s\tremaining: 9m 16s\n",
      "641:\tlearn: 0.5320180\ttest: 0.5220608\tbest: 0.5220608 (641)\ttotal: 16m 35s\tremaining: 9m 15s\n",
      "642:\tlearn: 0.5320027\ttest: 0.5220460\tbest: 0.5220460 (642)\ttotal: 16m 37s\tremaining: 9m 13s\n",
      "643:\tlearn: 0.5319910\ttest: 0.5220385\tbest: 0.5220385 (643)\ttotal: 16m 38s\tremaining: 9m 12s\n",
      "644:\tlearn: 0.5319817\ttest: 0.5220327\tbest: 0.5220327 (644)\ttotal: 16m 40s\tremaining: 9m 10s\n",
      "645:\tlearn: 0.5319623\ttest: 0.5220062\tbest: 0.5220062 (645)\ttotal: 16m 41s\tremaining: 9m 9s\n",
      "646:\tlearn: 0.5319472\ttest: 0.5220021\tbest: 0.5220021 (646)\ttotal: 16m 43s\tremaining: 9m 7s\n",
      "647:\tlearn: 0.5319377\ttest: 0.5219941\tbest: 0.5219941 (647)\ttotal: 16m 44s\tremaining: 9m 5s\n",
      "648:\tlearn: 0.5319268\ttest: 0.5219798\tbest: 0.5219798 (648)\ttotal: 16m 46s\tremaining: 9m 4s\n",
      "649:\tlearn: 0.5319116\ttest: 0.5219673\tbest: 0.5219673 (649)\ttotal: 16m 47s\tremaining: 9m 2s\n",
      "650:\tlearn: 0.5318980\ttest: 0.5219620\tbest: 0.5219620 (650)\ttotal: 16m 49s\tremaining: 9m 1s\n",
      "651:\tlearn: 0.5318835\ttest: 0.5219457\tbest: 0.5219457 (651)\ttotal: 16m 50s\tremaining: 8m 59s\n",
      "652:\tlearn: 0.5318697\ttest: 0.5219355\tbest: 0.5219355 (652)\ttotal: 16m 52s\tremaining: 8m 57s\n",
      "653:\tlearn: 0.5318602\ttest: 0.5219270\tbest: 0.5219270 (653)\ttotal: 16m 52s\tremaining: 8m 55s\n",
      "654:\tlearn: 0.5318499\ttest: 0.5219198\tbest: 0.5219198 (654)\ttotal: 16m 54s\tremaining: 8m 54s\n",
      "655:\tlearn: 0.5318397\ttest: 0.5219089\tbest: 0.5219089 (655)\ttotal: 16m 55s\tremaining: 8m 52s\n",
      "656:\tlearn: 0.5318220\ttest: 0.5218919\tbest: 0.5218919 (656)\ttotal: 16m 56s\tremaining: 8m 50s\n",
      "657:\tlearn: 0.5318035\ttest: 0.5218773\tbest: 0.5218773 (657)\ttotal: 16m 57s\tremaining: 8m 48s\n",
      "658:\tlearn: 0.5317948\ttest: 0.5218666\tbest: 0.5218666 (658)\ttotal: 16m 59s\tremaining: 8m 47s\n",
      "659:\tlearn: 0.5317881\ttest: 0.5218572\tbest: 0.5218572 (659)\ttotal: 17m\tremaining: 8m 45s\n",
      "660:\tlearn: 0.5317670\ttest: 0.5218330\tbest: 0.5218330 (660)\ttotal: 17m 2s\tremaining: 8m 44s\n",
      "661:\tlearn: 0.5317597\ttest: 0.5218242\tbest: 0.5218242 (661)\ttotal: 17m 4s\tremaining: 8m 43s\n",
      "662:\tlearn: 0.5317496\ttest: 0.5218215\tbest: 0.5218215 (662)\ttotal: 17m 5s\tremaining: 8m 41s\n",
      "663:\tlearn: 0.5317316\ttest: 0.5217997\tbest: 0.5217997 (663)\ttotal: 17m 7s\tremaining: 8m 39s\n",
      "664:\tlearn: 0.5317182\ttest: 0.5217874\tbest: 0.5217874 (664)\ttotal: 17m 8s\tremaining: 8m 38s\n",
      "665:\tlearn: 0.5317046\ttest: 0.5217736\tbest: 0.5217736 (665)\ttotal: 17m 10s\tremaining: 8m 36s\n",
      "666:\tlearn: 0.5316835\ttest: 0.5217455\tbest: 0.5217455 (666)\ttotal: 17m 12s\tremaining: 8m 35s\n",
      "667:\tlearn: 0.5316678\ttest: 0.5217372\tbest: 0.5217372 (667)\ttotal: 17m 14s\tremaining: 8m 34s\n",
      "668:\tlearn: 0.5316522\ttest: 0.5217248\tbest: 0.5217248 (668)\ttotal: 17m 16s\tremaining: 8m 32s\n",
      "669:\tlearn: 0.5316419\ttest: 0.5216621\tbest: 0.5216621 (669)\ttotal: 17m 17s\tremaining: 8m 31s\n",
      "670:\tlearn: 0.5316298\ttest: 0.5216577\tbest: 0.5216577 (670)\ttotal: 17m 19s\tremaining: 8m 29s\n",
      "671:\tlearn: 0.5316208\ttest: 0.5216477\tbest: 0.5216477 (671)\ttotal: 17m 20s\tremaining: 8m 27s\n",
      "672:\tlearn: 0.5316039\ttest: 0.5216391\tbest: 0.5216391 (672)\ttotal: 17m 22s\tremaining: 8m 26s\n",
      "673:\tlearn: 0.5315913\ttest: 0.5216265\tbest: 0.5216265 (673)\ttotal: 17m 24s\tremaining: 8m 25s\n",
      "674:\tlearn: 0.5315769\ttest: 0.5216241\tbest: 0.5216241 (674)\ttotal: 17m 25s\tremaining: 8m 23s\n",
      "675:\tlearn: 0.5315633\ttest: 0.5216132\tbest: 0.5216132 (675)\ttotal: 17m 28s\tremaining: 8m 22s\n",
      "676:\tlearn: 0.5315556\ttest: 0.5216048\tbest: 0.5216048 (676)\ttotal: 17m 29s\tremaining: 8m 20s\n",
      "677:\tlearn: 0.5315373\ttest: 0.5215847\tbest: 0.5215847 (677)\ttotal: 17m 31s\tremaining: 8m 19s\n",
      "678:\tlearn: 0.5315261\ttest: 0.5215821\tbest: 0.5215821 (678)\ttotal: 17m 32s\tremaining: 8m 17s\n",
      "679:\tlearn: 0.5315169\ttest: 0.5215758\tbest: 0.5215758 (679)\ttotal: 17m 33s\tremaining: 8m 15s\n",
      "680:\tlearn: 0.5314988\ttest: 0.5215615\tbest: 0.5215615 (680)\ttotal: 17m 35s\tremaining: 8m 14s\n",
      "681:\tlearn: 0.5314873\ttest: 0.5215591\tbest: 0.5215591 (681)\ttotal: 17m 36s\tremaining: 8m 12s\n",
      "682:\tlearn: 0.5314747\ttest: 0.5215516\tbest: 0.5215516 (682)\ttotal: 17m 38s\tremaining: 8m 11s\n",
      "683:\tlearn: 0.5314634\ttest: 0.5215480\tbest: 0.5215480 (683)\ttotal: 17m 39s\tremaining: 8m 9s\n",
      "684:\tlearn: 0.5314468\ttest: 0.5215378\tbest: 0.5215378 (684)\ttotal: 17m 41s\tremaining: 8m 8s\n",
      "685:\tlearn: 0.5314302\ttest: 0.5215225\tbest: 0.5215225 (685)\ttotal: 17m 43s\tremaining: 8m 6s\n",
      "686:\tlearn: 0.5314208\ttest: 0.5215146\tbest: 0.5215146 (686)\ttotal: 17m 44s\tremaining: 8m 5s\n",
      "687:\tlearn: 0.5314052\ttest: 0.5214982\tbest: 0.5214982 (687)\ttotal: 17m 46s\tremaining: 8m 3s\n",
      "688:\tlearn: 0.5313957\ttest: 0.5214876\tbest: 0.5214876 (688)\ttotal: 17m 47s\tremaining: 8m 1s\n",
      "689:\tlearn: 0.5313876\ttest: 0.5214833\tbest: 0.5214833 (689)\ttotal: 17m 48s\tremaining: 8m\n",
      "690:\tlearn: 0.5313738\ttest: 0.5214671\tbest: 0.5214671 (690)\ttotal: 17m 51s\tremaining: 7m 58s\n",
      "691:\tlearn: 0.5313592\ttest: 0.5214562\tbest: 0.5214562 (691)\ttotal: 17m 53s\tremaining: 7m 57s\n",
      "692:\tlearn: 0.5313511\ttest: 0.5214492\tbest: 0.5214492 (692)\ttotal: 17m 54s\tremaining: 7m 56s\n",
      "693:\tlearn: 0.5313432\ttest: 0.5214392\tbest: 0.5214392 (693)\ttotal: 17m 56s\tremaining: 7m 54s\n",
      "694:\tlearn: 0.5313321\ttest: 0.5214352\tbest: 0.5214352 (694)\ttotal: 17m 57s\tremaining: 7m 52s\n",
      "695:\tlearn: 0.5313196\ttest: 0.5214233\tbest: 0.5214233 (695)\ttotal: 17m 59s\tremaining: 7m 51s\n",
      "696:\tlearn: 0.5313069\ttest: 0.5214117\tbest: 0.5214117 (696)\ttotal: 18m 1s\tremaining: 7m 50s\n",
      "697:\tlearn: 0.5312941\ttest: 0.5214041\tbest: 0.5214041 (697)\ttotal: 18m 2s\tremaining: 7m 48s\n",
      "698:\tlearn: 0.5312833\ttest: 0.5213941\tbest: 0.5213941 (698)\ttotal: 18m 3s\tremaining: 7m 46s\n",
      "699:\tlearn: 0.5312709\ttest: 0.5213771\tbest: 0.5213771 (699)\ttotal: 18m 4s\tremaining: 7m 44s\n",
      "700:\tlearn: 0.5312566\ttest: 0.5213694\tbest: 0.5213694 (700)\ttotal: 18m 7s\tremaining: 7m 43s\n",
      "701:\tlearn: 0.5312447\ttest: 0.5213607\tbest: 0.5213607 (701)\ttotal: 18m 8s\tremaining: 7m 41s\n",
      "702:\tlearn: 0.5312292\ttest: 0.5213452\tbest: 0.5213452 (702)\ttotal: 18m 9s\tremaining: 7m 40s\n",
      "703:\tlearn: 0.5312215\ttest: 0.5213410\tbest: 0.5213410 (703)\ttotal: 18m 11s\tremaining: 7m 38s\n",
      "704:\tlearn: 0.5312075\ttest: 0.5213312\tbest: 0.5213312 (704)\ttotal: 18m 13s\tremaining: 7m 37s\n",
      "705:\tlearn: 0.5311938\ttest: 0.5213326\tbest: 0.5213312 (704)\ttotal: 18m 15s\tremaining: 7m 36s\n",
      "706:\tlearn: 0.5311764\ttest: 0.5213088\tbest: 0.5213088 (706)\ttotal: 18m 16s\tremaining: 7m 34s\n",
      "707:\tlearn: 0.5311688\ttest: 0.5213000\tbest: 0.5213000 (707)\ttotal: 18m 18s\tremaining: 7m 32s\n",
      "708:\tlearn: 0.5311608\ttest: 0.5212946\tbest: 0.5212946 (708)\ttotal: 18m 19s\tremaining: 7m 31s\n",
      "709:\tlearn: 0.5311451\ttest: 0.5212812\tbest: 0.5212812 (709)\ttotal: 18m 20s\tremaining: 7m 29s\n",
      "710:\tlearn: 0.5311371\ttest: 0.5212732\tbest: 0.5212732 (710)\ttotal: 18m 22s\tremaining: 7m 27s\n",
      "711:\tlearn: 0.5311280\ttest: 0.5212637\tbest: 0.5212637 (711)\ttotal: 18m 23s\tremaining: 7m 26s\n"
     ]
    },
    {
     "name": "stdout",
     "output_type": "stream",
     "text": [
      "712:\tlearn: 0.5311214\ttest: 0.5212304\tbest: 0.5212304 (712)\ttotal: 18m 25s\tremaining: 7m 24s\n",
      "713:\tlearn: 0.5311082\ttest: 0.5212191\tbest: 0.5212191 (713)\ttotal: 18m 26s\tremaining: 7m 23s\n",
      "714:\tlearn: 0.5310977\ttest: 0.5212128\tbest: 0.5212128 (714)\ttotal: 18m 28s\tremaining: 7m 21s\n",
      "715:\tlearn: 0.5310782\ttest: 0.5211923\tbest: 0.5211923 (715)\ttotal: 18m 29s\tremaining: 7m 20s\n",
      "716:\tlearn: 0.5310694\ttest: 0.5211854\tbest: 0.5211854 (716)\ttotal: 18m 30s\tremaining: 7m 18s\n",
      "717:\tlearn: 0.5310551\ttest: 0.5211776\tbest: 0.5211776 (717)\ttotal: 18m 32s\tremaining: 7m 16s\n",
      "718:\tlearn: 0.5310425\ttest: 0.5211665\tbest: 0.5211665 (718)\ttotal: 18m 34s\tremaining: 7m 15s\n",
      "719:\tlearn: 0.5310298\ttest: 0.5211557\tbest: 0.5211557 (719)\ttotal: 18m 35s\tremaining: 7m 13s\n",
      "720:\tlearn: 0.5310142\ttest: 0.5211459\tbest: 0.5211459 (720)\ttotal: 18m 36s\tremaining: 7m 12s\n",
      "721:\tlearn: 0.5310065\ttest: 0.5211453\tbest: 0.5211453 (721)\ttotal: 18m 38s\tremaining: 7m 10s\n",
      "722:\tlearn: 0.5309914\ttest: 0.5211407\tbest: 0.5211407 (722)\ttotal: 18m 39s\tremaining: 7m 9s\n",
      "723:\tlearn: 0.5309747\ttest: 0.5211261\tbest: 0.5211261 (723)\ttotal: 18m 41s\tremaining: 7m 7s\n",
      "724:\tlearn: 0.5309615\ttest: 0.5211208\tbest: 0.5211208 (724)\ttotal: 18m 43s\tremaining: 7m 6s\n",
      "725:\tlearn: 0.5309467\ttest: 0.5210998\tbest: 0.5210998 (725)\ttotal: 18m 45s\tremaining: 7m 4s\n",
      "726:\tlearn: 0.5309403\ttest: 0.5210979\tbest: 0.5210979 (726)\ttotal: 18m 46s\tremaining: 7m 3s\n",
      "727:\tlearn: 0.5309327\ttest: 0.5210931\tbest: 0.5210931 (727)\ttotal: 18m 48s\tremaining: 7m 1s\n",
      "728:\tlearn: 0.5309249\ttest: 0.5210900\tbest: 0.5210900 (728)\ttotal: 18m 49s\tremaining: 6m 59s\n",
      "729:\tlearn: 0.5309123\ttest: 0.5210801\tbest: 0.5210801 (729)\ttotal: 18m 51s\tremaining: 6m 58s\n",
      "730:\tlearn: 0.5309053\ttest: 0.5210777\tbest: 0.5210777 (730)\ttotal: 18m 53s\tremaining: 6m 57s\n",
      "731:\tlearn: 0.5308900\ttest: 0.5210648\tbest: 0.5210648 (731)\ttotal: 18m 55s\tremaining: 6m 55s\n",
      "732:\tlearn: 0.5308789\ttest: 0.5210515\tbest: 0.5210515 (732)\ttotal: 18m 57s\tremaining: 6m 54s\n",
      "733:\tlearn: 0.5308719\ttest: 0.5210537\tbest: 0.5210515 (732)\ttotal: 18m 58s\tremaining: 6m 52s\n",
      "734:\tlearn: 0.5308565\ttest: 0.5210394\tbest: 0.5210394 (734)\ttotal: 18m 59s\tremaining: 6m 50s\n",
      "735:\tlearn: 0.5308481\ttest: 0.5210400\tbest: 0.5210394 (734)\ttotal: 19m 1s\tremaining: 6m 49s\n",
      "736:\tlearn: 0.5308318\ttest: 0.5210311\tbest: 0.5210311 (736)\ttotal: 19m 2s\tremaining: 6m 47s\n",
      "737:\tlearn: 0.5308225\ttest: 0.5210278\tbest: 0.5210278 (737)\ttotal: 19m 4s\tremaining: 6m 46s\n",
      "738:\tlearn: 0.5308145\ttest: 0.5210373\tbest: 0.5210278 (737)\ttotal: 19m 6s\tremaining: 6m 45s\n",
      "739:\tlearn: 0.5308004\ttest: 0.5210261\tbest: 0.5210261 (739)\ttotal: 19m 8s\tremaining: 6m 43s\n",
      "740:\tlearn: 0.5307889\ttest: 0.5210163\tbest: 0.5210163 (740)\ttotal: 19m 9s\tremaining: 6m 41s\n",
      "741:\tlearn: 0.5307751\ttest: 0.5210079\tbest: 0.5210079 (741)\ttotal: 19m 11s\tremaining: 6m 40s\n",
      "742:\tlearn: 0.5307618\ttest: 0.5210036\tbest: 0.5210036 (742)\ttotal: 19m 12s\tremaining: 6m 38s\n",
      "743:\tlearn: 0.5307548\ttest: 0.5209964\tbest: 0.5209964 (743)\ttotal: 19m 14s\tremaining: 6m 37s\n",
      "744:\tlearn: 0.5307442\ttest: 0.5209857\tbest: 0.5209857 (744)\ttotal: 19m 16s\tremaining: 6m 35s\n",
      "745:\tlearn: 0.5307292\ttest: 0.5209703\tbest: 0.5209703 (745)\ttotal: 19m 17s\tremaining: 6m 34s\n",
      "746:\tlearn: 0.5307171\ttest: 0.5209551\tbest: 0.5209551 (746)\ttotal: 19m 19s\tremaining: 6m 32s\n",
      "747:\tlearn: 0.5307071\ttest: 0.5209514\tbest: 0.5209514 (747)\ttotal: 19m 21s\tremaining: 6m 31s\n",
      "748:\tlearn: 0.5306999\ttest: 0.5209475\tbest: 0.5209475 (748)\ttotal: 19m 22s\tremaining: 6m 29s\n",
      "749:\tlearn: 0.5306928\ttest: 0.5209408\tbest: 0.5209408 (749)\ttotal: 19m 24s\tremaining: 6m 28s\n",
      "750:\tlearn: 0.5306830\ttest: 0.5209299\tbest: 0.5209299 (750)\ttotal: 19m 25s\tremaining: 6m 26s\n",
      "751:\tlearn: 0.5306715\ttest: 0.5209233\tbest: 0.5209233 (751)\ttotal: 19m 28s\tremaining: 6m 25s\n",
      "752:\tlearn: 0.5306575\ttest: 0.5209099\tbest: 0.5209099 (752)\ttotal: 19m 29s\tremaining: 6m 23s\n",
      "753:\tlearn: 0.5306498\ttest: 0.5209015\tbest: 0.5209015 (753)\ttotal: 19m 30s\tremaining: 6m 21s\n",
      "754:\tlearn: 0.5306416\ttest: 0.5208897\tbest: 0.5208897 (754)\ttotal: 19m 32s\tremaining: 6m 20s\n",
      "755:\tlearn: 0.5306297\ttest: 0.5208797\tbest: 0.5208797 (755)\ttotal: 19m 33s\tremaining: 6m 18s\n",
      "756:\tlearn: 0.5306200\ttest: 0.5208752\tbest: 0.5208752 (756)\ttotal: 19m 35s\tremaining: 6m 17s\n",
      "757:\tlearn: 0.5306035\ttest: 0.5208646\tbest: 0.5208646 (757)\ttotal: 19m 37s\tremaining: 6m 15s\n",
      "758:\tlearn: 0.5305910\ttest: 0.5208559\tbest: 0.5208559 (758)\ttotal: 19m 38s\tremaining: 6m 14s\n",
      "759:\tlearn: 0.5305818\ttest: 0.5208337\tbest: 0.5208337 (759)\ttotal: 19m 40s\tremaining: 6m 12s\n",
      "760:\tlearn: 0.5305710\ttest: 0.5208253\tbest: 0.5208253 (760)\ttotal: 19m 42s\tremaining: 6m 11s\n",
      "761:\tlearn: 0.5305651\ttest: 0.5207950\tbest: 0.5207950 (761)\ttotal: 19m 43s\tremaining: 6m 9s\n",
      "762:\tlearn: 0.5305505\ttest: 0.5207839\tbest: 0.5207839 (762)\ttotal: 19m 45s\tremaining: 6m 8s\n",
      "763:\tlearn: 0.5305435\ttest: 0.5207794\tbest: 0.5207794 (763)\ttotal: 19m 46s\tremaining: 6m 6s\n",
      "764:\tlearn: 0.5305336\ttest: 0.5207752\tbest: 0.5207752 (764)\ttotal: 19m 47s\tremaining: 6m 4s\n",
      "765:\tlearn: 0.5305254\ttest: 0.5207697\tbest: 0.5207697 (765)\ttotal: 19m 48s\tremaining: 6m 3s\n",
      "766:\tlearn: 0.5305170\ttest: 0.5207597\tbest: 0.5207597 (766)\ttotal: 19m 50s\tremaining: 6m 1s\n",
      "767:\tlearn: 0.5305066\ttest: 0.5207557\tbest: 0.5207557 (767)\ttotal: 19m 51s\tremaining: 6m\n",
      "768:\tlearn: 0.5304906\ttest: 0.5207482\tbest: 0.5207482 (768)\ttotal: 19m 53s\tremaining: 5m 58s\n",
      "769:\tlearn: 0.5304781\ttest: 0.5207418\tbest: 0.5207418 (769)\ttotal: 19m 55s\tremaining: 5m 56s\n",
      "770:\tlearn: 0.5304677\ttest: 0.5207320\tbest: 0.5207320 (770)\ttotal: 19m 56s\tremaining: 5m 55s\n",
      "771:\tlearn: 0.5304608\ttest: 0.5207288\tbest: 0.5207288 (771)\ttotal: 19m 57s\tremaining: 5m 53s\n",
      "772:\tlearn: 0.5304503\ttest: 0.5207186\tbest: 0.5207186 (772)\ttotal: 19m 59s\tremaining: 5m 52s\n",
      "773:\tlearn: 0.5304358\ttest: 0.5207088\tbest: 0.5207088 (773)\ttotal: 20m 1s\tremaining: 5m 50s\n",
      "774:\tlearn: 0.5304286\ttest: 0.5207032\tbest: 0.5207032 (774)\ttotal: 20m 2s\tremaining: 5m 49s\n",
      "775:\tlearn: 0.5304082\ttest: 0.5206851\tbest: 0.5206851 (775)\ttotal: 20m 3s\tremaining: 5m 47s\n",
      "776:\tlearn: 0.5304006\ttest: 0.5206790\tbest: 0.5206790 (776)\ttotal: 20m 4s\tremaining: 5m 45s\n",
      "777:\tlearn: 0.5303871\ttest: 0.5206605\tbest: 0.5206605 (777)\ttotal: 20m 6s\tremaining: 5m 44s\n",
      "778:\tlearn: 0.5303731\ttest: 0.5206504\tbest: 0.5206504 (778)\ttotal: 20m 8s\tremaining: 5m 42s\n",
      "779:\tlearn: 0.5303655\ttest: 0.5206444\tbest: 0.5206444 (779)\ttotal: 20m 9s\tremaining: 5m 41s\n",
      "780:\tlearn: 0.5303555\ttest: 0.5206357\tbest: 0.5206357 (780)\ttotal: 20m 10s\tremaining: 5m 39s\n",
      "781:\tlearn: 0.5303450\ttest: 0.5206255\tbest: 0.5206255 (781)\ttotal: 20m 12s\tremaining: 5m 37s\n",
      "782:\tlearn: 0.5303340\ttest: 0.5206164\tbest: 0.5206164 (782)\ttotal: 20m 13s\tremaining: 5m 36s\n",
      "783:\tlearn: 0.5303231\ttest: 0.5206091\tbest: 0.5206091 (783)\ttotal: 20m 14s\tremaining: 5m 34s\n",
      "784:\tlearn: 0.5303144\ttest: 0.5205966\tbest: 0.5205966 (784)\ttotal: 20m 16s\tremaining: 5m 33s\n",
      "785:\tlearn: 0.5303016\ttest: 0.5205883\tbest: 0.5205883 (785)\ttotal: 20m 17s\tremaining: 5m 31s\n",
      "786:\tlearn: 0.5302889\ttest: 0.5205809\tbest: 0.5205809 (786)\ttotal: 20m 19s\tremaining: 5m 29s\n",
      "787:\tlearn: 0.5302788\ttest: 0.5205680\tbest: 0.5205680 (787)\ttotal: 20m 20s\tremaining: 5m 28s\n",
      "788:\tlearn: 0.5302658\ttest: 0.5205574\tbest: 0.5205574 (788)\ttotal: 20m 21s\tremaining: 5m 26s\n",
      "789:\tlearn: 0.5302555\ttest: 0.5205460\tbest: 0.5205460 (789)\ttotal: 20m 23s\tremaining: 5m 25s\n",
      "790:\tlearn: 0.5302463\ttest: 0.5205430\tbest: 0.5205430 (790)\ttotal: 20m 25s\tremaining: 5m 23s\n",
      "791:\tlearn: 0.5302336\ttest: 0.5205327\tbest: 0.5205327 (791)\ttotal: 20m 26s\tremaining: 5m 22s\n",
      "792:\tlearn: 0.5302223\ttest: 0.5205207\tbest: 0.5205207 (792)\ttotal: 20m 28s\tremaining: 5m 20s\n",
      "793:\tlearn: 0.5302138\ttest: 0.5205116\tbest: 0.5205116 (793)\ttotal: 20m 29s\tremaining: 5m 18s\n",
      "794:\tlearn: 0.5301966\ttest: 0.5205033\tbest: 0.5205033 (794)\ttotal: 20m 30s\tremaining: 5m 17s\n",
      "795:\tlearn: 0.5301909\ttest: 0.5204963\tbest: 0.5204963 (795)\ttotal: 20m 31s\tremaining: 5m 15s\n",
      "796:\tlearn: 0.5301768\ttest: 0.5204856\tbest: 0.5204856 (796)\ttotal: 20m 33s\tremaining: 5m 14s\n",
      "797:\tlearn: 0.5301640\ttest: 0.5204738\tbest: 0.5204738 (797)\ttotal: 20m 35s\tremaining: 5m 12s\n",
      "798:\tlearn: 0.5301535\ttest: 0.5204652\tbest: 0.5204652 (798)\ttotal: 20m 36s\tremaining: 5m 11s\n",
      "799:\tlearn: 0.5301452\ttest: 0.5204632\tbest: 0.5204632 (799)\ttotal: 20m 38s\tremaining: 5m 9s\n",
      "800:\tlearn: 0.5301331\ttest: 0.5204516\tbest: 0.5204516 (800)\ttotal: 20m 40s\tremaining: 5m 8s\n"
     ]
    },
    {
     "name": "stdout",
     "output_type": "stream",
     "text": [
      "801:\tlearn: 0.5301206\ttest: 0.5204301\tbest: 0.5204301 (801)\ttotal: 20m 41s\tremaining: 5m 6s\n",
      "802:\tlearn: 0.5301125\ttest: 0.5204223\tbest: 0.5204223 (802)\ttotal: 20m 43s\tremaining: 5m 4s\n",
      "803:\tlearn: 0.5301038\ttest: 0.5204164\tbest: 0.5204164 (803)\ttotal: 20m 44s\tremaining: 5m 3s\n",
      "804:\tlearn: 0.5300953\ttest: 0.5203313\tbest: 0.5203313 (804)\ttotal: 20m 45s\tremaining: 5m 1s\n",
      "805:\tlearn: 0.5300840\ttest: 0.5203261\tbest: 0.5203261 (805)\ttotal: 20m 47s\tremaining: 5m\n",
      "806:\tlearn: 0.5300750\ttest: 0.5203197\tbest: 0.5203197 (806)\ttotal: 20m 49s\tremaining: 4m 58s\n",
      "807:\tlearn: 0.5300663\ttest: 0.5203142\tbest: 0.5203142 (807)\ttotal: 20m 50s\tremaining: 4m 57s\n",
      "808:\tlearn: 0.5300554\ttest: 0.5203037\tbest: 0.5203037 (808)\ttotal: 20m 51s\tremaining: 4m 55s\n",
      "809:\tlearn: 0.5300458\ttest: 0.5202934\tbest: 0.5202934 (809)\ttotal: 20m 52s\tremaining: 4m 53s\n",
      "810:\tlearn: 0.5300339\ttest: 0.5202857\tbest: 0.5202857 (810)\ttotal: 20m 54s\tremaining: 4m 52s\n",
      "811:\tlearn: 0.5300240\ttest: 0.5202817\tbest: 0.5202817 (811)\ttotal: 20m 56s\tremaining: 4m 50s\n",
      "812:\tlearn: 0.5300167\ttest: 0.5202755\tbest: 0.5202755 (812)\ttotal: 20m 57s\tremaining: 4m 49s\n",
      "813:\tlearn: 0.5300050\ttest: 0.5202658\tbest: 0.5202658 (813)\ttotal: 20m 58s\tremaining: 4m 47s\n",
      "814:\tlearn: 0.5299937\ttest: 0.5202605\tbest: 0.5202605 (814)\ttotal: 21m\tremaining: 4m 46s\n",
      "815:\tlearn: 0.5299824\ttest: 0.5202492\tbest: 0.5202492 (815)\ttotal: 21m 1s\tremaining: 4m 44s\n",
      "816:\tlearn: 0.5299747\ttest: 0.5202479\tbest: 0.5202479 (816)\ttotal: 21m 3s\tremaining: 4m 43s\n",
      "817:\tlearn: 0.5299657\ttest: 0.5202465\tbest: 0.5202465 (817)\ttotal: 21m 5s\tremaining: 4m 41s\n",
      "818:\tlearn: 0.5299547\ttest: 0.5202374\tbest: 0.5202374 (818)\ttotal: 21m 6s\tremaining: 4m 39s\n",
      "819:\tlearn: 0.5299469\ttest: 0.5202312\tbest: 0.5202312 (819)\ttotal: 21m 7s\tremaining: 4m 38s\n",
      "820:\tlearn: 0.5299384\ttest: 0.5202222\tbest: 0.5202222 (820)\ttotal: 21m 9s\tremaining: 4m 36s\n",
      "821:\tlearn: 0.5299300\ttest: 0.5202169\tbest: 0.5202169 (821)\ttotal: 21m 11s\tremaining: 4m 35s\n",
      "822:\tlearn: 0.5299185\ttest: 0.5202099\tbest: 0.5202099 (822)\ttotal: 21m 13s\tremaining: 4m 33s\n",
      "823:\tlearn: 0.5299137\ttest: 0.5201869\tbest: 0.5201869 (823)\ttotal: 21m 14s\tremaining: 4m 32s\n",
      "824:\tlearn: 0.5299062\ttest: 0.5201811\tbest: 0.5201811 (824)\ttotal: 21m 16s\tremaining: 4m 30s\n",
      "825:\tlearn: 0.5298946\ttest: 0.5201742\tbest: 0.5201742 (825)\ttotal: 21m 18s\tremaining: 4m 29s\n",
      "826:\tlearn: 0.5298859\ttest: 0.5201669\tbest: 0.5201669 (826)\ttotal: 21m 20s\tremaining: 4m 27s\n",
      "827:\tlearn: 0.5298703\ttest: 0.5201497\tbest: 0.5201497 (827)\ttotal: 21m 21s\tremaining: 4m 26s\n",
      "828:\tlearn: 0.5298618\ttest: 0.5201409\tbest: 0.5201409 (828)\ttotal: 21m 24s\tremaining: 4m 24s\n",
      "829:\tlearn: 0.5298555\ttest: 0.5201052\tbest: 0.5201052 (829)\ttotal: 21m 25s\tremaining: 4m 23s\n",
      "830:\tlearn: 0.5298485\ttest: 0.5201051\tbest: 0.5201051 (830)\ttotal: 21m 26s\tremaining: 4m 21s\n",
      "831:\tlearn: 0.5298422\ttest: 0.5201017\tbest: 0.5201017 (831)\ttotal: 21m 28s\tremaining: 4m 20s\n",
      "832:\tlearn: 0.5298339\ttest: 0.5200975\tbest: 0.5200975 (832)\ttotal: 21m 30s\tremaining: 4m 18s\n",
      "833:\tlearn: 0.5298235\ttest: 0.5200794\tbest: 0.5200794 (833)\ttotal: 21m 31s\tremaining: 4m 17s\n",
      "834:\tlearn: 0.5298182\ttest: 0.5200554\tbest: 0.5200554 (834)\ttotal: 21m 33s\tremaining: 4m 15s\n",
      "835:\tlearn: 0.5298071\ttest: 0.5200471\tbest: 0.5200471 (835)\ttotal: 21m 35s\tremaining: 4m 14s\n",
      "836:\tlearn: 0.5297992\ttest: 0.5200402\tbest: 0.5200402 (836)\ttotal: 21m 36s\tremaining: 4m 12s\n",
      "837:\tlearn: 0.5297900\ttest: 0.5200352\tbest: 0.5200352 (837)\ttotal: 21m 38s\tremaining: 4m 10s\n",
      "838:\tlearn: 0.5297756\ttest: 0.5200257\tbest: 0.5200257 (838)\ttotal: 21m 39s\tremaining: 4m 9s\n",
      "839:\tlearn: 0.5297676\ttest: 0.5200230\tbest: 0.5200230 (839)\ttotal: 21m 40s\tremaining: 4m 7s\n",
      "840:\tlearn: 0.5297579\ttest: 0.5200124\tbest: 0.5200124 (840)\ttotal: 21m 42s\tremaining: 4m 6s\n",
      "841:\tlearn: 0.5297492\ttest: 0.5200028\tbest: 0.5200028 (841)\ttotal: 21m 43s\tremaining: 4m 4s\n",
      "842:\tlearn: 0.5297399\ttest: 0.5199962\tbest: 0.5199962 (842)\ttotal: 21m 45s\tremaining: 4m 3s\n",
      "843:\tlearn: 0.5297313\ttest: 0.5199897\tbest: 0.5199897 (843)\ttotal: 21m 46s\tremaining: 4m 1s\n",
      "844:\tlearn: 0.5297189\ttest: 0.5199816\tbest: 0.5199816 (844)\ttotal: 21m 48s\tremaining: 3m 59s\n",
      "845:\tlearn: 0.5297111\ttest: 0.5199785\tbest: 0.5199785 (845)\ttotal: 21m 49s\tremaining: 3m 58s\n",
      "846:\tlearn: 0.5297068\ttest: 0.5199769\tbest: 0.5199769 (846)\ttotal: 21m 51s\tremaining: 3m 56s\n",
      "847:\tlearn: 0.5296981\ttest: 0.5199723\tbest: 0.5199723 (847)\ttotal: 21m 52s\tremaining: 3m 55s\n",
      "848:\tlearn: 0.5296852\ttest: 0.5199604\tbest: 0.5199604 (848)\ttotal: 21m 54s\tremaining: 3m 53s\n",
      "849:\tlearn: 0.5296787\ttest: 0.5199347\tbest: 0.5199347 (849)\ttotal: 21m 55s\tremaining: 3m 52s\n",
      "850:\tlearn: 0.5296736\ttest: 0.5199328\tbest: 0.5199328 (850)\ttotal: 21m 57s\tremaining: 3m 50s\n",
      "851:\tlearn: 0.5296603\ttest: 0.5199239\tbest: 0.5199239 (851)\ttotal: 21m 58s\tremaining: 3m 49s\n",
      "852:\tlearn: 0.5296473\ttest: 0.5199181\tbest: 0.5199181 (852)\ttotal: 22m\tremaining: 3m 47s\n",
      "853:\tlearn: 0.5296411\ttest: 0.5199133\tbest: 0.5199133 (853)\ttotal: 22m 2s\tremaining: 3m 46s\n",
      "854:\tlearn: 0.5296303\ttest: 0.5199114\tbest: 0.5199114 (854)\ttotal: 22m 3s\tremaining: 3m 44s\n",
      "855:\tlearn: 0.5296198\ttest: 0.5199079\tbest: 0.5199079 (855)\ttotal: 22m 5s\tremaining: 3m 42s\n",
      "856:\tlearn: 0.5296119\ttest: 0.5199010\tbest: 0.5199010 (856)\ttotal: 22m 6s\tremaining: 3m 41s\n",
      "857:\tlearn: 0.5296008\ttest: 0.5198920\tbest: 0.5198920 (857)\ttotal: 22m 8s\tremaining: 3m 39s\n",
      "858:\tlearn: 0.5295929\ttest: 0.5198858\tbest: 0.5198858 (858)\ttotal: 22m 9s\tremaining: 3m 38s\n",
      "859:\tlearn: 0.5295824\ttest: 0.5198772\tbest: 0.5198772 (859)\ttotal: 22m 10s\tremaining: 3m 36s\n",
      "860:\tlearn: 0.5295757\ttest: 0.5198728\tbest: 0.5198728 (860)\ttotal: 22m 12s\tremaining: 3m 35s\n",
      "861:\tlearn: 0.5295663\ttest: 0.5198635\tbest: 0.5198635 (861)\ttotal: 22m 14s\tremaining: 3m 33s\n",
      "862:\tlearn: 0.5295560\ttest: 0.5198596\tbest: 0.5198596 (862)\ttotal: 22m 15s\tremaining: 3m 32s\n",
      "863:\tlearn: 0.5295444\ttest: 0.5198447\tbest: 0.5198447 (863)\ttotal: 22m 17s\tremaining: 3m 30s\n",
      "864:\tlearn: 0.5295331\ttest: 0.5198364\tbest: 0.5198364 (864)\ttotal: 22m 18s\tremaining: 3m 28s\n",
      "865:\tlearn: 0.5295224\ttest: 0.5198315\tbest: 0.5198315 (865)\ttotal: 22m 20s\tremaining: 3m 27s\n",
      "866:\tlearn: 0.5295062\ttest: 0.5198163\tbest: 0.5198163 (866)\ttotal: 22m 21s\tremaining: 3m 25s\n",
      "867:\tlearn: 0.5294949\ttest: 0.5198065\tbest: 0.5198065 (867)\ttotal: 22m 23s\tremaining: 3m 24s\n",
      "868:\tlearn: 0.5294866\ttest: 0.5198003\tbest: 0.5198003 (868)\ttotal: 22m 24s\tremaining: 3m 22s\n",
      "869:\tlearn: 0.5294736\ttest: 0.5197899\tbest: 0.5197899 (869)\ttotal: 22m 26s\tremaining: 3m 21s\n",
      "870:\tlearn: 0.5294642\ttest: 0.5197844\tbest: 0.5197844 (870)\ttotal: 22m 27s\tremaining: 3m 19s\n",
      "871:\tlearn: 0.5294585\ttest: 0.5197802\tbest: 0.5197802 (871)\ttotal: 22m 28s\tremaining: 3m 17s\n",
      "872:\tlearn: 0.5294506\ttest: 0.5197705\tbest: 0.5197705 (872)\ttotal: 22m 29s\tremaining: 3m 16s\n",
      "873:\tlearn: 0.5294447\ttest: 0.5197669\tbest: 0.5197669 (873)\ttotal: 22m 31s\tremaining: 3m 14s\n",
      "874:\tlearn: 0.5294356\ttest: 0.5197640\tbest: 0.5197640 (874)\ttotal: 22m 32s\tremaining: 3m 13s\n",
      "875:\tlearn: 0.5294261\ttest: 0.5197578\tbest: 0.5197578 (875)\ttotal: 22m 34s\tremaining: 3m 11s\n",
      "876:\tlearn: 0.5294225\ttest: 0.5197541\tbest: 0.5197541 (876)\ttotal: 22m 35s\tremaining: 3m 10s\n",
      "877:\tlearn: 0.5294142\ttest: 0.5197431\tbest: 0.5197431 (877)\ttotal: 22m 37s\tremaining: 3m 8s\n",
      "878:\tlearn: 0.5294068\ttest: 0.5197368\tbest: 0.5197368 (878)\ttotal: 22m 39s\tremaining: 3m 7s\n",
      "879:\tlearn: 0.5293979\ttest: 0.5197274\tbest: 0.5197274 (879)\ttotal: 22m 41s\tremaining: 3m 5s\n",
      "880:\tlearn: 0.5293863\ttest: 0.5197193\tbest: 0.5197193 (880)\ttotal: 22m 43s\tremaining: 3m 4s\n",
      "881:\tlearn: 0.5293800\ttest: 0.5197152\tbest: 0.5197152 (881)\ttotal: 22m 44s\tremaining: 3m 2s\n",
      "882:\tlearn: 0.5293700\ttest: 0.5197056\tbest: 0.5197056 (882)\ttotal: 22m 46s\tremaining: 3m 1s\n",
      "883:\tlearn: 0.5293574\ttest: 0.5196961\tbest: 0.5196961 (883)\ttotal: 22m 47s\tremaining: 2m 59s\n",
      "884:\tlearn: 0.5293495\ttest: 0.5196898\tbest: 0.5196898 (884)\ttotal: 22m 49s\tremaining: 2m 57s\n",
      "885:\tlearn: 0.5293376\ttest: 0.5196760\tbest: 0.5196760 (885)\ttotal: 22m 50s\tremaining: 2m 56s\n",
      "886:\tlearn: 0.5293264\ttest: 0.5196698\tbest: 0.5196698 (886)\ttotal: 22m 52s\tremaining: 2m 54s\n",
      "887:\tlearn: 0.5293204\ttest: 0.5196676\tbest: 0.5196676 (887)\ttotal: 22m 54s\tremaining: 2m 53s\n",
      "888:\tlearn: 0.5293131\ttest: 0.5196623\tbest: 0.5196623 (888)\ttotal: 22m 55s\tremaining: 2m 51s\n",
      "889:\tlearn: 0.5293010\ttest: 0.5196576\tbest: 0.5196576 (889)\ttotal: 22m 57s\tremaining: 2m 50s\n"
     ]
    },
    {
     "name": "stdout",
     "output_type": "stream",
     "text": [
      "890:\tlearn: 0.5292938\ttest: 0.5196523\tbest: 0.5196523 (890)\ttotal: 22m 58s\tremaining: 2m 48s\n",
      "891:\tlearn: 0.5292850\ttest: 0.5196474\tbest: 0.5196474 (891)\ttotal: 23m\tremaining: 2m 47s\n",
      "892:\tlearn: 0.5292745\ttest: 0.5196378\tbest: 0.5196378 (892)\ttotal: 23m 1s\tremaining: 2m 45s\n",
      "893:\tlearn: 0.5292683\ttest: 0.5196354\tbest: 0.5196354 (893)\ttotal: 23m 2s\tremaining: 2m 43s\n",
      "894:\tlearn: 0.5292580\ttest: 0.5196304\tbest: 0.5196304 (894)\ttotal: 23m 4s\tremaining: 2m 42s\n",
      "895:\tlearn: 0.5292465\ttest: 0.5196200\tbest: 0.5196200 (895)\ttotal: 23m 6s\tremaining: 2m 40s\n",
      "896:\tlearn: 0.5292358\ttest: 0.5196134\tbest: 0.5196134 (896)\ttotal: 23m 8s\tremaining: 2m 39s\n",
      "897:\tlearn: 0.5292248\ttest: 0.5196038\tbest: 0.5196038 (897)\ttotal: 23m 10s\tremaining: 2m 37s\n",
      "898:\tlearn: 0.5292127\ttest: 0.5195905\tbest: 0.5195905 (898)\ttotal: 23m 11s\tremaining: 2m 36s\n",
      "899:\tlearn: 0.5292046\ttest: 0.5195841\tbest: 0.5195841 (899)\ttotal: 23m 12s\tremaining: 2m 34s\n",
      "900:\tlearn: 0.5291948\ttest: 0.5195780\tbest: 0.5195780 (900)\ttotal: 23m 14s\tremaining: 2m 33s\n",
      "901:\tlearn: 0.5291848\ttest: 0.5195714\tbest: 0.5195714 (901)\ttotal: 23m 16s\tremaining: 2m 31s\n",
      "902:\tlearn: 0.5291786\ttest: 0.5195704\tbest: 0.5195704 (902)\ttotal: 23m 18s\tremaining: 2m 30s\n",
      "903:\tlearn: 0.5291706\ttest: 0.5195629\tbest: 0.5195629 (903)\ttotal: 23m 19s\tremaining: 2m 28s\n",
      "904:\tlearn: 0.5291607\ttest: 0.5195579\tbest: 0.5195579 (904)\ttotal: 23m 21s\tremaining: 2m 27s\n",
      "905:\tlearn: 0.5291554\ttest: 0.5195279\tbest: 0.5195279 (905)\ttotal: 23m 23s\tremaining: 2m 25s\n",
      "906:\tlearn: 0.5291463\ttest: 0.5195163\tbest: 0.5195163 (906)\ttotal: 23m 24s\tremaining: 2m 23s\n",
      "907:\tlearn: 0.5291428\ttest: 0.5195281\tbest: 0.5195163 (906)\ttotal: 23m 26s\tremaining: 2m 22s\n",
      "908:\tlearn: 0.5291332\ttest: 0.5195170\tbest: 0.5195163 (906)\ttotal: 23m 28s\tremaining: 2m 21s\n",
      "909:\tlearn: 0.5291258\ttest: 0.5195118\tbest: 0.5195118 (909)\ttotal: 23m 29s\tremaining: 2m 19s\n",
      "910:\tlearn: 0.5291155\ttest: 0.5195022\tbest: 0.5195022 (910)\ttotal: 23m 31s\tremaining: 2m 17s\n",
      "911:\tlearn: 0.5291034\ttest: 0.5194913\tbest: 0.5194913 (911)\ttotal: 23m 32s\tremaining: 2m 16s\n",
      "912:\tlearn: 0.5290978\ttest: 0.5194555\tbest: 0.5194555 (912)\ttotal: 23m 33s\tremaining: 2m 14s\n",
      "913:\tlearn: 0.5290916\ttest: 0.5194537\tbest: 0.5194537 (913)\ttotal: 23m 35s\tremaining: 2m 13s\n",
      "914:\tlearn: 0.5290802\ttest: 0.5194430\tbest: 0.5194430 (914)\ttotal: 23m 36s\tremaining: 2m 11s\n",
      "915:\tlearn: 0.5290673\ttest: 0.5194287\tbest: 0.5194287 (915)\ttotal: 23m 38s\tremaining: 2m 10s\n",
      "916:\tlearn: 0.5290592\ttest: 0.5194260\tbest: 0.5194260 (916)\ttotal: 23m 39s\tremaining: 2m 8s\n",
      "917:\tlearn: 0.5290486\ttest: 0.5194195\tbest: 0.5194195 (917)\ttotal: 23m 41s\tremaining: 2m 6s\n",
      "918:\tlearn: 0.5290410\ttest: 0.5194124\tbest: 0.5194124 (918)\ttotal: 23m 43s\tremaining: 2m 5s\n",
      "919:\tlearn: 0.5290320\ttest: 0.5194072\tbest: 0.5194072 (919)\ttotal: 23m 44s\tremaining: 2m 3s\n",
      "920:\tlearn: 0.5290219\ttest: 0.5193966\tbest: 0.5193966 (920)\ttotal: 23m 45s\tremaining: 2m 2s\n",
      "921:\tlearn: 0.5290133\ttest: 0.5193897\tbest: 0.5193897 (921)\ttotal: 23m 46s\tremaining: 2m\n",
      "922:\tlearn: 0.5290052\ttest: 0.5193829\tbest: 0.5193829 (922)\ttotal: 23m 48s\tremaining: 1m 59s\n",
      "923:\tlearn: 0.5289978\ttest: 0.5193783\tbest: 0.5193783 (923)\ttotal: 23m 50s\tremaining: 1m 57s\n",
      "924:\tlearn: 0.5289874\ttest: 0.5193670\tbest: 0.5193670 (924)\ttotal: 23m 51s\tremaining: 1m 56s\n",
      "925:\tlearn: 0.5289786\ttest: 0.5193610\tbest: 0.5193610 (925)\ttotal: 23m 53s\tremaining: 1m 54s\n",
      "926:\tlearn: 0.5289694\ttest: 0.5193542\tbest: 0.5193542 (926)\ttotal: 23m 55s\tremaining: 1m 53s\n",
      "927:\tlearn: 0.5289613\ttest: 0.5193483\tbest: 0.5193483 (927)\ttotal: 23m 56s\tremaining: 1m 51s\n",
      "928:\tlearn: 0.5289520\ttest: 0.5193424\tbest: 0.5193424 (928)\ttotal: 23m 57s\tremaining: 1m 49s\n",
      "929:\tlearn: 0.5289447\ttest: 0.5193361\tbest: 0.5193361 (929)\ttotal: 23m 58s\tremaining: 1m 48s\n",
      "930:\tlearn: 0.5289332\ttest: 0.5193285\tbest: 0.5193285 (930)\ttotal: 23m 59s\tremaining: 1m 46s\n",
      "931:\tlearn: 0.5289252\ttest: 0.5193229\tbest: 0.5193229 (931)\ttotal: 24m 1s\tremaining: 1m 45s\n",
      "932:\tlearn: 0.5289188\ttest: 0.5193158\tbest: 0.5193158 (932)\ttotal: 24m 2s\tremaining: 1m 43s\n",
      "933:\tlearn: 0.5289102\ttest: 0.5193081\tbest: 0.5193081 (933)\ttotal: 24m 5s\tremaining: 1m 42s\n",
      "934:\tlearn: 0.5289064\ttest: 0.5193036\tbest: 0.5193036 (934)\ttotal: 24m 7s\tremaining: 1m 40s\n",
      "935:\tlearn: 0.5288991\ttest: 0.5192961\tbest: 0.5192961 (935)\ttotal: 24m 8s\tremaining: 1m 39s\n",
      "936:\tlearn: 0.5288902\ttest: 0.5192874\tbest: 0.5192874 (936)\ttotal: 24m 9s\tremaining: 1m 37s\n",
      "937:\tlearn: 0.5288834\ttest: 0.5192777\tbest: 0.5192777 (937)\ttotal: 24m 10s\tremaining: 1m 35s\n",
      "938:\tlearn: 0.5288733\ttest: 0.5192693\tbest: 0.5192693 (938)\ttotal: 24m 12s\tremaining: 1m 34s\n",
      "939:\tlearn: 0.5288654\ttest: 0.5192623\tbest: 0.5192623 (939)\ttotal: 24m 13s\tremaining: 1m 32s\n",
      "940:\tlearn: 0.5288597\ttest: 0.5192579\tbest: 0.5192579 (940)\ttotal: 24m 15s\tremaining: 1m 31s\n",
      "941:\tlearn: 0.5288514\ttest: 0.5192536\tbest: 0.5192536 (941)\ttotal: 24m 17s\tremaining: 1m 29s\n",
      "942:\tlearn: 0.5288433\ttest: 0.5192486\tbest: 0.5192486 (942)\ttotal: 24m 18s\tremaining: 1m 28s\n",
      "943:\tlearn: 0.5288329\ttest: 0.5192413\tbest: 0.5192413 (943)\ttotal: 24m 19s\tremaining: 1m 26s\n",
      "944:\tlearn: 0.5288246\ttest: 0.5192356\tbest: 0.5192356 (944)\ttotal: 24m 21s\tremaining: 1m 25s\n",
      "945:\tlearn: 0.5288154\ttest: 0.5192316\tbest: 0.5192316 (945)\ttotal: 24m 23s\tremaining: 1m 23s\n",
      "946:\tlearn: 0.5288093\ttest: 0.5192291\tbest: 0.5192291 (946)\ttotal: 24m 24s\tremaining: 1m 21s\n",
      "947:\tlearn: 0.5288029\ttest: 0.5192194\tbest: 0.5192194 (947)\ttotal: 24m 26s\tremaining: 1m 20s\n",
      "948:\tlearn: 0.5287976\ttest: 0.5192193\tbest: 0.5192193 (948)\ttotal: 24m 27s\tremaining: 1m 18s\n",
      "949:\tlearn: 0.5287925\ttest: 0.5192157\tbest: 0.5192157 (949)\ttotal: 24m 29s\tremaining: 1m 17s\n",
      "950:\tlearn: 0.5287872\ttest: 0.5192124\tbest: 0.5192124 (950)\ttotal: 24m 30s\tremaining: 1m 15s\n",
      "951:\tlearn: 0.5287762\ttest: 0.5192032\tbest: 0.5192032 (951)\ttotal: 24m 31s\tremaining: 1m 14s\n",
      "952:\tlearn: 0.5287660\ttest: 0.5191925\tbest: 0.5191925 (952)\ttotal: 24m 33s\tremaining: 1m 12s\n",
      "953:\tlearn: 0.5287567\ttest: 0.5191825\tbest: 0.5191825 (953)\ttotal: 24m 34s\tremaining: 1m 11s\n",
      "954:\tlearn: 0.5287534\ttest: 0.5191414\tbest: 0.5191414 (954)\ttotal: 24m 36s\tremaining: 1m 9s\n",
      "955:\tlearn: 0.5287444\ttest: 0.5191398\tbest: 0.5191398 (955)\ttotal: 24m 38s\tremaining: 1m 8s\n",
      "956:\tlearn: 0.5287369\ttest: 0.5191350\tbest: 0.5191350 (956)\ttotal: 24m 39s\tremaining: 1m 6s\n",
      "957:\tlearn: 0.5287276\ttest: 0.5191269\tbest: 0.5191269 (957)\ttotal: 24m 41s\tremaining: 1m 4s\n",
      "958:\tlearn: 0.5287169\ttest: 0.5191202\tbest: 0.5191202 (958)\ttotal: 24m 42s\tremaining: 1m 3s\n",
      "959:\tlearn: 0.5287067\ttest: 0.5191185\tbest: 0.5191185 (959)\ttotal: 24m 44s\tremaining: 1m 1s\n",
      "960:\tlearn: 0.5286990\ttest: 0.5191118\tbest: 0.5191118 (960)\ttotal: 24m 45s\tremaining: 1m\n",
      "961:\tlearn: 0.5286908\ttest: 0.5191068\tbest: 0.5191068 (961)\ttotal: 24m 46s\tremaining: 58.7s\n",
      "962:\tlearn: 0.5286817\ttest: 0.5190984\tbest: 0.5190984 (962)\ttotal: 24m 48s\tremaining: 57.2s\n",
      "963:\tlearn: 0.5286747\ttest: 0.5190928\tbest: 0.5190928 (963)\ttotal: 24m 50s\tremaining: 55.6s\n",
      "964:\tlearn: 0.5286700\ttest: 0.5190913\tbest: 0.5190913 (964)\ttotal: 24m 51s\tremaining: 54.1s\n",
      "965:\tlearn: 0.5286614\ttest: 0.5190849\tbest: 0.5190849 (965)\ttotal: 24m 52s\tremaining: 52.5s\n",
      "966:\tlearn: 0.5286484\ttest: 0.5190708\tbest: 0.5190708 (966)\ttotal: 24m 54s\tremaining: 51s\n",
      "967:\tlearn: 0.5286449\ttest: 0.5190228\tbest: 0.5190228 (967)\ttotal: 24m 55s\tremaining: 49.4s\n",
      "968:\tlearn: 0.5286318\ttest: 0.5190167\tbest: 0.5190167 (968)\ttotal: 24m 56s\tremaining: 47.9s\n",
      "969:\tlearn: 0.5286232\ttest: 0.5190107\tbest: 0.5190107 (969)\ttotal: 24m 58s\tremaining: 46.3s\n",
      "970:\tlearn: 0.5286192\ttest: 0.5190090\tbest: 0.5190090 (970)\ttotal: 24m 59s\tremaining: 44.8s\n",
      "971:\tlearn: 0.5286089\ttest: 0.5190005\tbest: 0.5190005 (971)\ttotal: 25m 1s\tremaining: 43.2s\n",
      "972:\tlearn: 0.5286009\ttest: 0.5189955\tbest: 0.5189955 (972)\ttotal: 25m 2s\tremaining: 41.7s\n",
      "973:\tlearn: 0.5285929\ttest: 0.5189963\tbest: 0.5189955 (972)\ttotal: 25m 5s\tremaining: 40.2s\n",
      "974:\tlearn: 0.5285817\ttest: 0.5189773\tbest: 0.5189773 (974)\ttotal: 25m 7s\tremaining: 38.6s\n",
      "975:\tlearn: 0.5285772\ttest: 0.5189752\tbest: 0.5189752 (975)\ttotal: 25m 8s\tremaining: 37.1s\n",
      "976:\tlearn: 0.5285696\ttest: 0.5189701\tbest: 0.5189701 (976)\ttotal: 25m 10s\tremaining: 35.6s\n",
      "977:\tlearn: 0.5285629\ttest: 0.5189659\tbest: 0.5189659 (977)\ttotal: 25m 11s\tremaining: 34s\n",
      "978:\tlearn: 0.5285564\ttest: 0.5189604\tbest: 0.5189604 (978)\ttotal: 25m 12s\tremaining: 32.4s\n"
     ]
    },
    {
     "name": "stdout",
     "output_type": "stream",
     "text": [
      "979:\tlearn: 0.5285503\ttest: 0.5189605\tbest: 0.5189604 (978)\ttotal: 25m 14s\tremaining: 30.9s\n",
      "980:\tlearn: 0.5285450\ttest: 0.5189565\tbest: 0.5189565 (980)\ttotal: 25m 16s\tremaining: 29.4s\n",
      "981:\tlearn: 0.5285369\ttest: 0.5189530\tbest: 0.5189530 (981)\ttotal: 25m 17s\tremaining: 27.8s\n",
      "982:\tlearn: 0.5285293\ttest: 0.5189481\tbest: 0.5189481 (982)\ttotal: 25m 18s\tremaining: 26.3s\n",
      "983:\tlearn: 0.5285256\ttest: 0.5189472\tbest: 0.5189472 (983)\ttotal: 25m 20s\tremaining: 24.7s\n",
      "984:\tlearn: 0.5285161\ttest: 0.5189384\tbest: 0.5189384 (984)\ttotal: 25m 21s\tremaining: 23.2s\n",
      "985:\tlearn: 0.5285086\ttest: 0.5189377\tbest: 0.5189377 (985)\ttotal: 25m 23s\tremaining: 21.6s\n",
      "986:\tlearn: 0.5285005\ttest: 0.5189332\tbest: 0.5189332 (986)\ttotal: 25m 25s\tremaining: 20.1s\n",
      "987:\tlearn: 0.5284893\ttest: 0.5189293\tbest: 0.5189293 (987)\ttotal: 25m 26s\tremaining: 18.5s\n",
      "988:\tlearn: 0.5284809\ttest: 0.5189277\tbest: 0.5189277 (988)\ttotal: 25m 27s\tremaining: 17s\n",
      "989:\tlearn: 0.5284675\ttest: 0.5189161\tbest: 0.5189161 (989)\ttotal: 25m 28s\tremaining: 15.4s\n",
      "990:\tlearn: 0.5284587\ttest: 0.5188253\tbest: 0.5188253 (990)\ttotal: 25m 30s\tremaining: 13.9s\n",
      "991:\tlearn: 0.5284535\ttest: 0.5188219\tbest: 0.5188219 (991)\ttotal: 25m 32s\tremaining: 12.4s\n",
      "992:\tlearn: 0.5284430\ttest: 0.5188160\tbest: 0.5188160 (992)\ttotal: 25m 33s\tremaining: 10.8s\n",
      "993:\tlearn: 0.5284379\ttest: 0.5188149\tbest: 0.5188149 (993)\ttotal: 25m 35s\tremaining: 9.27s\n",
      "994:\tlearn: 0.5284274\ttest: 0.5188019\tbest: 0.5188019 (994)\ttotal: 25m 36s\tremaining: 7.72s\n",
      "995:\tlearn: 0.5284188\ttest: 0.5187974\tbest: 0.5187974 (995)\ttotal: 25m 39s\tremaining: 6.18s\n",
      "996:\tlearn: 0.5284138\ttest: 0.5187647\tbest: 0.5187647 (996)\ttotal: 25m 40s\tremaining: 4.64s\n",
      "997:\tlearn: 0.5284072\ttest: 0.5187569\tbest: 0.5187569 (997)\ttotal: 25m 41s\tremaining: 3.09s\n",
      "998:\tlearn: 0.5284021\ttest: 0.5187543\tbest: 0.5187543 (998)\ttotal: 25m 43s\tremaining: 1.54s\n",
      "999:\tlearn: 0.5283952\ttest: 0.5187511\tbest: 0.5187511 (999)\ttotal: 25m 45s\tremaining: 0us\n",
      "bestTest = 0.5187510944\n",
      "bestIteration = 999\n",
      "Shrink model to first 1000 iterations.\n"
     ]
    },
    {
     "data": {
      "text/plain": [
       "<catboost.core.CatBoostRegressor at 0x7f720f32a950>"
      ]
     },
     "execution_count": 11,
     "metadata": {},
     "output_type": "execute_result"
    }
   ],
   "source": [
    "# пролагарифмируем целевую переменную, поскольку в соревновании используется RMSLE\n",
    "y = np.log(train_1['Adjusted_demand']+1)\n",
    "y_val = np.log(val_1['Adjusted_demand']+1)\n",
    "model = CatBoostRegressor(task_type='GPU')\n",
    "model.fit(train_1.iloc[:, :5], y, eval_set=(val_1.iloc[:, :5], y_val), cat_features=cat_columns)"
   ]
  },
  {
   "cell_type": "code",
   "execution_count": 12,
   "metadata": {},
   "outputs": [],
   "source": [
    "model.save_model('../models/cb_regressor_baseline.cbm')"
   ]
  },
  {
   "cell_type": "code",
   "execution_count": 13,
   "metadata": {},
   "outputs": [
    {
     "data": {
      "text/plain": [
       "{'learn': {'RMSE': 0.5283951750316411},\n",
       " 'validation': {'RMSE': 0.5187510943633655}}"
      ]
     },
     "execution_count": 13,
     "metadata": {},
     "output_type": "execute_result"
    }
   ],
   "source": [
    "model.get_best_score()"
   ]
  },
  {
   "cell_type": "markdown",
   "metadata": {},
   "source": [
    "На валидационной выборке получили результат метрики 0,519. Попробуем улучшить его с помощью рассчитанных статистик по срезам."
   ]
  },
  {
   "cell_type": "code",
   "execution_count": null,
   "metadata": {},
   "outputs": [],
   "source": [
    "cntr_files = os.listdir('../data/counters')"
   ]
  },
  {
   "cell_type": "markdown",
   "metadata": {},
   "source": [
    "Добавим рассчитанные статистики в качестве признаков к данным за 8 и 9 неделю. Получится 18 дополнительных числовых признаков"
   ]
  },
  {
   "cell_type": "code",
   "execution_count": 119,
   "metadata": {},
   "outputs": [
    {
     "data": {
      "application/vnd.jupyter.widget-view+json": {
       "model_id": "e7f486f1d94444e7944b3e7886369918",
       "version_major": 2,
       "version_minor": 0
      },
      "text/plain": [
       "HBox(children=(IntProgress(value=0, max=4540), HTML(value='')))"
      ]
     },
     "metadata": {},
     "output_type": "display_data"
    },
    {
     "name": "stdout",
     "output_type": "stream",
     "text": [
      "\n"
     ]
    },
    {
     "data": {
      "application/vnd.jupyter.widget-view+json": {
       "model_id": "603917383cd14f15a09d0371b9ebe7af",
       "version_major": 2,
       "version_minor": 0
      },
      "text/plain": [
       "HBox(children=(IntProgress(value=0, max=25354), HTML(value='')))"
      ]
     },
     "metadata": {},
     "output_type": "display_data"
    },
    {
     "name": "stdout",
     "output_type": "stream",
     "text": [
      "\n"
     ]
    },
    {
     "data": {
      "application/vnd.jupyter.widget-view+json": {
       "model_id": "1905cf2ff4e1477da1a37437abf253f4",
       "version_major": 2,
       "version_minor": 0
      },
      "text/plain": [
       "HBox(children=(IntProgress(value=0, max=755), HTML(value='')))"
      ]
     },
     "metadata": {},
     "output_type": "display_data"
    },
    {
     "name": "stdout",
     "output_type": "stream",
     "text": [
      "\n"
     ]
    },
    {
     "data": {
      "application/vnd.jupyter.widget-view+json": {
       "model_id": "04a585db2710408185adcdc5d7a52acd",
       "version_major": 2,
       "version_minor": 0
      },
      "text/plain": [
       "HBox(children=(IntProgress(value=0, max=72438), HTML(value='')))"
      ]
     },
     "metadata": {},
     "output_type": "display_data"
    },
    {
     "name": "stdout",
     "output_type": "stream",
     "text": [
      "\n"
     ]
    },
    {
     "data": {
      "application/vnd.jupyter.widget-view+json": {
       "model_id": "cb490577665e48b9a9c9ade667964a2b",
       "version_major": 2,
       "version_minor": 0
      },
      "text/plain": [
       "HBox(children=(IntProgress(value=0, max=204275), HTML(value='')))"
      ]
     },
     "metadata": {},
     "output_type": "display_data"
    },
    {
     "name": "stdout",
     "output_type": "stream",
     "text": [
      "\n"
     ]
    },
    {
     "data": {
      "application/vnd.jupyter.widget-view+json": {
       "model_id": "22e9a634656649fd83472e7b4e9fc9a5",
       "version_major": 2,
       "version_minor": 0
      },
      "text/plain": [
       "HBox(children=(IntProgress(value=0, max=3314), HTML(value='')))"
      ]
     },
     "metadata": {},
     "output_type": "display_data"
    },
    {
     "name": "stdout",
     "output_type": "stream",
     "text": [
      "\n",
      "CPU times: user 3d 10h 11min 12s, sys: 9h 51min 16s, total: 3d 20h 2min 29s\n",
      "Wall time: 15h 19min 55s\n"
     ]
    }
   ],
   "source": [
    "%%time\n",
    "train_1 = train_data.loc[train_data['Week'] >= 8, cat_columns + ['Adjusted_demand']]\n",
    "# file = cntr_files[0]\n",
    "for file in cntr_files[:1]:\n",
    "    counter_col_name = f'Count_{file[2:-4]}'\n",
    "    median_col_name = f'Median_{file[2:-4]}'\n",
    "    mean_col_name = f'Mean_{file[2:-4]}'\n",
    "    train_1[counter_col_name] = 0\n",
    "    train_1[median_col_name] = 0\n",
    "    train_1[mean_col_name] = 0\n",
    "    c, mean, med = pickle.load(open(os.path.join('../data/counters', file), 'rb'))\n",
    "    sl = c.index.names\n",
    "    \n",
    "    # создадим двухуровневый индекс из комбинаций всех значений в двух категориальных столбцах\n",
    "    index = pd.MultiIndex.from_frame(train_1.loc[:, [sl[0], sl[1]]].drop_duplicates())\n",
    "\n",
    "    for i1, i2 in tqdm_notebook(index.to_flat_index().values):\n",
    "        try:\n",
    "            train_1.loc[(train_1[sl[0]] == i1) & (train_1[sl[1]] == i2),\n",
    "                        [counter_col_name, mean_col_name, median_col_name]] = [c[i1,i2], mean[i1,i2], med[i1,i2]]\n",
    "        except KeyError:\n",
    "            continue"
   ]
  },
  {
   "cell_type": "code",
   "execution_count": 120,
   "metadata": {},
   "outputs": [],
   "source": [
    "train_1.to_csv('../data/train_1.csv')"
   ]
  },
  {
   "cell_type": "code",
   "execution_count": null,
   "metadata": {},
   "outputs": [],
   "source": []
  },
  {
   "cell_type": "markdown",
   "metadata": {},
   "source": [
    "Модель с дополнительными признаками рассчитывалась в отдельном скрипте main.py, чтобы уложиться в лимиты памяти. Метрика RMSLE получилась равной 0.506. Мы улучшили базовую модель на 0.013 с помощью дополнительных признаков. Для submission на kaggle необходимо пересчитать данные признаки на 5-9 неделях, что не представляется возможным из-за отсутствия вычислительных ресурсов."
   ]
  },
  {
   "cell_type": "code",
   "execution_count": null,
   "metadata": {},
   "outputs": [],
   "source": []
  }
 ],
 "metadata": {
  "kernelspec": {
   "display_name": "Python 3",
   "language": "python",
   "name": "python3"
  },
  "language_info": {
   "codemirror_mode": {
    "name": "ipython",
    "version": 3
   },
   "file_extension": ".py",
   "mimetype": "text/x-python",
   "name": "python",
   "nbconvert_exporter": "python",
   "pygments_lexer": "ipython3",
   "version": "3.7.3"
  },
  "pycharm": {
   "stem_cell": {
    "cell_type": "raw",
    "metadata": {
     "collapsed": false
    },
    "source": []
   }
  }
 },
 "nbformat": 4,
 "nbformat_minor": 1
}
